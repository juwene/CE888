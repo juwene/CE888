{
 "cells": [
  {
   "cell_type": "code",
   "execution_count": 1,
   "id": "37c2d327",
   "metadata": {},
   "outputs": [],
   "source": [
    "import matplotlib\n",
    "import numpy as np\n",
    "import matplotlib.pyplot as plt\n",
    "import pandas as pd\n",
    "import seaborn as sns\n",
    "\n",
    "import itertools\n",
    "\n",
    "from sklearn.model_selection import train_test_split, StratifiedShuffleSplit, cross_val_score\n",
    "\n",
    "from sklearn.preprocessing import LabelEncoder, StandardScaler, OneHotEncoder\n",
    "from sklearn.compose import ColumnTransformer\n",
    "from sklearn.base import BaseEstimator, TransformerMixin\n",
    "from sklearn.pipeline import Pipeline\n",
    "\n",
    "from sklearn.tree import DecisionTreeRegressor\n",
    "from sklearn.ensemble import RandomForestRegressor, GradientBoostingRegressor, RandomForestClassifier, ExtraTreesClassifier\n",
    "from sklearn.linear_model import SGDRegressor, BayesianRidge\n",
    "from sklearn.metrics import mean_squared_error as mse\n",
    "from sklearn.metrics import mean_absolute_error as mae\n",
    "from sklearn.metrics import accuracy_score as acc\n",
    "from sklearn.metrics import make_scorer, confusion_matrix\n",
    "from sklearn.dummy import DummyRegressor, DummyClassifier"
   ]
  },
  {
   "cell_type": "code",
   "execution_count": 2,
   "id": "e607f55c",
   "metadata": {},
   "outputs": [],
   "source": [
    "df = pd.read_csv(\"jobs.csv\")"
   ]
  },
  {
   "cell_type": "code",
   "execution_count": 3,
   "id": "d48aa1d1",
   "metadata": {},
   "outputs": [
    {
     "data": {
      "text/html": [
       "<div>\n",
       "<style scoped>\n",
       "    .dataframe tbody tr th:only-of-type {\n",
       "        vertical-align: middle;\n",
       "    }\n",
       "\n",
       "    .dataframe tbody tr th {\n",
       "        vertical-align: top;\n",
       "    }\n",
       "\n",
       "    .dataframe thead th {\n",
       "        text-align: right;\n",
       "    }\n",
       "</style>\n",
       "<table border=\"1\" class=\"dataframe\">\n",
       "  <thead>\n",
       "    <tr style=\"text-align: right;\">\n",
       "      <th></th>\n",
       "      <th>x1</th>\n",
       "      <th>x2</th>\n",
       "      <th>x3</th>\n",
       "      <th>x4</th>\n",
       "      <th>x5</th>\n",
       "      <th>x6</th>\n",
       "      <th>x7</th>\n",
       "      <th>x8</th>\n",
       "      <th>x9</th>\n",
       "      <th>x10</th>\n",
       "      <th>x11</th>\n",
       "      <th>x12</th>\n",
       "      <th>x13</th>\n",
       "      <th>x14</th>\n",
       "      <th>x15</th>\n",
       "      <th>x16</th>\n",
       "      <th>x17</th>\n",
       "      <th>t</th>\n",
       "      <th>y</th>\n",
       "      <th>e</th>\n",
       "    </tr>\n",
       "  </thead>\n",
       "  <tbody>\n",
       "    <tr>\n",
       "      <th>0</th>\n",
       "      <td>-0.614282</td>\n",
       "      <td>1.464727</td>\n",
       "      <td>0.0</td>\n",
       "      <td>0.0</td>\n",
       "      <td>1.0</td>\n",
       "      <td>0.0</td>\n",
       "      <td>2.393250</td>\n",
       "      <td>2.746196</td>\n",
       "      <td>-0.653311</td>\n",
       "      <td>-0.656913</td>\n",
       "      <td>1.627531</td>\n",
       "      <td>2.462337</td>\n",
       "      <td>2.937244</td>\n",
       "      <td>0.0</td>\n",
       "      <td>0.0</td>\n",
       "      <td>2.843909</td>\n",
       "      <td>0.0</td>\n",
       "      <td>0.0</td>\n",
       "      <td>1.0</td>\n",
       "      <td>0.0</td>\n",
       "    </tr>\n",
       "    <tr>\n",
       "      <th>1</th>\n",
       "      <td>-0.802463</td>\n",
       "      <td>0.101835</td>\n",
       "      <td>0.0</td>\n",
       "      <td>0.0</td>\n",
       "      <td>1.0</td>\n",
       "      <td>0.0</td>\n",
       "      <td>0.109885</td>\n",
       "      <td>0.498271</td>\n",
       "      <td>-0.785284</td>\n",
       "      <td>-0.743407</td>\n",
       "      <td>-0.022502</td>\n",
       "      <td>-0.177193</td>\n",
       "      <td>0.082537</td>\n",
       "      <td>0.0</td>\n",
       "      <td>0.0</td>\n",
       "      <td>0.038422</td>\n",
       "      <td>0.0</td>\n",
       "      <td>0.0</td>\n",
       "      <td>1.0</td>\n",
       "      <td>0.0</td>\n",
       "    </tr>\n",
       "    <tr>\n",
       "      <th>2</th>\n",
       "      <td>-0.896553</td>\n",
       "      <td>-0.238888</td>\n",
       "      <td>1.0</td>\n",
       "      <td>0.0</td>\n",
       "      <td>1.0</td>\n",
       "      <td>1.0</td>\n",
       "      <td>-0.085212</td>\n",
       "      <td>-0.148097</td>\n",
       "      <td>-0.847312</td>\n",
       "      <td>-0.781606</td>\n",
       "      <td>-0.361348</td>\n",
       "      <td>-0.286221</td>\n",
       "      <td>-0.303615</td>\n",
       "      <td>0.0</td>\n",
       "      <td>0.0</td>\n",
       "      <td>-0.191304</td>\n",
       "      <td>0.0</td>\n",
       "      <td>0.0</td>\n",
       "      <td>1.0</td>\n",
       "      <td>0.0</td>\n",
       "    </tr>\n",
       "    <tr>\n",
       "      <th>3</th>\n",
       "      <td>-0.896553</td>\n",
       "      <td>-0.238888</td>\n",
       "      <td>0.0</td>\n",
       "      <td>0.0</td>\n",
       "      <td>0.0</td>\n",
       "      <td>1.0</td>\n",
       "      <td>0.405581</td>\n",
       "      <td>0.325594</td>\n",
       "      <td>-0.847312</td>\n",
       "      <td>-0.781606</td>\n",
       "      <td>-0.361348</td>\n",
       "      <td>0.023020</td>\n",
       "      <td>-0.039630</td>\n",
       "      <td>0.0</td>\n",
       "      <td>0.0</td>\n",
       "      <td>0.173108</td>\n",
       "      <td>0.0</td>\n",
       "      <td>0.0</td>\n",
       "      <td>1.0</td>\n",
       "      <td>1.0</td>\n",
       "    </tr>\n",
       "    <tr>\n",
       "      <th>4</th>\n",
       "      <td>0.138440</td>\n",
       "      <td>-1.601779</td>\n",
       "      <td>1.0</td>\n",
       "      <td>0.0</td>\n",
       "      <td>1.0</td>\n",
       "      <td>1.0</td>\n",
       "      <td>-0.722531</td>\n",
       "      <td>-0.212734</td>\n",
       "      <td>-0.019840</td>\n",
       "      <td>-0.156019</td>\n",
       "      <td>-1.422084</td>\n",
       "      <td>-0.514563</td>\n",
       "      <td>-0.331552</td>\n",
       "      <td>0.0</td>\n",
       "      <td>0.0</td>\n",
       "      <td>-0.779227</td>\n",
       "      <td>0.0</td>\n",
       "      <td>0.0</td>\n",
       "      <td>1.0</td>\n",
       "      <td>0.0</td>\n",
       "    </tr>\n",
       "    <tr>\n",
       "      <th>...</th>\n",
       "      <td>...</td>\n",
       "      <td>...</td>\n",
       "      <td>...</td>\n",
       "      <td>...</td>\n",
       "      <td>...</td>\n",
       "      <td>...</td>\n",
       "      <td>...</td>\n",
       "      <td>...</td>\n",
       "      <td>...</td>\n",
       "      <td>...</td>\n",
       "      <td>...</td>\n",
       "      <td>...</td>\n",
       "      <td>...</td>\n",
       "      <td>...</td>\n",
       "      <td>...</td>\n",
       "      <td>...</td>\n",
       "      <td>...</td>\n",
       "      <td>...</td>\n",
       "      <td>...</td>\n",
       "      <td>...</td>\n",
       "    </tr>\n",
       "    <tr>\n",
       "      <th>3207</th>\n",
       "      <td>1.737976</td>\n",
       "      <td>1.805449</td>\n",
       "      <td>0.0</td>\n",
       "      <td>0.0</td>\n",
       "      <td>1.0</td>\n",
       "      <td>0.0</td>\n",
       "      <td>4.235839</td>\n",
       "      <td>-1.110467</td>\n",
       "      <td>1.887171</td>\n",
       "      <td>1.995900</td>\n",
       "      <td>2.113702</td>\n",
       "      <td>6.424008</td>\n",
       "      <td>-0.518815</td>\n",
       "      <td>0.0</td>\n",
       "      <td>1.0</td>\n",
       "      <td>5.197260</td>\n",
       "      <td>0.0</td>\n",
       "      <td>0.0</td>\n",
       "      <td>0.0</td>\n",
       "      <td>0.0</td>\n",
       "    </tr>\n",
       "    <tr>\n",
       "      <th>3208</th>\n",
       "      <td>-0.520192</td>\n",
       "      <td>0.101835</td>\n",
       "      <td>0.0</td>\n",
       "      <td>0.0</td>\n",
       "      <td>0.0</td>\n",
       "      <td>0.0</td>\n",
       "      <td>0.239950</td>\n",
       "      <td>0.289997</td>\n",
       "      <td>-0.583365</td>\n",
       "      <td>-0.608340</td>\n",
       "      <td>-0.022502</td>\n",
       "      <td>-0.094318</td>\n",
       "      <td>-0.063091</td>\n",
       "      <td>0.0</td>\n",
       "      <td>0.0</td>\n",
       "      <td>0.143774</td>\n",
       "      <td>0.0</td>\n",
       "      <td>0.0</td>\n",
       "      <td>1.0</td>\n",
       "      <td>0.0</td>\n",
       "    </tr>\n",
       "    <tr>\n",
       "      <th>3209</th>\n",
       "      <td>-0.802463</td>\n",
       "      <td>0.442558</td>\n",
       "      <td>1.0</td>\n",
       "      <td>0.0</td>\n",
       "      <td>0.0</td>\n",
       "      <td>0.0</td>\n",
       "      <td>0.124337</td>\n",
       "      <td>0.692182</td>\n",
       "      <td>-0.785284</td>\n",
       "      <td>-0.743407</td>\n",
       "      <td>0.345809</td>\n",
       "      <td>-0.168387</td>\n",
       "      <td>0.236242</td>\n",
       "      <td>0.0</td>\n",
       "      <td>0.0</td>\n",
       "      <td>0.135970</td>\n",
       "      <td>0.0</td>\n",
       "      <td>0.0</td>\n",
       "      <td>1.0</td>\n",
       "      <td>0.0</td>\n",
       "    </tr>\n",
       "    <tr>\n",
       "      <th>3210</th>\n",
       "      <td>0.702982</td>\n",
       "      <td>0.101835</td>\n",
       "      <td>0.0</td>\n",
       "      <td>0.0</td>\n",
       "      <td>1.0</td>\n",
       "      <td>0.0</td>\n",
       "      <td>0.341112</td>\n",
       "      <td>0.670636</td>\n",
       "      <td>0.566120</td>\n",
       "      <td>0.413295</td>\n",
       "      <td>-0.022502</td>\n",
       "      <td>-0.024223</td>\n",
       "      <td>0.218301</td>\n",
       "      <td>0.0</td>\n",
       "      <td>0.0</td>\n",
       "      <td>0.225715</td>\n",
       "      <td>0.0</td>\n",
       "      <td>0.0</td>\n",
       "      <td>1.0</td>\n",
       "      <td>0.0</td>\n",
       "    </tr>\n",
       "    <tr>\n",
       "      <th>3211</th>\n",
       "      <td>1.455705</td>\n",
       "      <td>0.101835</td>\n",
       "      <td>0.0</td>\n",
       "      <td>0.0</td>\n",
       "      <td>1.0</td>\n",
       "      <td>0.0</td>\n",
       "      <td>-1.147411</td>\n",
       "      <td>-1.110467</td>\n",
       "      <td>1.495211</td>\n",
       "      <td>1.487376</td>\n",
       "      <td>-0.022502</td>\n",
       "      <td>-0.558057</td>\n",
       "      <td>-0.518815</td>\n",
       "      <td>1.0</td>\n",
       "      <td>1.0</td>\n",
       "      <td>-0.979981</td>\n",
       "      <td>0.0</td>\n",
       "      <td>0.0</td>\n",
       "      <td>1.0</td>\n",
       "      <td>0.0</td>\n",
       "    </tr>\n",
       "  </tbody>\n",
       "</table>\n",
       "<p>3212 rows × 20 columns</p>\n",
       "</div>"
      ],
      "text/plain": [
       "            x1        x2   x3   x4   x5   x6        x7        x8        x9  \\\n",
       "0    -0.614282  1.464727  0.0  0.0  1.0  0.0  2.393250  2.746196 -0.653311   \n",
       "1    -0.802463  0.101835  0.0  0.0  1.0  0.0  0.109885  0.498271 -0.785284   \n",
       "2    -0.896553 -0.238888  1.0  0.0  1.0  1.0 -0.085212 -0.148097 -0.847312   \n",
       "3    -0.896553 -0.238888  0.0  0.0  0.0  1.0  0.405581  0.325594 -0.847312   \n",
       "4     0.138440 -1.601779  1.0  0.0  1.0  1.0 -0.722531 -0.212734 -0.019840   \n",
       "...        ...       ...  ...  ...  ...  ...       ...       ...       ...   \n",
       "3207  1.737976  1.805449  0.0  0.0  1.0  0.0  4.235839 -1.110467  1.887171   \n",
       "3208 -0.520192  0.101835  0.0  0.0  0.0  0.0  0.239950  0.289997 -0.583365   \n",
       "3209 -0.802463  0.442558  1.0  0.0  0.0  0.0  0.124337  0.692182 -0.785284   \n",
       "3210  0.702982  0.101835  0.0  0.0  1.0  0.0  0.341112  0.670636  0.566120   \n",
       "3211  1.455705  0.101835  0.0  0.0  1.0  0.0 -1.147411 -1.110467  1.495211   \n",
       "\n",
       "           x10       x11       x12       x13  x14  x15       x16  x17    t  \\\n",
       "0    -0.656913  1.627531  2.462337  2.937244  0.0  0.0  2.843909  0.0  0.0   \n",
       "1    -0.743407 -0.022502 -0.177193  0.082537  0.0  0.0  0.038422  0.0  0.0   \n",
       "2    -0.781606 -0.361348 -0.286221 -0.303615  0.0  0.0 -0.191304  0.0  0.0   \n",
       "3    -0.781606 -0.361348  0.023020 -0.039630  0.0  0.0  0.173108  0.0  0.0   \n",
       "4    -0.156019 -1.422084 -0.514563 -0.331552  0.0  0.0 -0.779227  0.0  0.0   \n",
       "...        ...       ...       ...       ...  ...  ...       ...  ...  ...   \n",
       "3207  1.995900  2.113702  6.424008 -0.518815  0.0  1.0  5.197260  0.0  0.0   \n",
       "3208 -0.608340 -0.022502 -0.094318 -0.063091  0.0  0.0  0.143774  0.0  0.0   \n",
       "3209 -0.743407  0.345809 -0.168387  0.236242  0.0  0.0  0.135970  0.0  0.0   \n",
       "3210  0.413295 -0.022502 -0.024223  0.218301  0.0  0.0  0.225715  0.0  0.0   \n",
       "3211  1.487376 -0.022502 -0.558057 -0.518815  1.0  1.0 -0.979981  0.0  0.0   \n",
       "\n",
       "        y    e  \n",
       "0     1.0  0.0  \n",
       "1     1.0  0.0  \n",
       "2     1.0  0.0  \n",
       "3     1.0  1.0  \n",
       "4     1.0  0.0  \n",
       "...   ...  ...  \n",
       "3207  0.0  0.0  \n",
       "3208  1.0  0.0  \n",
       "3209  1.0  0.0  \n",
       "3210  1.0  0.0  \n",
       "3211  1.0  0.0  \n",
       "\n",
       "[3212 rows x 20 columns]"
      ]
     },
     "execution_count": 3,
     "metadata": {},
     "output_type": "execute_result"
    }
   ],
   "source": [
    "df"
   ]
  },
  {
   "cell_type": "code",
   "execution_count": 4,
   "id": "bc6b5b2e",
   "metadata": {},
   "outputs": [
    {
     "data": {
      "text/plain": [
       "Index(['x1', 'x2', 'x3', 'x4', 'x5', 'x6', 'x7', 'x8', 'x9', 'x10', 'x11',\n",
       "       'x12', 'x13', 'x14', 'x15', 'x16', 'x17', 't', 'y', 'e'],\n",
       "      dtype='object')"
      ]
     },
     "execution_count": 4,
     "metadata": {},
     "output_type": "execute_result"
    }
   ],
   "source": [
    "df.columns"
   ]
  },
  {
   "cell_type": "code",
   "execution_count": 5,
   "id": "65f02827",
   "metadata": {},
   "outputs": [
    {
     "name": "stdout",
     "output_type": "stream",
     "text": [
      "<class 'pandas.core.frame.DataFrame'>\n",
      "RangeIndex: 3212 entries, 0 to 3211\n",
      "Data columns (total 20 columns):\n",
      " #   Column  Non-Null Count  Dtype  \n",
      "---  ------  --------------  -----  \n",
      " 0   x1      3212 non-null   float64\n",
      " 1   x2      3212 non-null   float64\n",
      " 2   x3      3212 non-null   float64\n",
      " 3   x4      3212 non-null   float64\n",
      " 4   x5      3212 non-null   float64\n",
      " 5   x6      3212 non-null   float64\n",
      " 6   x7      3212 non-null   float64\n",
      " 7   x8      3212 non-null   float64\n",
      " 8   x9      3212 non-null   float64\n",
      " 9   x10     3212 non-null   float64\n",
      " 10  x11     3212 non-null   float64\n",
      " 11  x12     3212 non-null   float64\n",
      " 12  x13     3212 non-null   float64\n",
      " 13  x14     3212 non-null   float64\n",
      " 14  x15     3212 non-null   float64\n",
      " 15  x16     3212 non-null   float64\n",
      " 16  x17     3212 non-null   float64\n",
      " 17  t       3212 non-null   float64\n",
      " 18  y       3212 non-null   float64\n",
      " 19  e       3212 non-null   float64\n",
      "dtypes: float64(20)\n",
      "memory usage: 502.0 KB\n"
     ]
    }
   ],
   "source": [
    "df.info()"
   ]
  },
  {
   "cell_type": "code",
   "execution_count": 6,
   "id": "e82719b4",
   "metadata": {},
   "outputs": [
    {
     "data": {
      "text/html": [
       "<div>\n",
       "<style scoped>\n",
       "    .dataframe tbody tr th:only-of-type {\n",
       "        vertical-align: middle;\n",
       "    }\n",
       "\n",
       "    .dataframe tbody tr th {\n",
       "        vertical-align: top;\n",
       "    }\n",
       "\n",
       "    .dataframe thead th {\n",
       "        text-align: right;\n",
       "    }\n",
       "</style>\n",
       "<table border=\"1\" class=\"dataframe\">\n",
       "  <thead>\n",
       "    <tr style=\"text-align: right;\">\n",
       "      <th></th>\n",
       "      <th>x1</th>\n",
       "      <th>x2</th>\n",
       "      <th>x3</th>\n",
       "      <th>x4</th>\n",
       "      <th>x5</th>\n",
       "      <th>x6</th>\n",
       "      <th>x7</th>\n",
       "      <th>x8</th>\n",
       "      <th>x9</th>\n",
       "      <th>x10</th>\n",
       "      <th>x11</th>\n",
       "      <th>x12</th>\n",
       "      <th>x13</th>\n",
       "      <th>x14</th>\n",
       "      <th>x15</th>\n",
       "      <th>x16</th>\n",
       "      <th>x17</th>\n",
       "      <th>t</th>\n",
       "      <th>y</th>\n",
       "      <th>e</th>\n",
       "    </tr>\n",
       "  </thead>\n",
       "  <tbody>\n",
       "    <tr>\n",
       "      <th>count</th>\n",
       "      <td>3.212000e+03</td>\n",
       "      <td>3.212000e+03</td>\n",
       "      <td>3212.000000</td>\n",
       "      <td>3212.000000</td>\n",
       "      <td>3212.000000</td>\n",
       "      <td>3212.000000</td>\n",
       "      <td>3.212000e+03</td>\n",
       "      <td>3.212000e+03</td>\n",
       "      <td>3.212000e+03</td>\n",
       "      <td>3.212000e+03</td>\n",
       "      <td>3.212000e+03</td>\n",
       "      <td>3.212000e+03</td>\n",
       "      <td>3.212000e+03</td>\n",
       "      <td>3212.000000</td>\n",
       "      <td>3212.000000</td>\n",
       "      <td>3.212000e+03</td>\n",
       "      <td>3212.000000</td>\n",
       "      <td>3212.000000</td>\n",
       "      <td>3212.000000</td>\n",
       "      <td>3212.000000</td>\n",
       "    </tr>\n",
       "    <tr>\n",
       "      <th>mean</th>\n",
       "      <td>2.382901e-16</td>\n",
       "      <td>-3.820971e-16</td>\n",
       "      <td>0.374222</td>\n",
       "      <td>0.048879</td>\n",
       "      <td>0.707970</td>\n",
       "      <td>0.411893</td>\n",
       "      <td>-1.200783e-16</td>\n",
       "      <td>4.956600e-17</td>\n",
       "      <td>-6.083414e-18</td>\n",
       "      <td>1.757408e-14</td>\n",
       "      <td>-2.638422e-16</td>\n",
       "      <td>-1.168292e-17</td>\n",
       "      <td>9.429291e-17</td>\n",
       "      <td>0.168742</td>\n",
       "      <td>0.167497</td>\n",
       "      <td>1.901758e-16</td>\n",
       "      <td>0.010897</td>\n",
       "      <td>0.092466</td>\n",
       "      <td>0.849938</td>\n",
       "      <td>0.224782</td>\n",
       "    </tr>\n",
       "    <tr>\n",
       "      <th>std</th>\n",
       "      <td>1.000000e+00</td>\n",
       "      <td>1.000000e+00</td>\n",
       "      <td>0.483997</td>\n",
       "      <td>0.215649</td>\n",
       "      <td>0.454767</td>\n",
       "      <td>0.492253</td>\n",
       "      <td>1.000000e+00</td>\n",
       "      <td>1.000000e+00</td>\n",
       "      <td>1.000000e+00</td>\n",
       "      <td>1.000000e+00</td>\n",
       "      <td>1.000000e+00</td>\n",
       "      <td>1.000000e+00</td>\n",
       "      <td>1.000000e+00</td>\n",
       "      <td>0.374582</td>\n",
       "      <td>0.373477</td>\n",
       "      <td>1.000000e+00</td>\n",
       "      <td>0.103833</td>\n",
       "      <td>0.289727</td>\n",
       "      <td>0.357188</td>\n",
       "      <td>0.417504</td>\n",
       "    </tr>\n",
       "    <tr>\n",
       "      <th>min</th>\n",
       "      <td>-1.461095e+00</td>\n",
       "      <td>-3.986840e+00</td>\n",
       "      <td>0.000000</td>\n",
       "      <td>0.000000</td>\n",
       "      <td>0.000000</td>\n",
       "      <td>0.000000</td>\n",
       "      <td>-1.147411e+00</td>\n",
       "      <td>-1.110467e+00</td>\n",
       "      <td>-1.164047e+00</td>\n",
       "      <td>-9.488316e-01</td>\n",
       "      <td>-2.143974e+00</td>\n",
       "      <td>-5.580568e-01</td>\n",
       "      <td>-5.188151e-01</td>\n",
       "      <td>0.000000</td>\n",
       "      <td>0.000000</td>\n",
       "      <td>-9.799811e-01</td>\n",
       "      <td>0.000000</td>\n",
       "      <td>0.000000</td>\n",
       "      <td>0.000000</td>\n",
       "      <td>0.000000</td>\n",
       "    </tr>\n",
       "    <tr>\n",
       "      <th>25%</th>\n",
       "      <td>-8.024627e-01</td>\n",
       "      <td>-5.796108e-01</td>\n",
       "      <td>0.000000</td>\n",
       "      <td>0.000000</td>\n",
       "      <td>0.000000</td>\n",
       "      <td>0.000000</td>\n",
       "      <td>-8.923385e-01</td>\n",
       "      <td>-9.139141e-01</td>\n",
       "      <td>-7.852843e-01</td>\n",
       "      <td>-7.434072e-01</td>\n",
       "      <td>-6.707297e-01</td>\n",
       "      <td>-5.423814e-01</td>\n",
       "      <td>-5.098380e-01</td>\n",
       "      <td>0.000000</td>\n",
       "      <td>0.000000</td>\n",
       "      <td>-8.142367e-01</td>\n",
       "      <td>0.000000</td>\n",
       "      <td>0.000000</td>\n",
       "      <td>1.000000</td>\n",
       "      <td>0.000000</td>\n",
       "    </tr>\n",
       "    <tr>\n",
       "      <th>50%</th>\n",
       "      <td>-3.320111e-01</td>\n",
       "      <td>1.018350e-01</td>\n",
       "      <td>0.000000</td>\n",
       "      <td>0.000000</td>\n",
       "      <td>1.000000</td>\n",
       "      <td>0.000000</td>\n",
       "      <td>-8.521244e-02</td>\n",
       "      <td>-8.346011e-02</td>\n",
       "      <td>-4.355556e-01</td>\n",
       "      <td>-4.998533e-01</td>\n",
       "      <td>-2.250229e-02</td>\n",
       "      <td>-2.862214e-01</td>\n",
       "      <td>-2.737369e-01</td>\n",
       "      <td>0.000000</td>\n",
       "      <td>0.000000</td>\n",
       "      <td>-2.035020e-01</td>\n",
       "      <td>0.000000</td>\n",
       "      <td>0.000000</td>\n",
       "      <td>1.000000</td>\n",
       "      <td>0.000000</td>\n",
       "    </tr>\n",
       "    <tr>\n",
       "      <th>75%</th>\n",
       "      <td>7.970728e-01</td>\n",
       "      <td>4.425579e-01</td>\n",
       "      <td>1.000000</td>\n",
       "      <td>0.000000</td>\n",
       "      <td>1.000000</td>\n",
       "      <td>1.000000</td>\n",
       "      <td>5.506613e-01</td>\n",
       "      <td>5.629081e-01</td>\n",
       "      <td>6.730184e-01</td>\n",
       "      <td>5.267384e-01</td>\n",
       "      <td>3.458087e-01</td>\n",
       "      <td>1.366588e-01</td>\n",
       "      <td>1.318304e-01</td>\n",
       "      <td>0.000000</td>\n",
       "      <td>0.000000</td>\n",
       "      <td>4.539777e-01</td>\n",
       "      <td>0.000000</td>\n",
       "      <td>0.000000</td>\n",
       "      <td>1.000000</td>\n",
       "      <td>0.000000</td>\n",
       "    </tr>\n",
       "    <tr>\n",
       "      <th>max</th>\n",
       "      <td>2.114337e+00</td>\n",
       "      <td>1.805449e+00</td>\n",
       "      <td>1.000000</td>\n",
       "      <td>1.000000</td>\n",
       "      <td>1.000000</td>\n",
       "      <td>1.000000</td>\n",
       "      <td>8.751987e+00</td>\n",
       "      <td>1.016507e+01</td>\n",
       "      <td>2.446737e+00</td>\n",
       "      <td>2.773336e+00</td>\n",
       "      <td>2.113702e+00</td>\n",
       "      <td>2.305284e+01</td>\n",
       "      <td>2.902264e+01</td>\n",
       "      <td>1.000000</td>\n",
       "      <td>1.000000</td>\n",
       "      <td>7.136030e+00</td>\n",
       "      <td>1.000000</td>\n",
       "      <td>1.000000</td>\n",
       "      <td>1.000000</td>\n",
       "      <td>1.000000</td>\n",
       "    </tr>\n",
       "  </tbody>\n",
       "</table>\n",
       "</div>"
      ],
      "text/plain": [
       "                 x1            x2           x3           x4           x5  \\\n",
       "count  3.212000e+03  3.212000e+03  3212.000000  3212.000000  3212.000000   \n",
       "mean   2.382901e-16 -3.820971e-16     0.374222     0.048879     0.707970   \n",
       "std    1.000000e+00  1.000000e+00     0.483997     0.215649     0.454767   \n",
       "min   -1.461095e+00 -3.986840e+00     0.000000     0.000000     0.000000   \n",
       "25%   -8.024627e-01 -5.796108e-01     0.000000     0.000000     0.000000   \n",
       "50%   -3.320111e-01  1.018350e-01     0.000000     0.000000     1.000000   \n",
       "75%    7.970728e-01  4.425579e-01     1.000000     0.000000     1.000000   \n",
       "max    2.114337e+00  1.805449e+00     1.000000     1.000000     1.000000   \n",
       "\n",
       "                x6            x7            x8            x9           x10  \\\n",
       "count  3212.000000  3.212000e+03  3.212000e+03  3.212000e+03  3.212000e+03   \n",
       "mean      0.411893 -1.200783e-16  4.956600e-17 -6.083414e-18  1.757408e-14   \n",
       "std       0.492253  1.000000e+00  1.000000e+00  1.000000e+00  1.000000e+00   \n",
       "min       0.000000 -1.147411e+00 -1.110467e+00 -1.164047e+00 -9.488316e-01   \n",
       "25%       0.000000 -8.923385e-01 -9.139141e-01 -7.852843e-01 -7.434072e-01   \n",
       "50%       0.000000 -8.521244e-02 -8.346011e-02 -4.355556e-01 -4.998533e-01   \n",
       "75%       1.000000  5.506613e-01  5.629081e-01  6.730184e-01  5.267384e-01   \n",
       "max       1.000000  8.751987e+00  1.016507e+01  2.446737e+00  2.773336e+00   \n",
       "\n",
       "                x11           x12           x13          x14          x15  \\\n",
       "count  3.212000e+03  3.212000e+03  3.212000e+03  3212.000000  3212.000000   \n",
       "mean  -2.638422e-16 -1.168292e-17  9.429291e-17     0.168742     0.167497   \n",
       "std    1.000000e+00  1.000000e+00  1.000000e+00     0.374582     0.373477   \n",
       "min   -2.143974e+00 -5.580568e-01 -5.188151e-01     0.000000     0.000000   \n",
       "25%   -6.707297e-01 -5.423814e-01 -5.098380e-01     0.000000     0.000000   \n",
       "50%   -2.250229e-02 -2.862214e-01 -2.737369e-01     0.000000     0.000000   \n",
       "75%    3.458087e-01  1.366588e-01  1.318304e-01     0.000000     0.000000   \n",
       "max    2.113702e+00  2.305284e+01  2.902264e+01     1.000000     1.000000   \n",
       "\n",
       "                x16          x17            t            y            e  \n",
       "count  3.212000e+03  3212.000000  3212.000000  3212.000000  3212.000000  \n",
       "mean   1.901758e-16     0.010897     0.092466     0.849938     0.224782  \n",
       "std    1.000000e+00     0.103833     0.289727     0.357188     0.417504  \n",
       "min   -9.799811e-01     0.000000     0.000000     0.000000     0.000000  \n",
       "25%   -8.142367e-01     0.000000     0.000000     1.000000     0.000000  \n",
       "50%   -2.035020e-01     0.000000     0.000000     1.000000     0.000000  \n",
       "75%    4.539777e-01     0.000000     0.000000     1.000000     0.000000  \n",
       "max    7.136030e+00     1.000000     1.000000     1.000000     1.000000  "
      ]
     },
     "execution_count": 6,
     "metadata": {},
     "output_type": "execute_result"
    }
   ],
   "source": [
    "df.describe()"
   ]
  },
  {
   "cell_type": "code",
   "execution_count": 7,
   "id": "81f32fef",
   "metadata": {},
   "outputs": [
    {
     "data": {
      "text/html": [
       "<div>\n",
       "<style scoped>\n",
       "    .dataframe tbody tr th:only-of-type {\n",
       "        vertical-align: middle;\n",
       "    }\n",
       "\n",
       "    .dataframe tbody tr th {\n",
       "        vertical-align: top;\n",
       "    }\n",
       "\n",
       "    .dataframe thead th {\n",
       "        text-align: right;\n",
       "    }\n",
       "</style>\n",
       "<table border=\"1\" class=\"dataframe\">\n",
       "  <thead>\n",
       "    <tr style=\"text-align: right;\">\n",
       "      <th></th>\n",
       "      <th>x1</th>\n",
       "      <th>x2</th>\n",
       "      <th>x3</th>\n",
       "      <th>x4</th>\n",
       "      <th>x5</th>\n",
       "      <th>x6</th>\n",
       "      <th>x7</th>\n",
       "      <th>x8</th>\n",
       "      <th>x9</th>\n",
       "      <th>x10</th>\n",
       "      <th>x11</th>\n",
       "      <th>x12</th>\n",
       "      <th>x13</th>\n",
       "      <th>x14</th>\n",
       "      <th>x15</th>\n",
       "      <th>x16</th>\n",
       "      <th>x17</th>\n",
       "      <th>t</th>\n",
       "      <th>y</th>\n",
       "      <th>e</th>\n",
       "    </tr>\n",
       "  </thead>\n",
       "  <tbody>\n",
       "    <tr>\n",
       "      <th>0</th>\n",
       "      <td>False</td>\n",
       "      <td>False</td>\n",
       "      <td>False</td>\n",
       "      <td>False</td>\n",
       "      <td>False</td>\n",
       "      <td>False</td>\n",
       "      <td>False</td>\n",
       "      <td>False</td>\n",
       "      <td>False</td>\n",
       "      <td>False</td>\n",
       "      <td>False</td>\n",
       "      <td>False</td>\n",
       "      <td>False</td>\n",
       "      <td>False</td>\n",
       "      <td>False</td>\n",
       "      <td>False</td>\n",
       "      <td>False</td>\n",
       "      <td>False</td>\n",
       "      <td>False</td>\n",
       "      <td>False</td>\n",
       "    </tr>\n",
       "    <tr>\n",
       "      <th>1</th>\n",
       "      <td>False</td>\n",
       "      <td>False</td>\n",
       "      <td>False</td>\n",
       "      <td>False</td>\n",
       "      <td>False</td>\n",
       "      <td>False</td>\n",
       "      <td>False</td>\n",
       "      <td>False</td>\n",
       "      <td>False</td>\n",
       "      <td>False</td>\n",
       "      <td>False</td>\n",
       "      <td>False</td>\n",
       "      <td>False</td>\n",
       "      <td>False</td>\n",
       "      <td>False</td>\n",
       "      <td>False</td>\n",
       "      <td>False</td>\n",
       "      <td>False</td>\n",
       "      <td>False</td>\n",
       "      <td>False</td>\n",
       "    </tr>\n",
       "    <tr>\n",
       "      <th>2</th>\n",
       "      <td>False</td>\n",
       "      <td>False</td>\n",
       "      <td>False</td>\n",
       "      <td>False</td>\n",
       "      <td>False</td>\n",
       "      <td>False</td>\n",
       "      <td>False</td>\n",
       "      <td>False</td>\n",
       "      <td>False</td>\n",
       "      <td>False</td>\n",
       "      <td>False</td>\n",
       "      <td>False</td>\n",
       "      <td>False</td>\n",
       "      <td>False</td>\n",
       "      <td>False</td>\n",
       "      <td>False</td>\n",
       "      <td>False</td>\n",
       "      <td>False</td>\n",
       "      <td>False</td>\n",
       "      <td>False</td>\n",
       "    </tr>\n",
       "    <tr>\n",
       "      <th>3</th>\n",
       "      <td>False</td>\n",
       "      <td>False</td>\n",
       "      <td>False</td>\n",
       "      <td>False</td>\n",
       "      <td>False</td>\n",
       "      <td>False</td>\n",
       "      <td>False</td>\n",
       "      <td>False</td>\n",
       "      <td>False</td>\n",
       "      <td>False</td>\n",
       "      <td>False</td>\n",
       "      <td>False</td>\n",
       "      <td>False</td>\n",
       "      <td>False</td>\n",
       "      <td>False</td>\n",
       "      <td>False</td>\n",
       "      <td>False</td>\n",
       "      <td>False</td>\n",
       "      <td>False</td>\n",
       "      <td>False</td>\n",
       "    </tr>\n",
       "    <tr>\n",
       "      <th>4</th>\n",
       "      <td>False</td>\n",
       "      <td>False</td>\n",
       "      <td>False</td>\n",
       "      <td>False</td>\n",
       "      <td>False</td>\n",
       "      <td>False</td>\n",
       "      <td>False</td>\n",
       "      <td>False</td>\n",
       "      <td>False</td>\n",
       "      <td>False</td>\n",
       "      <td>False</td>\n",
       "      <td>False</td>\n",
       "      <td>False</td>\n",
       "      <td>False</td>\n",
       "      <td>False</td>\n",
       "      <td>False</td>\n",
       "      <td>False</td>\n",
       "      <td>False</td>\n",
       "      <td>False</td>\n",
       "      <td>False</td>\n",
       "    </tr>\n",
       "    <tr>\n",
       "      <th>...</th>\n",
       "      <td>...</td>\n",
       "      <td>...</td>\n",
       "      <td>...</td>\n",
       "      <td>...</td>\n",
       "      <td>...</td>\n",
       "      <td>...</td>\n",
       "      <td>...</td>\n",
       "      <td>...</td>\n",
       "      <td>...</td>\n",
       "      <td>...</td>\n",
       "      <td>...</td>\n",
       "      <td>...</td>\n",
       "      <td>...</td>\n",
       "      <td>...</td>\n",
       "      <td>...</td>\n",
       "      <td>...</td>\n",
       "      <td>...</td>\n",
       "      <td>...</td>\n",
       "      <td>...</td>\n",
       "      <td>...</td>\n",
       "    </tr>\n",
       "    <tr>\n",
       "      <th>3207</th>\n",
       "      <td>False</td>\n",
       "      <td>False</td>\n",
       "      <td>False</td>\n",
       "      <td>False</td>\n",
       "      <td>False</td>\n",
       "      <td>False</td>\n",
       "      <td>False</td>\n",
       "      <td>False</td>\n",
       "      <td>False</td>\n",
       "      <td>False</td>\n",
       "      <td>False</td>\n",
       "      <td>False</td>\n",
       "      <td>False</td>\n",
       "      <td>False</td>\n",
       "      <td>False</td>\n",
       "      <td>False</td>\n",
       "      <td>False</td>\n",
       "      <td>False</td>\n",
       "      <td>False</td>\n",
       "      <td>False</td>\n",
       "    </tr>\n",
       "    <tr>\n",
       "      <th>3208</th>\n",
       "      <td>False</td>\n",
       "      <td>False</td>\n",
       "      <td>False</td>\n",
       "      <td>False</td>\n",
       "      <td>False</td>\n",
       "      <td>False</td>\n",
       "      <td>False</td>\n",
       "      <td>False</td>\n",
       "      <td>False</td>\n",
       "      <td>False</td>\n",
       "      <td>False</td>\n",
       "      <td>False</td>\n",
       "      <td>False</td>\n",
       "      <td>False</td>\n",
       "      <td>False</td>\n",
       "      <td>False</td>\n",
       "      <td>False</td>\n",
       "      <td>False</td>\n",
       "      <td>False</td>\n",
       "      <td>False</td>\n",
       "    </tr>\n",
       "    <tr>\n",
       "      <th>3209</th>\n",
       "      <td>False</td>\n",
       "      <td>False</td>\n",
       "      <td>False</td>\n",
       "      <td>False</td>\n",
       "      <td>False</td>\n",
       "      <td>False</td>\n",
       "      <td>False</td>\n",
       "      <td>False</td>\n",
       "      <td>False</td>\n",
       "      <td>False</td>\n",
       "      <td>False</td>\n",
       "      <td>False</td>\n",
       "      <td>False</td>\n",
       "      <td>False</td>\n",
       "      <td>False</td>\n",
       "      <td>False</td>\n",
       "      <td>False</td>\n",
       "      <td>False</td>\n",
       "      <td>False</td>\n",
       "      <td>False</td>\n",
       "    </tr>\n",
       "    <tr>\n",
       "      <th>3210</th>\n",
       "      <td>False</td>\n",
       "      <td>False</td>\n",
       "      <td>False</td>\n",
       "      <td>False</td>\n",
       "      <td>False</td>\n",
       "      <td>False</td>\n",
       "      <td>False</td>\n",
       "      <td>False</td>\n",
       "      <td>False</td>\n",
       "      <td>False</td>\n",
       "      <td>False</td>\n",
       "      <td>False</td>\n",
       "      <td>False</td>\n",
       "      <td>False</td>\n",
       "      <td>False</td>\n",
       "      <td>False</td>\n",
       "      <td>False</td>\n",
       "      <td>False</td>\n",
       "      <td>False</td>\n",
       "      <td>False</td>\n",
       "    </tr>\n",
       "    <tr>\n",
       "      <th>3211</th>\n",
       "      <td>False</td>\n",
       "      <td>False</td>\n",
       "      <td>False</td>\n",
       "      <td>False</td>\n",
       "      <td>False</td>\n",
       "      <td>False</td>\n",
       "      <td>False</td>\n",
       "      <td>False</td>\n",
       "      <td>False</td>\n",
       "      <td>False</td>\n",
       "      <td>False</td>\n",
       "      <td>False</td>\n",
       "      <td>False</td>\n",
       "      <td>False</td>\n",
       "      <td>False</td>\n",
       "      <td>False</td>\n",
       "      <td>False</td>\n",
       "      <td>False</td>\n",
       "      <td>False</td>\n",
       "      <td>False</td>\n",
       "    </tr>\n",
       "  </tbody>\n",
       "</table>\n",
       "<p>3212 rows × 20 columns</p>\n",
       "</div>"
      ],
      "text/plain": [
       "         x1     x2     x3     x4     x5     x6     x7     x8     x9    x10  \\\n",
       "0     False  False  False  False  False  False  False  False  False  False   \n",
       "1     False  False  False  False  False  False  False  False  False  False   \n",
       "2     False  False  False  False  False  False  False  False  False  False   \n",
       "3     False  False  False  False  False  False  False  False  False  False   \n",
       "4     False  False  False  False  False  False  False  False  False  False   \n",
       "...     ...    ...    ...    ...    ...    ...    ...    ...    ...    ...   \n",
       "3207  False  False  False  False  False  False  False  False  False  False   \n",
       "3208  False  False  False  False  False  False  False  False  False  False   \n",
       "3209  False  False  False  False  False  False  False  False  False  False   \n",
       "3210  False  False  False  False  False  False  False  False  False  False   \n",
       "3211  False  False  False  False  False  False  False  False  False  False   \n",
       "\n",
       "        x11    x12    x13    x14    x15    x16    x17      t      y      e  \n",
       "0     False  False  False  False  False  False  False  False  False  False  \n",
       "1     False  False  False  False  False  False  False  False  False  False  \n",
       "2     False  False  False  False  False  False  False  False  False  False  \n",
       "3     False  False  False  False  False  False  False  False  False  False  \n",
       "4     False  False  False  False  False  False  False  False  False  False  \n",
       "...     ...    ...    ...    ...    ...    ...    ...    ...    ...    ...  \n",
       "3207  False  False  False  False  False  False  False  False  False  False  \n",
       "3208  False  False  False  False  False  False  False  False  False  False  \n",
       "3209  False  False  False  False  False  False  False  False  False  False  \n",
       "3210  False  False  False  False  False  False  False  False  False  False  \n",
       "3211  False  False  False  False  False  False  False  False  False  False  \n",
       "\n",
       "[3212 rows x 20 columns]"
      ]
     },
     "execution_count": 7,
     "metadata": {},
     "output_type": "execute_result"
    }
   ],
   "source": [
    "df.isnull()"
   ]
  },
  {
   "cell_type": "code",
   "execution_count": 8,
   "id": "e82c2dc0",
   "metadata": {},
   "outputs": [
    {
     "data": {
      "text/plain": [
       "0"
      ]
     },
     "execution_count": 8,
     "metadata": {},
     "output_type": "execute_result"
    }
   ],
   "source": [
    "df.isnull().sum().sum()"
   ]
  },
  {
   "cell_type": "code",
   "execution_count": 9,
   "id": "2f352d08",
   "metadata": {},
   "outputs": [
    {
     "data": {
      "text/html": [
       "<div>\n",
       "<style scoped>\n",
       "    .dataframe tbody tr th:only-of-type {\n",
       "        vertical-align: middle;\n",
       "    }\n",
       "\n",
       "    .dataframe tbody tr th {\n",
       "        vertical-align: top;\n",
       "    }\n",
       "\n",
       "    .dataframe thead th {\n",
       "        text-align: right;\n",
       "    }\n",
       "</style>\n",
       "<table border=\"1\" class=\"dataframe\">\n",
       "  <thead>\n",
       "    <tr style=\"text-align: right;\">\n",
       "      <th></th>\n",
       "      <th>x1</th>\n",
       "      <th>x2</th>\n",
       "      <th>x3</th>\n",
       "      <th>x4</th>\n",
       "      <th>x5</th>\n",
       "      <th>x6</th>\n",
       "      <th>x7</th>\n",
       "      <th>x8</th>\n",
       "      <th>x9</th>\n",
       "      <th>x10</th>\n",
       "      <th>x11</th>\n",
       "      <th>x12</th>\n",
       "      <th>x13</th>\n",
       "      <th>x14</th>\n",
       "      <th>x15</th>\n",
       "      <th>x16</th>\n",
       "      <th>x17</th>\n",
       "      <th>t</th>\n",
       "      <th>y</th>\n",
       "      <th>e</th>\n",
       "    </tr>\n",
       "  </thead>\n",
       "  <tbody>\n",
       "    <tr>\n",
       "      <th>0</th>\n",
       "      <td>-0.614282</td>\n",
       "      <td>1.464727</td>\n",
       "      <td>0.0</td>\n",
       "      <td>0.0</td>\n",
       "      <td>1.0</td>\n",
       "      <td>0.0</td>\n",
       "      <td>2.393250</td>\n",
       "      <td>2.746196</td>\n",
       "      <td>-0.653311</td>\n",
       "      <td>-0.656913</td>\n",
       "      <td>1.627531</td>\n",
       "      <td>2.462337</td>\n",
       "      <td>2.937244</td>\n",
       "      <td>0.0</td>\n",
       "      <td>0.0</td>\n",
       "      <td>2.843909</td>\n",
       "      <td>0.0</td>\n",
       "      <td>0.0</td>\n",
       "      <td>1.0</td>\n",
       "      <td>0.0</td>\n",
       "    </tr>\n",
       "    <tr>\n",
       "      <th>1</th>\n",
       "      <td>-0.802463</td>\n",
       "      <td>0.101835</td>\n",
       "      <td>0.0</td>\n",
       "      <td>0.0</td>\n",
       "      <td>1.0</td>\n",
       "      <td>0.0</td>\n",
       "      <td>0.109885</td>\n",
       "      <td>0.498271</td>\n",
       "      <td>-0.785284</td>\n",
       "      <td>-0.743407</td>\n",
       "      <td>-0.022502</td>\n",
       "      <td>-0.177193</td>\n",
       "      <td>0.082537</td>\n",
       "      <td>0.0</td>\n",
       "      <td>0.0</td>\n",
       "      <td>0.038422</td>\n",
       "      <td>0.0</td>\n",
       "      <td>0.0</td>\n",
       "      <td>1.0</td>\n",
       "      <td>0.0</td>\n",
       "    </tr>\n",
       "    <tr>\n",
       "      <th>2</th>\n",
       "      <td>-0.896553</td>\n",
       "      <td>-0.238888</td>\n",
       "      <td>1.0</td>\n",
       "      <td>0.0</td>\n",
       "      <td>1.0</td>\n",
       "      <td>1.0</td>\n",
       "      <td>-0.085212</td>\n",
       "      <td>-0.148097</td>\n",
       "      <td>-0.847312</td>\n",
       "      <td>-0.781606</td>\n",
       "      <td>-0.361348</td>\n",
       "      <td>-0.286221</td>\n",
       "      <td>-0.303615</td>\n",
       "      <td>0.0</td>\n",
       "      <td>0.0</td>\n",
       "      <td>-0.191304</td>\n",
       "      <td>0.0</td>\n",
       "      <td>0.0</td>\n",
       "      <td>1.0</td>\n",
       "      <td>0.0</td>\n",
       "    </tr>\n",
       "    <tr>\n",
       "      <th>3</th>\n",
       "      <td>-0.896553</td>\n",
       "      <td>-0.238888</td>\n",
       "      <td>0.0</td>\n",
       "      <td>0.0</td>\n",
       "      <td>0.0</td>\n",
       "      <td>1.0</td>\n",
       "      <td>0.405581</td>\n",
       "      <td>0.325594</td>\n",
       "      <td>-0.847312</td>\n",
       "      <td>-0.781606</td>\n",
       "      <td>-0.361348</td>\n",
       "      <td>0.023020</td>\n",
       "      <td>-0.039630</td>\n",
       "      <td>0.0</td>\n",
       "      <td>0.0</td>\n",
       "      <td>0.173108</td>\n",
       "      <td>0.0</td>\n",
       "      <td>0.0</td>\n",
       "      <td>1.0</td>\n",
       "      <td>1.0</td>\n",
       "    </tr>\n",
       "    <tr>\n",
       "      <th>4</th>\n",
       "      <td>0.138440</td>\n",
       "      <td>-1.601779</td>\n",
       "      <td>1.0</td>\n",
       "      <td>0.0</td>\n",
       "      <td>1.0</td>\n",
       "      <td>1.0</td>\n",
       "      <td>-0.722531</td>\n",
       "      <td>-0.212734</td>\n",
       "      <td>-0.019840</td>\n",
       "      <td>-0.156019</td>\n",
       "      <td>-1.422084</td>\n",
       "      <td>-0.514563</td>\n",
       "      <td>-0.331552</td>\n",
       "      <td>0.0</td>\n",
       "      <td>0.0</td>\n",
       "      <td>-0.779227</td>\n",
       "      <td>0.0</td>\n",
       "      <td>0.0</td>\n",
       "      <td>1.0</td>\n",
       "      <td>0.0</td>\n",
       "    </tr>\n",
       "  </tbody>\n",
       "</table>\n",
       "</div>"
      ],
      "text/plain": [
       "         x1        x2   x3   x4   x5   x6        x7        x8        x9  \\\n",
       "0 -0.614282  1.464727  0.0  0.0  1.0  0.0  2.393250  2.746196 -0.653311   \n",
       "1 -0.802463  0.101835  0.0  0.0  1.0  0.0  0.109885  0.498271 -0.785284   \n",
       "2 -0.896553 -0.238888  1.0  0.0  1.0  1.0 -0.085212 -0.148097 -0.847312   \n",
       "3 -0.896553 -0.238888  0.0  0.0  0.0  1.0  0.405581  0.325594 -0.847312   \n",
       "4  0.138440 -1.601779  1.0  0.0  1.0  1.0 -0.722531 -0.212734 -0.019840   \n",
       "\n",
       "        x10       x11       x12       x13  x14  x15       x16  x17    t    y  \\\n",
       "0 -0.656913  1.627531  2.462337  2.937244  0.0  0.0  2.843909  0.0  0.0  1.0   \n",
       "1 -0.743407 -0.022502 -0.177193  0.082537  0.0  0.0  0.038422  0.0  0.0  1.0   \n",
       "2 -0.781606 -0.361348 -0.286221 -0.303615  0.0  0.0 -0.191304  0.0  0.0  1.0   \n",
       "3 -0.781606 -0.361348  0.023020 -0.039630  0.0  0.0  0.173108  0.0  0.0  1.0   \n",
       "4 -0.156019 -1.422084 -0.514563 -0.331552  0.0  0.0 -0.779227  0.0  0.0  1.0   \n",
       "\n",
       "     e  \n",
       "0  0.0  \n",
       "1  0.0  \n",
       "2  0.0  \n",
       "3  1.0  \n",
       "4  0.0  "
      ]
     },
     "execution_count": 9,
     "metadata": {},
     "output_type": "execute_result"
    }
   ],
   "source": [
    "df.head()"
   ]
  },
  {
   "cell_type": "code",
   "execution_count": 10,
   "id": "dca7fa77",
   "metadata": {},
   "outputs": [
    {
     "data": {
      "text/plain": [
       "1.0    2730\n",
       "0.0     482\n",
       "Name: y, dtype: int64"
      ]
     },
     "execution_count": 10,
     "metadata": {},
     "output_type": "execute_result"
    }
   ],
   "source": [
    "df['y'].value_counts()"
   ]
  },
  {
   "cell_type": "code",
   "execution_count": 11,
   "id": "0c77a2e9",
   "metadata": {},
   "outputs": [],
   "source": [
    "from econml.metalearners import XLearner\n",
    "from sklearn.ensemble import RandomForestRegressor, RandomForestClassifier\n",
    "from sklearn.model_selection import train_test_split\n",
    "from sklearn.preprocessing import StandardScaler\n",
    "import numpy as np\n",
    "import pandas as pd\n",
    "import scipy.stats as st\n",
    "import matplotlib.pyplot as plt"
   ]
  },
  {
   "cell_type": "code",
   "execution_count": 12,
   "id": "30be707a",
   "metadata": {},
   "outputs": [
    {
     "data": {
      "text/html": [
       "<div>\n",
       "<style scoped>\n",
       "    .dataframe tbody tr th:only-of-type {\n",
       "        vertical-align: middle;\n",
       "    }\n",
       "\n",
       "    .dataframe tbody tr th {\n",
       "        vertical-align: top;\n",
       "    }\n",
       "\n",
       "    .dataframe thead th {\n",
       "        text-align: right;\n",
       "    }\n",
       "</style>\n",
       "<table border=\"1\" class=\"dataframe\">\n",
       "  <thead>\n",
       "    <tr style=\"text-align: right;\">\n",
       "      <th></th>\n",
       "      <th>x1</th>\n",
       "      <th>x2</th>\n",
       "      <th>x3</th>\n",
       "      <th>x4</th>\n",
       "      <th>x5</th>\n",
       "      <th>x6</th>\n",
       "      <th>x7</th>\n",
       "      <th>x8</th>\n",
       "      <th>x9</th>\n",
       "      <th>x10</th>\n",
       "      <th>x11</th>\n",
       "      <th>x12</th>\n",
       "      <th>x13</th>\n",
       "      <th>x14</th>\n",
       "      <th>x15</th>\n",
       "      <th>x16</th>\n",
       "      <th>x17</th>\n",
       "    </tr>\n",
       "  </thead>\n",
       "  <tbody>\n",
       "    <tr>\n",
       "      <th>0</th>\n",
       "      <td>-0.614282</td>\n",
       "      <td>1.464727</td>\n",
       "      <td>0.0</td>\n",
       "      <td>0.0</td>\n",
       "      <td>1.0</td>\n",
       "      <td>0.0</td>\n",
       "      <td>2.393250</td>\n",
       "      <td>2.746196</td>\n",
       "      <td>-0.653311</td>\n",
       "      <td>-0.656913</td>\n",
       "      <td>1.627531</td>\n",
       "      <td>2.462337</td>\n",
       "      <td>2.937244</td>\n",
       "      <td>0.0</td>\n",
       "      <td>0.0</td>\n",
       "      <td>2.843909</td>\n",
       "      <td>0.0</td>\n",
       "    </tr>\n",
       "    <tr>\n",
       "      <th>1</th>\n",
       "      <td>-0.802463</td>\n",
       "      <td>0.101835</td>\n",
       "      <td>0.0</td>\n",
       "      <td>0.0</td>\n",
       "      <td>1.0</td>\n",
       "      <td>0.0</td>\n",
       "      <td>0.109885</td>\n",
       "      <td>0.498271</td>\n",
       "      <td>-0.785284</td>\n",
       "      <td>-0.743407</td>\n",
       "      <td>-0.022502</td>\n",
       "      <td>-0.177193</td>\n",
       "      <td>0.082537</td>\n",
       "      <td>0.0</td>\n",
       "      <td>0.0</td>\n",
       "      <td>0.038422</td>\n",
       "      <td>0.0</td>\n",
       "    </tr>\n",
       "    <tr>\n",
       "      <th>2</th>\n",
       "      <td>-0.896553</td>\n",
       "      <td>-0.238888</td>\n",
       "      <td>1.0</td>\n",
       "      <td>0.0</td>\n",
       "      <td>1.0</td>\n",
       "      <td>1.0</td>\n",
       "      <td>-0.085212</td>\n",
       "      <td>-0.148097</td>\n",
       "      <td>-0.847312</td>\n",
       "      <td>-0.781606</td>\n",
       "      <td>-0.361348</td>\n",
       "      <td>-0.286221</td>\n",
       "      <td>-0.303615</td>\n",
       "      <td>0.0</td>\n",
       "      <td>0.0</td>\n",
       "      <td>-0.191304</td>\n",
       "      <td>0.0</td>\n",
       "    </tr>\n",
       "    <tr>\n",
       "      <th>3</th>\n",
       "      <td>-0.896553</td>\n",
       "      <td>-0.238888</td>\n",
       "      <td>0.0</td>\n",
       "      <td>0.0</td>\n",
       "      <td>0.0</td>\n",
       "      <td>1.0</td>\n",
       "      <td>0.405581</td>\n",
       "      <td>0.325594</td>\n",
       "      <td>-0.847312</td>\n",
       "      <td>-0.781606</td>\n",
       "      <td>-0.361348</td>\n",
       "      <td>0.023020</td>\n",
       "      <td>-0.039630</td>\n",
       "      <td>0.0</td>\n",
       "      <td>0.0</td>\n",
       "      <td>0.173108</td>\n",
       "      <td>0.0</td>\n",
       "    </tr>\n",
       "    <tr>\n",
       "      <th>4</th>\n",
       "      <td>0.138440</td>\n",
       "      <td>-1.601779</td>\n",
       "      <td>1.0</td>\n",
       "      <td>0.0</td>\n",
       "      <td>1.0</td>\n",
       "      <td>1.0</td>\n",
       "      <td>-0.722531</td>\n",
       "      <td>-0.212734</td>\n",
       "      <td>-0.019840</td>\n",
       "      <td>-0.156019</td>\n",
       "      <td>-1.422084</td>\n",
       "      <td>-0.514563</td>\n",
       "      <td>-0.331552</td>\n",
       "      <td>0.0</td>\n",
       "      <td>0.0</td>\n",
       "      <td>-0.779227</td>\n",
       "      <td>0.0</td>\n",
       "    </tr>\n",
       "  </tbody>\n",
       "</table>\n",
       "</div>"
      ],
      "text/plain": [
       "         x1        x2   x3   x4   x5   x6        x7        x8        x9  \\\n",
       "0 -0.614282  1.464727  0.0  0.0  1.0  0.0  2.393250  2.746196 -0.653311   \n",
       "1 -0.802463  0.101835  0.0  0.0  1.0  0.0  0.109885  0.498271 -0.785284   \n",
       "2 -0.896553 -0.238888  1.0  0.0  1.0  1.0 -0.085212 -0.148097 -0.847312   \n",
       "3 -0.896553 -0.238888  0.0  0.0  0.0  1.0  0.405581  0.325594 -0.847312   \n",
       "4  0.138440 -1.601779  1.0  0.0  1.0  1.0 -0.722531 -0.212734 -0.019840   \n",
       "\n",
       "        x10       x11       x12       x13  x14  x15       x16  x17  \n",
       "0 -0.656913  1.627531  2.462337  2.937244  0.0  0.0  2.843909  0.0  \n",
       "1 -0.743407 -0.022502 -0.177193  0.082537  0.0  0.0  0.038422  0.0  \n",
       "2 -0.781606 -0.361348 -0.286221 -0.303615  0.0  0.0 -0.191304  0.0  \n",
       "3 -0.781606 -0.361348  0.023020 -0.039630  0.0  0.0  0.173108  0.0  \n",
       "4 -0.156019 -1.422084 -0.514563 -0.331552  0.0  0.0 -0.779227  0.0  "
      ]
     },
     "execution_count": 12,
     "metadata": {},
     "output_type": "execute_result"
    }
   ],
   "source": [
    "X = df.iloc[:,:-3]\n",
    "X.head()"
   ]
  },
  {
   "cell_type": "code",
   "execution_count": 13,
   "id": "1d49e597",
   "metadata": {},
   "outputs": [],
   "source": [
    "T = df.iloc[:,-3].values"
   ]
  },
  {
   "cell_type": "code",
   "execution_count": 14,
   "id": "3e79ac59",
   "metadata": {},
   "outputs": [
    {
     "data": {
      "text/plain": [
       "numpy.ndarray"
      ]
     },
     "execution_count": 14,
     "metadata": {},
     "output_type": "execute_result"
    }
   ],
   "source": [
    "type(T)"
   ]
  },
  {
   "cell_type": "code",
   "execution_count": 15,
   "id": "a13de5f4",
   "metadata": {},
   "outputs": [],
   "source": [
    "T = np.reshape(T,(-1, 1))"
   ]
  },
  {
   "cell_type": "code",
   "execution_count": 16,
   "id": "96b50af0",
   "metadata": {},
   "outputs": [
    {
     "name": "stderr",
     "output_type": "stream",
     "text": [
      "\n",
      "The to_png function was deprecated in Matplotlib 3.4 and will be removed two minor releases later. Use mathtext.math_to_image instead.\n",
      "\n",
      "The to_rgba function was deprecated in Matplotlib 3.4 and will be removed two minor releases later. Use mathtext.math_to_image instead.\n",
      "\n",
      "The to_mask function was deprecated in Matplotlib 3.4 and will be removed two minor releases later. Use mathtext.math_to_image instead.\n",
      "\n",
      "The MathtextBackendBitmap class was deprecated in Matplotlib 3.4 and will be removed two minor releases later. Use mathtext.math_to_image instead.\n"
     ]
    },
    {
     "data": {
      "image/png": "[encoded data removed]",
      "text/latex": [
       "$\\displaystyle \\left( 3212, \\  1\\right)$"
      ],
      "text/plain": [
       "(3212, 1)"
      ]
     },
     "execution_count": 16,
     "metadata": {},
     "output_type": "execute_result"
    }
   ],
   "source": [
    "T.shape"
   ]
  },
  {
   "cell_type": "code",
   "execution_count": 17,
   "id": "a44a2020",
   "metadata": {},
   "outputs": [
    {
     "data": {
      "image/png": "[encoded data removed]",
      "text/latex": [
       "$\\displaystyle \\left( 3212, \\  17\\right)$"
      ],
      "text/plain": [
       "(3212, 17)"
      ]
     },
     "execution_count": 17,
     "metadata": {},
     "output_type": "execute_result"
    }
   ],
   "source": [
    "X.shape"
   ]
  },
  {
   "cell_type": "code",
   "execution_count": 18,
   "id": "cea5e3bb",
   "metadata": {},
   "outputs": [],
   "source": [
    "Y = df.iloc[:,-2]"
   ]
  },
  {
   "cell_type": "code",
   "execution_count": 19,
   "id": "386aac44",
   "metadata": {},
   "outputs": [
    {
     "data": {
      "text/plain": [
       "0       1.0\n",
       "1       1.0\n",
       "2       1.0\n",
       "3       1.0\n",
       "4       1.0\n",
       "       ... \n",
       "3207    0.0\n",
       "3208    1.0\n",
       "3209    1.0\n",
       "3210    1.0\n",
       "3211    1.0\n",
       "Name: y, Length: 3212, dtype: float64"
      ]
     },
     "execution_count": 19,
     "metadata": {},
     "output_type": "execute_result"
    }
   ],
   "source": [
    "Y"
   ]
  },
  {
   "cell_type": "code",
   "execution_count": 20,
   "id": "c6e0ac30",
   "metadata": {},
   "outputs": [
    {
     "data": {
      "image/png": "[encoded data removed]",
      "text/latex": [
       "$\\displaystyle \\left( 3212,\\right)$"
      ],
      "text/plain": [
       "(3212,)"
      ]
     },
     "execution_count": 20,
     "metadata": {},
     "output_type": "execute_result"
    }
   ],
   "source": [
    "Y.shape"
   ]
  },
  {
   "cell_type": "code",
   "execution_count": 21,
   "id": "bf5d345d",
   "metadata": {},
   "outputs": [],
   "source": [
    "e = df.iloc[:,-1]"
   ]
  },
  {
   "cell_type": "code",
   "execution_count": 22,
   "id": "1885ea2e",
   "metadata": {},
   "outputs": [
    {
     "data": {
      "text/plain": [
       "0       0.0\n",
       "1       0.0\n",
       "2       0.0\n",
       "3       1.0\n",
       "4       0.0\n",
       "       ... \n",
       "3207    0.0\n",
       "3208    0.0\n",
       "3209    0.0\n",
       "3210    0.0\n",
       "3211    0.0\n",
       "Name: e, Length: 3212, dtype: float64"
      ]
     },
     "execution_count": 22,
     "metadata": {},
     "output_type": "execute_result"
    }
   ],
   "source": [
    "e"
   ]
  },
  {
   "cell_type": "code",
   "execution_count": 23,
   "id": "55ec29b2",
   "metadata": {},
   "outputs": [
    {
     "data": {
      "image/png": "[encoded data removed]",
      "text/plain": [
       "<Figure size 1152x288 with 4 Axes>"
      ]
     },
     "metadata": {
      "needs_background": "light"
     },
     "output_type": "display_data"
    }
   ],
   "source": [
    "bins = 20\n",
    "fig, axs = plt.subplots(1, 4, figsize=(16, 4))\n",
    "axs[0].hist(X, bins=bins)\n",
    "axs[1].hist(T, bins=bins)\n",
    "axs[2].hist(Y, bins=bins)\n",
    "plt.show()"
   ]
  },
  {
   "cell_type": "code",
   "execution_count": 100,
   "id": "46200d70",
   "metadata": {},
   "outputs": [],
   "source": [
    "x_train,x_test,t_train,t_test,y_train,y_test,e_train,e_test = train_test_split(X,T,Y,e, test_size=0.2,random_state = 50)"
   ]
  },
  {
   "cell_type": "markdown",
   "id": "09adef28",
   "metadata": {},
   "source": [
    "# Random forrest"
   ]
  },
  {
   "cell_type": "code",
   "execution_count": 25,
   "id": "36d859f3",
   "metadata": {},
   "outputs": [],
   "source": [
    "clf = RandomForestRegressor()"
   ]
  },
  {
   "cell_type": "code",
   "execution_count": 26,
   "id": "69460597",
   "metadata": {},
   "outputs": [
    {
     "data": {
      "image/png": "[encoded data removed]",
      "text/latex": [
       "$\\displaystyle \\left( 2569, \\  17\\right)$"
      ],
      "text/plain": [
       "(2569, 17)"
      ]
     },
     "execution_count": 26,
     "metadata": {},
     "output_type": "execute_result"
    }
   ],
   "source": [
    "x_train.shape"
   ]
  },
  {
   "cell_type": "code",
   "execution_count": 27,
   "id": "8d65de13",
   "metadata": {},
   "outputs": [
    {
     "data": {
      "image/png": "[encoded data removed]",
      "text/latex": [
       "$\\displaystyle \\left( 2569, \\  1\\right)$"
      ],
      "text/plain": [
       "(2569, 1)"
      ]
     },
     "execution_count": 27,
     "metadata": {},
     "output_type": "execute_result"
    }
   ],
   "source": [
    "t_train.shape"
   ]
  },
  {
   "cell_type": "code",
   "execution_count": 28,
   "id": "44d47d2b",
   "metadata": {},
   "outputs": [],
   "source": [
    "xt_train= np.concatenate([x_train,t_train], axis=1)"
   ]
  },
  {
   "cell_type": "code",
   "execution_count": 29,
   "id": "6fdd92b8",
   "metadata": {},
   "outputs": [
    {
     "data": {
      "text/plain": [
       "RandomForestRegressor()"
      ]
     },
     "execution_count": 29,
     "metadata": {},
     "output_type": "execute_result"
    }
   ],
   "source": [
    "clf.fit(xt_train,y_train)"
   ]
  },
  {
   "cell_type": "code",
   "execution_count": 30,
   "id": "97030f9d",
   "metadata": {},
   "outputs": [],
   "source": [
    "xt0_test = np.concatenate([x_test, np.zeros_like(t_test)], axis=1)"
   ]
  },
  {
   "cell_type": "code",
   "execution_count": 31,
   "id": "0bf513b0",
   "metadata": {},
   "outputs": [],
   "source": [
    "rf_y0_test = clf.predict(xt0_test)"
   ]
  },
  {
   "cell_type": "code",
   "execution_count": 32,
   "id": "a9858985",
   "metadata": {},
   "outputs": [],
   "source": [
    "xt1_test = np.concatenate([x_test, np.ones_like(t_test)], axis=1)"
   ]
  },
  {
   "cell_type": "code",
   "execution_count": 33,
   "id": "3ec41052",
   "metadata": {},
   "outputs": [],
   "source": [
    "rf_y1_test = clf.predict(xt1_test)"
   ]
  },
  {
   "cell_type": "code",
   "execution_count": 34,
   "id": "34f4c0e5",
   "metadata": {},
   "outputs": [
    {
     "name": "stderr",
     "output_type": "stream",
     "text": [
      "\n",
      "The to_png function was deprecated in Matplotlib 3.4 and will be removed two minor releases later. Use mathtext.math_to_image instead.\n",
      "\n",
      "The to_rgba function was deprecated in Matplotlib 3.4 and will be removed two minor releases later. Use mathtext.math_to_image instead.\n",
      "\n",
      "The to_mask function was deprecated in Matplotlib 3.4 and will be removed two minor releases later. Use mathtext.math_to_image instead.\n",
      "\n",
      "The MathtextBackendBitmap class was deprecated in Matplotlib 3.4 and will be removed two minor releases later. Use mathtext.math_to_image instead.\n"
     ]
    },
    {
     "data": {
      "image/png": "[encoded data removed]",
      "text/latex": [
       "$\\displaystyle \\left( 643,\\right)$"
      ],
      "text/plain": [
       "(643,)"
      ]
     },
     "execution_count": 34,
     "metadata": {},
     "output_type": "execute_result"
    }
   ],
   "source": [
    "rf_y1_test.shape"
   ]
  },
  {
   "cell_type": "code",
   "execution_count": 35,
   "id": "1e09a015",
   "metadata": {},
   "outputs": [],
   "source": [
    "random_forest_ite = rf_y1_test - rf_y0_test"
   ]
  },
  {
   "cell_type": "code",
   "execution_count": 36,
   "id": "5468c18f",
   "metadata": {},
   "outputs": [
    {
     "data": {
      "image/png": "[encoded data removed]",
      "text/latex": [
       "$\\displaystyle \\left( 643,\\right)$"
      ],
      "text/plain": [
       "(643,)"
      ]
     },
     "execution_count": 36,
     "metadata": {},
     "output_type": "execute_result"
    }
   ],
   "source": [
    "random_forest_ite.shape"
   ]
  },
  {
   "cell_type": "code",
   "execution_count": null,
   "id": "ae5a0fe8",
   "metadata": {},
   "outputs": [],
   "source": []
  },
  {
   "cell_type": "markdown",
   "id": "149b9f2f",
   "metadata": {},
   "source": [
    "## T learner"
   ]
  },
  {
   "cell_type": "code",
   "execution_count": 37,
   "id": "1f6ce402",
   "metadata": {},
   "outputs": [],
   "source": [
    "#T-Learner\n",
    "from sklearn.linear_model import LinearRegression\n",
    "regressor = LinearRegression()\n",
    "m0 = LinearRegression()\n",
    "m1 = LinearRegression()\n",
    "t0_idx = (t_train == 0).flatten()\n",
    "t1_idx = (t_train == 1).flatten()\n",
    "# train on control units\n",
    "m0.fit(x_train[t0_idx], y_train[t0_idx])\n",
    "# train on treated units\n",
    "m1.fit(x_train[t1_idx], y_train[t1_idx])\n",
    "y0_pred = m0.predict(x_test)\n",
    "y1_pred = m1.predict(x_test)\n",
    "effect_pred = y1_pred - y0_pred"
   ]
  },
  {
   "cell_type": "markdown",
   "id": "061f46f0",
   "metadata": {},
   "source": [
    "## X-Learner"
   ]
  },
  {
   "cell_type": "code",
   "execution_count": 38,
   "id": "55d4bbbf",
   "metadata": {},
   "outputs": [],
   "source": [
    "# X-Learner\n",
    "xl = XLearner(models=RandomForestRegressor(), propensity_model=RandomForestClassifier())\n",
    "xl.fit(y_train, t_train.flatten(), X=x_train)\n",
    "\n",
    "xl_ite_test = xl.effect(x_test)"
   ]
  },
  {
   "cell_type": "markdown",
   "id": "6049c6bc",
   "metadata": {},
   "source": [
    "# Metrics"
   ]
  },
  {
   "cell_type": "markdown",
   "id": "896e023b",
   "metadata": {},
   "source": [
    "### the metric that will be use on this dataset is average treatment effect on the treated because the counterfactual was not observed"
   ]
  },
  {
   "cell_type": "markdown",
   "id": "f2c338b6",
   "metadata": {},
   "source": [
    "## Propensity score"
   ]
  },
  {
   "cell_type": "code",
   "execution_count": 39,
   "id": "514c376f",
   "metadata": {},
   "outputs": [],
   "source": [
    "x = X.values"
   ]
  },
  {
   "cell_type": "code",
   "execution_count": 40,
   "id": "4694398e",
   "metadata": {},
   "outputs": [],
   "source": [
    "y = Y.values"
   ]
  },
  {
   "cell_type": "code",
   "execution_count": 41,
   "id": "e571f537",
   "metadata": {},
   "outputs": [],
   "source": [
    "from causalinference import CausalModel"
   ]
  },
  {
   "cell_type": "code",
   "execution_count": 42,
   "id": "32733d0c",
   "metadata": {},
   "outputs": [],
   "source": [
    "model = CausalModel(y,T,x)"
   ]
  },
  {
   "cell_type": "code",
   "execution_count": 43,
   "id": "9f3df22b",
   "metadata": {},
   "outputs": [
    {
     "name": "stderr",
     "output_type": "stream",
     "text": [
      "`rcond` parameter will change to the default of machine precision times ``max(M, N)`` where M and N are the input matrix dimensions.\n",
      "To use the future default and silence this warning we advise to pass `rcond=None`, to keep using the old, explicitly pass `rcond=-1`.\n"
     ]
    }
   ],
   "source": [
    "model.est_via_matching(bias_adj = True)"
   ]
  },
  {
   "cell_type": "code",
   "execution_count": 44,
   "id": "81cf2c10",
   "metadata": {},
   "outputs": [
    {
     "name": "stdout",
     "output_type": "stream",
     "text": [
      "\n",
      "Treatment Effect Estimates: Matching\n",
      "\n",
      "                     Est.       S.e.          z      P>|z|      [95% Conf. int.]\n",
      "--------------------------------------------------------------------------------\n",
      "           ATE     -0.117      0.130     -0.905      0.365     -0.371      0.137\n",
      "           ATC     -0.134      0.141     -0.951      0.341     -0.411      0.142\n",
      "           ATT      0.049      0.100      0.490      0.624     -0.147      0.245\n",
      "\n"
     ]
    }
   ],
   "source": [
    "print(model.estimates)"
   ]
  },
  {
   "cell_type": "code",
   "execution_count": 45,
   "id": "8e76e996",
   "metadata": {},
   "outputs": [
    {
     "data": {
      "text/plain": [
       "{'matching': {'atc': -0.13423239075681379, 'att': 0.0490438006985863, 'ate': -0.11728561962908843, 'atc_se': 0.14108022485827537, 'att_se': 0.10018049705889837, 'ate_se': 0.1295687147734872}}"
      ]
     },
     "execution_count": 45,
     "metadata": {},
     "output_type": "execute_result"
    }
   ],
   "source": [
    "model.estimates"
   ]
  },
  {
   "cell_type": "code",
   "execution_count": 46,
   "id": "82b3ff81",
   "metadata": {},
   "outputs": [
    {
     "data": {
      "text/plain": [
       "{'atc': -0.13423239075681379, 'att': 0.0490438006985863, 'ate': -0.11728561962908843, 'atc_se': 0.14108022485827537, 'att_se': 0.10018049705889837, 'ate_se': 0.1295687147734872}"
      ]
     },
     "execution_count": 46,
     "metadata": {},
     "output_type": "execute_result"
    }
   ],
   "source": [
    "model.estimates['matching']"
   ]
  },
  {
   "cell_type": "code",
   "execution_count": 47,
   "id": "d6dff9c9",
   "metadata": {},
   "outputs": [],
   "source": [
    "ATT = model.estimates['matching']['att']"
   ]
  },
  {
   "cell_type": "code",
   "execution_count": 48,
   "id": "0aa75e3b",
   "metadata": {},
   "outputs": [
    {
     "name": "stderr",
     "output_type": "stream",
     "text": [
      "\n",
      "The to_png function was deprecated in Matplotlib 3.4 and will be removed two minor releases later. Use mathtext.math_to_image instead.\n",
      "\n",
      "The to_rgba function was deprecated in Matplotlib 3.4 and will be removed two minor releases later. Use mathtext.math_to_image instead.\n",
      "\n",
      "The to_mask function was deprecated in Matplotlib 3.4 and will be removed two minor releases later. Use mathtext.math_to_image instead.\n",
      "\n",
      "The MathtextBackendBitmap class was deprecated in Matplotlib 3.4 and will be removed two minor releases later. Use mathtext.math_to_image instead.\n"
     ]
    },
    {
     "data": {
      "image/png": "[encoded data removed]",
      "text/latex": [
       "$\\displaystyle 0.0490438006985863$"
      ],
      "text/plain": [
       "0.0490438006985863"
      ]
     },
     "execution_count": 48,
     "metadata": {},
     "output_type": "execute_result"
    }
   ],
   "source": [
    "ATT"
   ]
  },
  {
   "cell_type": "code",
   "execution_count": 49,
   "id": "b8b11814",
   "metadata": {},
   "outputs": [],
   "source": [
    "ATC = model.estimates['matching']['atc']"
   ]
  },
  {
   "cell_type": "code",
   "execution_count": 50,
   "id": "1280d951",
   "metadata": {},
   "outputs": [
    {
     "data": {
      "image/png": "[encoded data removed]",
      "text/latex": [
       "$\\displaystyle -0.134232390756814$"
      ],
      "text/plain": [
       "-0.13423239075681379"
      ]
     },
     "execution_count": 50,
     "metadata": {},
     "output_type": "execute_result"
    }
   ],
   "source": [
    "ATC"
   ]
  },
  {
   "cell_type": "code",
   "execution_count": 118,
   "id": "df2214df",
   "metadata": {},
   "outputs": [],
   "source": [
    "def abs_att(effect_pred, yf, t, e):\n",
    "    \"\"\"\n",
    "    Absolute error for the Average Treatment Effect on the Treated\n",
    "    :param effect_pred: predicted treatment effect value\n",
    "    :param yf: factual (observed) outcome\n",
    "    :param t: treatment status (treated/control)\n",
    "    :param e: whether belongs to the experimental group\n",
    "    :return: absolute error on ATT\n",
    "    \"\"\"\n",
    "    att_true = np.mean(yf[t > 0]) - np.mean(yf[(1 - t + e) > 1])\n",
    "    att_pred = np.mean(effect_pred[(t + e) > 1])\n",
    "\n",
    "    return np.abs(att_pred - att_true)"
   ]
  },
  {
   "cell_type": "code",
   "execution_count": 119,
   "id": "705b2a96",
   "metadata": {},
   "outputs": [],
   "source": [
    "ATT_RF = abs_att(random_forest_ite,y_test,t_test,e_test)"
   ]
  },
  {
   "cell_type": "code",
   "execution_count": 120,
   "id": "2e60912d",
   "metadata": {},
   "outputs": [
    {
     "data": {
      "image/png": "[encoded data removed]",
      "text/latex": [
       "$\\displaystyle 0.0216944488260278$"
      ],
      "text/plain": [
       "0.021694448826027765"
      ]
     },
     "execution_count": 120,
     "metadata": {},
     "output_type": "execute_result"
    }
   ],
   "source": [
    "ATT_RF"
   ]
  },
  {
   "cell_type": "code",
   "execution_count": 121,
   "id": "344c1de4",
   "metadata": {},
   "outputs": [],
   "source": [
    "ATT_TL = abs_att(effect_pred,y_test,t_test,e_test)"
   ]
  },
  {
   "cell_type": "code",
   "execution_count": 122,
   "id": "10a783f7",
   "metadata": {},
   "outputs": [
    {
     "data": {
      "image/png": "[encoded data removed]",
      "text/latex": [
       "$\\displaystyle 0.00933621062046866$"
      ],
      "text/plain": [
       "0.00933621062046866"
      ]
     },
     "execution_count": 122,
     "metadata": {},
     "output_type": "execute_result"
    }
   ],
   "source": [
    "ATT_TL"
   ]
  },
  {
   "cell_type": "code",
   "execution_count": 123,
   "id": "ca34a1cf",
   "metadata": {},
   "outputs": [],
   "source": [
    "ATT_XL = abs_att(xl_ite_test,y_test,t_test,e_test)"
   ]
  },
  {
   "cell_type": "code",
   "execution_count": 124,
   "id": "3525d5e3",
   "metadata": {},
   "outputs": [
    {
     "data": {
      "image/png": "[encoded data removed]",
      "text/latex": [
       "$\\displaystyle 0.0205663550035927$"
      ],
      "text/plain": [
       "0.020566355003592704"
      ]
     },
     "execution_count": 124,
     "metadata": {},
     "output_type": "execute_result"
    }
   ],
   "source": [
    "ATT_XL"
   ]
  },
  {
   "cell_type": "code",
   "execution_count": 125,
   "id": "f4f67b28",
   "metadata": {},
   "outputs": [],
   "source": [
    "def policy_risk(effect_pred, yf, t, e):\n",
    "    \"\"\"\n",
    "    Computes the risk of the policy defined by predicted effect\n",
    "    :param effect_pred: predicted treatment effect value\n",
    "    :param yf: factual (observed) outcome\n",
    "    :param t: treatment status (treated/control)\n",
    "    :param e: whether belongs to the experimental group\n",
    "    :return: policy risk\n",
    "    \"\"\"\n",
    "    # Consider only the cases for which we have experimental data (i.e., e > 0)\n",
    "    t_e = t[e > 0]\n",
    "    yf_e = yf[e > 0]\n",
    "    effect_pred_e = effect_pred[e > 0]\n",
    "\n",
    "    if np.any(np.isnan(effect_pred_e)):\n",
    "        return np.nan\n",
    "\n",
    "    policy = effect_pred_e > 0.0\n",
    "    treat_overlap = (policy == t_e) * (t_e > 0)\n",
    "    control_overlap = (policy == t_e) * (t_e < 1)\n",
    "\n",
    "    if np.sum(treat_overlap) == 0:\n",
    "        treat_value = 0\n",
    "    else:\n",
    "        treat_value = np.mean(yf_e[treat_overlap])\n",
    "\n",
    "    if np.sum(control_overlap) == 0:\n",
    "        control_value = 0\n",
    "    else:\n",
    "        control_value = np.mean(yf_e[control_overlap])\n",
    "\n",
    "    pit = np.mean(policy)\n",
    "    policy_value = pit * treat_value + (1.0 - pit) * control_value\n",
    "\n",
    "    return 1.0 - policy_value"
   ]
  },
  {
   "cell_type": "code",
   "execution_count": 126,
   "id": "77ab58f2",
   "metadata": {},
   "outputs": [],
   "source": [
    "P_RF = policy_risk(random_forest_ite,y_test,t_test,e_test)"
   ]
  },
  {
   "cell_type": "code",
   "execution_count": 127,
   "id": "66726239",
   "metadata": {},
   "outputs": [
    {
     "data": {
      "image/png": "[encoded data removed]",
      "text/latex": [
       "$\\displaystyle 0.237230004265642$"
      ],
      "text/plain": [
       "0.23723000426564167"
      ]
     },
     "execution_count": 127,
     "metadata": {},
     "output_type": "execute_result"
    }
   ],
   "source": [
    "P_RF"
   ]
  },
  {
   "cell_type": "code",
   "execution_count": 128,
   "id": "6b2407d3",
   "metadata": {},
   "outputs": [],
   "source": [
    "P_TL = policy_risk(effect_pred,y_test,t_test,e_test)"
   ]
  },
  {
   "cell_type": "code",
   "execution_count": 129,
   "id": "d85de89c",
   "metadata": {},
   "outputs": [
    {
     "data": {
      "image/png": "[encoded data removed]",
      "text/latex": [
       "$\\displaystyle 0.251769250746656$"
      ],
      "text/plain": [
       "0.25176925074665624"
      ]
     },
     "execution_count": 129,
     "metadata": {},
     "output_type": "execute_result"
    }
   ],
   "source": [
    "P_TL"
   ]
  },
  {
   "cell_type": "code",
   "execution_count": 130,
   "id": "d5e70825",
   "metadata": {},
   "outputs": [],
   "source": [
    "P_XL = policy_risk(xl_ite_test,y_test,t_test,e_test)"
   ]
  },
  {
   "cell_type": "code",
   "execution_count": 131,
   "id": "b86b9b0f",
   "metadata": {},
   "outputs": [
    {
     "data": {
      "image/png": "[encoded data removed]",
      "text/latex": [
       "$\\displaystyle 0.205817927672232$"
      ],
      "text/plain": [
       "0.20581792767223228"
      ]
     },
     "execution_count": 131,
     "metadata": {},
     "output_type": "execute_result"
    }
   ],
   "source": [
    "P_XL"
   ]
  },
  {
   "cell_type": "markdown",
   "id": "f2a3c581",
   "metadata": {},
   "source": [
    "# Hyperparameter optimisation"
   ]
  },
  {
   "cell_type": "code",
   "execution_count": 51,
   "id": "6575bcc5",
   "metadata": {},
   "outputs": [],
   "source": [
    "from sklearn.model_selection import cross_validate\n",
    "from sklearn.metrics import make_scorer\n",
    "from sklearn.metrics import accuracy_score as acc\n",
    "from sklearn.metrics import precision_score as precision\n",
    "from sklearn.metrics import recall_score as recall\n",
    "from sklearn.metrics import f1_score as f1\n",
    "from sklearn.model_selection import  GridSearchCV\n",
    "from sklearn.model_selection import  cross_val_score"
   ]
  },
  {
   "cell_type": "code",
   "execution_count": 52,
   "id": "6e023e1f",
   "metadata": {},
   "outputs": [],
   "source": [
    "clf = RandomForestRegressor()"
   ]
  },
  {
   "cell_type": "code",
   "execution_count": 53,
   "id": "b3e6e474",
   "metadata": {},
   "outputs": [],
   "source": [
    "scoring_list = ['neg_mean_squared_error', 'r2']"
   ]
  },
  {
   "cell_type": "code",
   "execution_count": 54,
   "id": "ebca550f",
   "metadata": {},
   "outputs": [],
   "source": [
    "def get_best_params(scoring):\n",
    "    clf = RandomForestRegressor()\n",
    "    param_grid = { \n",
    "    'n_estimators': [100, 500, 1000],\n",
    "    'max_depth' : [2,8,10]\n",
    "    }\n",
    "    clf = GridSearchCV(clf, param_grid, n_jobs = -1, cv = 10, scoring = scoring)\n",
    "    clf.fit(xt_train, y_train)\n",
    "    return clf.best_params_"
   ]
  },
  {
   "cell_type": "code",
   "execution_count": 55,
   "id": "fcf8f7c7",
   "metadata": {},
   "outputs": [
    {
     "name": "stdout",
     "output_type": "stream",
     "text": [
      "{'max_depth': 8, 'n_estimators': 1000}\n"
     ]
    }
   ],
   "source": [
    "print(get_best_params('neg_mean_squared_error'))"
   ]
  },
  {
   "cell_type": "code",
   "execution_count": 56,
   "id": "1cba658b",
   "metadata": {},
   "outputs": [
    {
     "name": "stdout",
     "output_type": "stream",
     "text": [
      "{'max_depth': 8, 'n_estimators': 100}\n"
     ]
    }
   ],
   "source": [
    "print(get_best_params('r2'))"
   ]
  },
  {
   "cell_type": "code",
   "execution_count": 57,
   "id": "f6fb9251",
   "metadata": {},
   "outputs": [],
   "source": [
    "clf = RandomForestRegressor(n_estimators=500, max_depth=8)"
   ]
  },
  {
   "cell_type": "code",
   "execution_count": 58,
   "id": "4e3d935d",
   "metadata": {},
   "outputs": [],
   "source": [
    "scoring_list = ['neg_mean_squared_error', 'r2']"
   ]
  },
  {
   "cell_type": "code",
   "execution_count": 59,
   "id": "69103d3c",
   "metadata": {},
   "outputs": [],
   "source": [
    "scores = cross_validate(clf, x_train, y_train, cv=10, scoring = scoring_list)"
   ]
  },
  {
   "cell_type": "code",
   "execution_count": 60,
   "id": "07bdbff0",
   "metadata": {},
   "outputs": [
    {
     "name": "stdout",
     "output_type": "stream",
     "text": [
      "MSE: -0.09726744 +/- 0.01706539\n",
      "R2: 0.24457777 +/- 0.07423843\n"
     ]
    }
   ],
   "source": [
    "print(\"MSE: %.8f +/- %.8f\" % (scores['test_neg_mean_squared_error'].mean(), scores['test_neg_mean_squared_error'].std()))\n",
    "print(\"R2: %.8f +/- %.8f\" % (scores['test_r2'].mean(), scores['test_r2'].std()))"
   ]
  },
  {
   "cell_type": "code",
   "execution_count": 132,
   "id": "6a9777eb",
   "metadata": {},
   "outputs": [
    {
     "data": {
      "text/html": [
       "<div>\n",
       "<style scoped>\n",
       "    .dataframe tbody tr th:only-of-type {\n",
       "        vertical-align: middle;\n",
       "    }\n",
       "\n",
       "    .dataframe tbody tr th {\n",
       "        vertical-align: top;\n",
       "    }\n",
       "\n",
       "    .dataframe thead th {\n",
       "        text-align: right;\n",
       "    }\n",
       "</style>\n",
       "<table border=\"1\" class=\"dataframe\">\n",
       "  <thead>\n",
       "    <tr style=\"text-align: right;\">\n",
       "      <th></th>\n",
       "      <th>Method</th>\n",
       "      <th>ATT test</th>\n",
       "      <th>Policy_risk test</th>\n",
       "    </tr>\n",
       "  </thead>\n",
       "  <tbody>\n",
       "    <tr>\n",
       "      <th>0</th>\n",
       "      <td>RF</td>\n",
       "      <td>0.021694</td>\n",
       "      <td>0.237230</td>\n",
       "    </tr>\n",
       "    <tr>\n",
       "      <th>1</th>\n",
       "      <td>TL</td>\n",
       "      <td>0.009336</td>\n",
       "      <td>0.251769</td>\n",
       "    </tr>\n",
       "    <tr>\n",
       "      <th>2</th>\n",
       "      <td>XL</td>\n",
       "      <td>0.020566</td>\n",
       "      <td>0.205818</td>\n",
       "    </tr>\n",
       "  </tbody>\n",
       "</table>\n",
       "</div>"
      ],
      "text/plain": [
       "  Method  ATT test  Policy_risk test\n",
       "0     RF  0.021694          0.237230\n",
       "1     TL  0.009336          0.251769\n",
       "2     XL  0.020566          0.205818"
      ]
     },
     "execution_count": 132,
     "metadata": {},
     "output_type": "execute_result"
    }
   ],
   "source": [
    "results = []\n",
    "results.append(['RF', ATT_RF, P_RF])\n",
    "results.append(['TL', ATT_TL, P_TL])\n",
    "results.append(['XL', ATT_XL, P_XL])\n",
    "\n",
    "cols = ['Method', 'ATT test', 'Policy_risk test']\n",
    "\n",
    "df = pd.DataFrame(results, columns=cols)\n",
    "df"
   ]
  },
  {
   "cell_type": "markdown",
   "id": "cf2ec555",
   "metadata": {},
   "source": [
    "## Propensity score re-weighting"
   ]
  },
  {
   "cell_type": "code",
   "execution_count": 61,
   "id": "2e4956fe",
   "metadata": {},
   "outputs": [],
   "source": [
    "def get_ps_weights(clf, x, t):\n",
    "    \n",
    "    ti = np.squeeze(t)\n",
    "    clf.fit(x, ti)\n",
    "    ptx = clf.predict_proba(x).T[1].T + 0.0002 # add a small value to avoid dividing by 0  \n",
    "    wi = (ti/ptx)+((1-ti)/(1-ptx))\n",
    "    return wi"
   ]
  },
  {
   "cell_type": "code",
   "execution_count": 62,
   "id": "81c574c7",
   "metadata": {},
   "outputs": [],
   "source": [
    "# Get the sample weights\n",
    "prop_clf = RandomForestClassifier()\n",
    "weights = get_ps_weights(prop_clf, x_train, t_train)\n",
    "\n",
    "# Train the regressor\n",
    "rf_ipsw = RandomForestRegressor()\n",
    "\n",
    "rf_ipsw.fit(xt_train, y_train, sample_weight=weights)\n",
    "\n",
    "# Make predictions\n",
    "rf_ipsw_y0_test = rf_ipsw.predict(xt0_test)\n",
    "\n",
    "rf_ipsw_y1_test = rf_ipsw.predict(xt1_test)\n",
    "\n",
    "\n",
    "# Compute ITEs\n",
    "rf_ipsw_te_test = rf_ipsw_y1_test - rf_ipsw_y0_test"
   ]
  },
  {
   "cell_type": "code",
   "execution_count": 134,
   "id": "fbae13a3",
   "metadata": {},
   "outputs": [],
   "source": [
    "ATT_IPSW = abs_att(rf_ipsw_te_test,y_test,t_test,e_test)"
   ]
  },
  {
   "cell_type": "code",
   "execution_count": 135,
   "id": "d7e2b718",
   "metadata": {},
   "outputs": [
    {
     "data": {
      "image/png": "[encoded data removed]",
      "text/latex": [
       "$\\displaystyle 0.0244489185626404$"
      ],
      "text/plain": [
       "0.024448918562640358"
      ]
     },
     "execution_count": 135,
     "metadata": {},
     "output_type": "execute_result"
    }
   ],
   "source": [
    "ATT_IPSW"
   ]
  },
  {
   "cell_type": "code",
   "execution_count": 137,
   "id": "e4eea009",
   "metadata": {},
   "outputs": [],
   "source": [
    "P_IPSW = policy_risk(rf_ipsw_te_test,y_test,t_test,e_test)"
   ]
  },
  {
   "cell_type": "code",
   "execution_count": 138,
   "id": "bd562483",
   "metadata": {},
   "outputs": [
    {
     "data": {
      "image/png": "[encoded data removed]",
      "text/latex": [
       "$\\displaystyle 0.229163907284768$"
      ],
      "text/plain": [
       "0.2291639072847682"
      ]
     },
     "execution_count": 138,
     "metadata": {},
     "output_type": "execute_result"
    }
   ],
   "source": [
    "P_IPSW"
   ]
  },
  {
   "cell_type": "code",
   "execution_count": 139,
   "id": "81658d41",
   "metadata": {},
   "outputs": [],
   "source": [
    "clf = RandomForestRegressor()"
   ]
  },
  {
   "cell_type": "code",
   "execution_count": 140,
   "id": "9461dc46",
   "metadata": {},
   "outputs": [],
   "source": [
    "scoring_list = ['neg_mean_squared_error', 'r2']"
   ]
  },
  {
   "cell_type": "code",
   "execution_count": 141,
   "id": "be26ba6b",
   "metadata": {},
   "outputs": [],
   "source": [
    "def get_best_parameter(scoring):\n",
    "    clf = RandomForestRegressor()\n",
    "    param_grid = { \n",
    "    'n_estimators': [100, 500, 1000],\n",
    "    'max_depth' : [2,8,10]\n",
    "    }\n",
    "    clf = GridSearchCV(clf, param_grid, n_jobs = -1, cv = 10, scoring = scoring)\n",
    "    clf.fit(xt_train, y_train, sample_weight=weights)\n",
    "    return clf.best_params_"
   ]
  },
  {
   "cell_type": "code",
   "execution_count": 142,
   "id": "5e818d28",
   "metadata": {},
   "outputs": [
    {
     "name": "stdout",
     "output_type": "stream",
     "text": [
      "{'max_depth': 8, 'n_estimators': 500}\n"
     ]
    }
   ],
   "source": [
    "print(get_best_parameter('neg_mean_squared_error'))"
   ]
  },
  {
   "cell_type": "code",
   "execution_count": 143,
   "id": "6d0bf4e4",
   "metadata": {},
   "outputs": [
    {
     "name": "stdout",
     "output_type": "stream",
     "text": [
      "{'max_depth': 8, 'n_estimators': 1000}\n"
     ]
    }
   ],
   "source": [
    "print(get_best_parameter('r2'))"
   ]
  },
  {
   "cell_type": "code",
   "execution_count": 144,
   "id": "595184b0",
   "metadata": {},
   "outputs": [],
   "source": [
    "clf = RandomForestRegressor(n_estimators=1000, max_depth=8)"
   ]
  },
  {
   "cell_type": "code",
   "execution_count": 145,
   "id": "00767df3",
   "metadata": {},
   "outputs": [],
   "source": [
    "scoring_list = ['neg_mean_squared_error', 'r2']"
   ]
  },
  {
   "cell_type": "code",
   "execution_count": 146,
   "id": "ea0b7b51",
   "metadata": {},
   "outputs": [],
   "source": [
    "scores = cross_validate(clf, x_train, y_train, cv=10, scoring = scoring_list)"
   ]
  },
  {
   "cell_type": "code",
   "execution_count": 147,
   "id": "80bfe27e",
   "metadata": {},
   "outputs": [
    {
     "name": "stdout",
     "output_type": "stream",
     "text": [
      "MSE: -0.09774861 +/- 0.01715228\n",
      "R2: 0.24063054 +/- 0.07637956\n"
     ]
    }
   ],
   "source": [
    "print(\"MSE: %.8f +/- %.8f\" % (scores['test_neg_mean_squared_error'].mean(), scores['test_neg_mean_squared_error'].std()))\n",
    "print(\"R2: %.8f +/- %.8f\" % (scores['test_r2'].mean(), scores['test_r2'].std()))"
   ]
  },
  {
   "cell_type": "code",
   "execution_count": 148,
   "id": "6e47bed6",
   "metadata": {},
   "outputs": [
    {
     "data": {
      "text/html": [
       "<div>\n",
       "<style scoped>\n",
       "    .dataframe tbody tr th:only-of-type {\n",
       "        vertical-align: middle;\n",
       "    }\n",
       "\n",
       "    .dataframe tbody tr th {\n",
       "        vertical-align: top;\n",
       "    }\n",
       "\n",
       "    .dataframe thead th {\n",
       "        text-align: right;\n",
       "    }\n",
       "</style>\n",
       "<table border=\"1\" class=\"dataframe\">\n",
       "  <thead>\n",
       "    <tr style=\"text-align: right;\">\n",
       "      <th></th>\n",
       "      <th>Method</th>\n",
       "      <th>ATT test</th>\n",
       "      <th>Policy_risk test</th>\n",
       "    </tr>\n",
       "  </thead>\n",
       "  <tbody>\n",
       "    <tr>\n",
       "      <th>0</th>\n",
       "      <td>RF</td>\n",
       "      <td>0.021694</td>\n",
       "      <td>0.237230</td>\n",
       "    </tr>\n",
       "    <tr>\n",
       "      <th>1</th>\n",
       "      <td>TL</td>\n",
       "      <td>0.009336</td>\n",
       "      <td>0.229164</td>\n",
       "    </tr>\n",
       "    <tr>\n",
       "      <th>2</th>\n",
       "      <td>XL</td>\n",
       "      <td>0.020566</td>\n",
       "      <td>0.205818</td>\n",
       "    </tr>\n",
       "    <tr>\n",
       "      <th>3</th>\n",
       "      <td>IPSW</td>\n",
       "      <td>0.024449</td>\n",
       "      <td>0.229164</td>\n",
       "    </tr>\n",
       "  </tbody>\n",
       "</table>\n",
       "</div>"
      ],
      "text/plain": [
       "  Method  ATT test  Policy_risk test\n",
       "0     RF  0.021694          0.237230\n",
       "1     TL  0.009336          0.229164\n",
       "2     XL  0.020566          0.205818\n",
       "3   IPSW  0.024449          0.229164"
      ]
     },
     "execution_count": 148,
     "metadata": {},
     "output_type": "execute_result"
    }
   ],
   "source": [
    "results = []\n",
    "results.append(['RF', ATT_RF, P_RF])\n",
    "results.append(['TL', ATT_TL, P_TL])\n",
    "results.append(['XL', ATT_XL, P_XL])\n",
    "results.append(['IPSW', ATT_IPSW, P_IPSW])\n",
    "\n",
    "cols = ['Method', 'ATT test', 'Policy_risk test']\n",
    "\n",
    "df = pd.DataFrame(results, columns=cols)\n",
    "df"
   ]
  },
  {
   "cell_type": "code",
   "execution_count": null,
   "id": "15af04d1",
   "metadata": {},
   "outputs": [],
   "source": []
  }
 ],
 "metadata": {
  "kernelspec": {
   "display_name": "Python 3 (ipykernel)",
   "language": "python",
   "name": "python3"
  },
  "language_info": {
   "codemirror_mode": {
    "name": "ipython",
    "version": 3
   },
   "file_extension": ".py",
   "mimetype": "text/x-python",
   "name": "python",
   "nbconvert_exporter": "python",
   "pygments_lexer": "ipython3",
   "version": "3.9.7"
  }
 },
 "nbformat": 4,
 "nbformat_minor": 5
}
