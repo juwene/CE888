{
 "cells": [
  {
   "cell_type": "code",
   "execution_count": 1,
   "id": "101c9642",
   "metadata": {},
   "outputs": [],
   "source": [
    "import matplotlib\n",
    "import numpy as np\n",
    "import matplotlib.pyplot as plt\n",
    "import pandas as pd\n",
    "import seaborn as sns\n",
    "from numpy.core.numeric import ones_like\n",
    "from numpy.core.numeric import zeros_like\n",
    "from sklearn.ensemble import RandomForestRegressor, GradientBoostingRegressor, RandomForestClassifier, ExtraTreesClassifier\n",
    "\n",
    "import itertools\n",
    "\n",
    "from sklearn.model_selection import train_test_split, StratifiedShuffleSplit, cross_val_score\n",
    "\n",
    "from sklearn.preprocessing import LabelEncoder, StandardScaler, OneHotEncoder\n",
    "from sklearn.compose import ColumnTransformer\n",
    "from sklearn.base import BaseEstimator, TransformerMixin\n",
    "from sklearn.pipeline import Pipeline\n",
    "\n",
    "from sklearn.tree import DecisionTreeRegressor\n",
    "from sklearn.ensemble import RandomForestRegressor, GradientBoostingRegressor, RandomForestClassifier, ExtraTreesClassifier\n",
    "from sklearn.linear_model import SGDRegressor, BayesianRidge\n",
    "from sklearn.metrics import mean_squared_error as mse\n",
    "from sklearn.metrics import mean_absolute_error as mae\n",
    "from sklearn.metrics import accuracy_score as acc\n",
    "from sklearn.metrics import make_scorer, confusion_matrix\n",
    "from sklearn.dummy import DummyRegressor, DummyClassifier"
   ]
  },
  {
   "cell_type": "code",
   "execution_count": 2,
   "id": "c1abcb30",
   "metadata": {},
   "outputs": [],
   "source": [
    "pd.set_option('display.max_columns', None)"
   ]
  },
  {
   "cell_type": "code",
   "execution_count": 3,
   "id": "0696943c",
   "metadata": {},
   "outputs": [],
   "source": [
    "df = pd.read_csv(\"ihdp.csv\")"
   ]
  },
  {
   "cell_type": "code",
   "execution_count": 4,
   "id": "d4ba2ef2",
   "metadata": {},
   "outputs": [
    {
     "data": {
      "text/html": [
       "<div>\n",
       "<style scoped>\n",
       "    .dataframe tbody tr th:only-of-type {\n",
       "        vertical-align: middle;\n",
       "    }\n",
       "\n",
       "    .dataframe tbody tr th {\n",
       "        vertical-align: top;\n",
       "    }\n",
       "\n",
       "    .dataframe thead th {\n",
       "        text-align: right;\n",
       "    }\n",
       "</style>\n",
       "<table border=\"1\" class=\"dataframe\">\n",
       "  <thead>\n",
       "    <tr style=\"text-align: right;\">\n",
       "      <th></th>\n",
       "      <th>x1</th>\n",
       "      <th>x2</th>\n",
       "      <th>x3</th>\n",
       "      <th>x4</th>\n",
       "      <th>x5</th>\n",
       "      <th>x6</th>\n",
       "      <th>x7</th>\n",
       "      <th>x8</th>\n",
       "      <th>x9</th>\n",
       "      <th>x10</th>\n",
       "      <th>x11</th>\n",
       "      <th>x12</th>\n",
       "      <th>x13</th>\n",
       "      <th>x14</th>\n",
       "      <th>x15</th>\n",
       "      <th>x16</th>\n",
       "      <th>x17</th>\n",
       "      <th>x18</th>\n",
       "      <th>x19</th>\n",
       "      <th>x20</th>\n",
       "      <th>x21</th>\n",
       "      <th>x22</th>\n",
       "      <th>x23</th>\n",
       "      <th>x24</th>\n",
       "      <th>x25</th>\n",
       "      <th>t</th>\n",
       "      <th>yf</th>\n",
       "      <th>ycf</th>\n",
       "      <th>ite</th>\n",
       "    </tr>\n",
       "  </thead>\n",
       "  <tbody>\n",
       "    <tr>\n",
       "      <th>0</th>\n",
       "      <td>1.397395</td>\n",
       "      <td>0.996346</td>\n",
       "      <td>-1.105624</td>\n",
       "      <td>-0.879606</td>\n",
       "      <td>0.308569</td>\n",
       "      <td>-1.023402</td>\n",
       "      <td>1.0</td>\n",
       "      <td>0.0</td>\n",
       "      <td>0.0</td>\n",
       "      <td>0.0</td>\n",
       "      <td>1.0</td>\n",
       "      <td>0.0</td>\n",
       "      <td>1.0</td>\n",
       "      <td>1.0</td>\n",
       "      <td>0.0</td>\n",
       "      <td>0.0</td>\n",
       "      <td>1.0</td>\n",
       "      <td>1.0</td>\n",
       "      <td>0.0</td>\n",
       "      <td>0.0</td>\n",
       "      <td>0.0</td>\n",
       "      <td>0.0</td>\n",
       "      <td>0.0</td>\n",
       "      <td>0.0</td>\n",
       "      <td>1.0</td>\n",
       "      <td>1.0</td>\n",
       "      <td>4.771232</td>\n",
       "      <td>-0.298509</td>\n",
       "      <td>4.657928</td>\n",
       "    </tr>\n",
       "    <tr>\n",
       "      <th>1</th>\n",
       "      <td>0.269033</td>\n",
       "      <td>0.196818</td>\n",
       "      <td>0.383828</td>\n",
       "      <td>0.161703</td>\n",
       "      <td>-0.629189</td>\n",
       "      <td>1.460832</td>\n",
       "      <td>1.0</td>\n",
       "      <td>0.0</td>\n",
       "      <td>1.0</td>\n",
       "      <td>0.0</td>\n",
       "      <td>0.0</td>\n",
       "      <td>1.0</td>\n",
       "      <td>0.0</td>\n",
       "      <td>0.0</td>\n",
       "      <td>0.0</td>\n",
       "      <td>1.0</td>\n",
       "      <td>1.0</td>\n",
       "      <td>1.0</td>\n",
       "      <td>1.0</td>\n",
       "      <td>0.0</td>\n",
       "      <td>0.0</td>\n",
       "      <td>0.0</td>\n",
       "      <td>0.0</td>\n",
       "      <td>0.0</td>\n",
       "      <td>0.0</td>\n",
       "      <td>0.0</td>\n",
       "      <td>2.956273</td>\n",
       "      <td>5.783770</td>\n",
       "      <td>3.428604</td>\n",
       "    </tr>\n",
       "    <tr>\n",
       "      <th>2</th>\n",
       "      <td>1.051537</td>\n",
       "      <td>1.795874</td>\n",
       "      <td>-1.105624</td>\n",
       "      <td>0.161703</td>\n",
       "      <td>-0.629189</td>\n",
       "      <td>0.963985</td>\n",
       "      <td>1.0</td>\n",
       "      <td>0.0</td>\n",
       "      <td>1.0</td>\n",
       "      <td>1.0</td>\n",
       "      <td>0.0</td>\n",
       "      <td>0.0</td>\n",
       "      <td>0.0</td>\n",
       "      <td>0.0</td>\n",
       "      <td>0.0</td>\n",
       "      <td>1.0</td>\n",
       "      <td>1.0</td>\n",
       "      <td>1.0</td>\n",
       "      <td>0.0</td>\n",
       "      <td>0.0</td>\n",
       "      <td>0.0</td>\n",
       "      <td>0.0</td>\n",
       "      <td>0.0</td>\n",
       "      <td>0.0</td>\n",
       "      <td>1.0</td>\n",
       "      <td>0.0</td>\n",
       "      <td>4.164164</td>\n",
       "      <td>7.055789</td>\n",
       "      <td>3.658195</td>\n",
       "    </tr>\n",
       "    <tr>\n",
       "      <th>3</th>\n",
       "      <td>0.662446</td>\n",
       "      <td>0.196818</td>\n",
       "      <td>-0.733261</td>\n",
       "      <td>-0.879606</td>\n",
       "      <td>0.371086</td>\n",
       "      <td>-0.692171</td>\n",
       "      <td>1.0</td>\n",
       "      <td>0.0</td>\n",
       "      <td>0.0</td>\n",
       "      <td>0.0</td>\n",
       "      <td>0.0</td>\n",
       "      <td>1.0</td>\n",
       "      <td>0.0</td>\n",
       "      <td>1.0</td>\n",
       "      <td>0.0</td>\n",
       "      <td>1.0</td>\n",
       "      <td>0.0</td>\n",
       "      <td>1.0</td>\n",
       "      <td>0.0</td>\n",
       "      <td>1.0</td>\n",
       "      <td>0.0</td>\n",
       "      <td>0.0</td>\n",
       "      <td>0.0</td>\n",
       "      <td>0.0</td>\n",
       "      <td>0.0</td>\n",
       "      <td>1.0</td>\n",
       "      <td>6.172307</td>\n",
       "      <td>1.379697</td>\n",
       "      <td>4.585505</td>\n",
       "    </tr>\n",
       "    <tr>\n",
       "      <th>4</th>\n",
       "      <td>0.856992</td>\n",
       "      <td>1.795874</td>\n",
       "      <td>0.011465</td>\n",
       "      <td>-0.879606</td>\n",
       "      <td>0.558638</td>\n",
       "      <td>0.301522</td>\n",
       "      <td>0.0</td>\n",
       "      <td>1.0</td>\n",
       "      <td>1.0</td>\n",
       "      <td>0.0</td>\n",
       "      <td>0.0</td>\n",
       "      <td>0.0</td>\n",
       "      <td>0.0</td>\n",
       "      <td>1.0</td>\n",
       "      <td>0.0</td>\n",
       "      <td>1.0</td>\n",
       "      <td>0.0</td>\n",
       "      <td>1.0</td>\n",
       "      <td>1.0</td>\n",
       "      <td>0.0</td>\n",
       "      <td>0.0</td>\n",
       "      <td>0.0</td>\n",
       "      <td>0.0</td>\n",
       "      <td>0.0</td>\n",
       "      <td>0.0</td>\n",
       "      <td>1.0</td>\n",
       "      <td>7.834469</td>\n",
       "      <td>2.747986</td>\n",
       "      <td>4.265591</td>\n",
       "    </tr>\n",
       "  </tbody>\n",
       "</table>\n",
       "</div>"
      ],
      "text/plain": [
       "         x1        x2        x3        x4        x5        x6   x7   x8   x9  \\\n",
       "0  1.397395  0.996346 -1.105624 -0.879606  0.308569 -1.023402  1.0  0.0  0.0   \n",
       "1  0.269033  0.196818  0.383828  0.161703 -0.629189  1.460832  1.0  0.0  1.0   \n",
       "2  1.051537  1.795874 -1.105624  0.161703 -0.629189  0.963985  1.0  0.0  1.0   \n",
       "3  0.662446  0.196818 -0.733261 -0.879606  0.371086 -0.692171  1.0  0.0  0.0   \n",
       "4  0.856992  1.795874  0.011465 -0.879606  0.558638  0.301522  0.0  1.0  1.0   \n",
       "\n",
       "   x10  x11  x12  x13  x14  x15  x16  x17  x18  x19  x20  x21  x22  x23  x24  \\\n",
       "0  0.0  1.0  0.0  1.0  1.0  0.0  0.0  1.0  1.0  0.0  0.0  0.0  0.0  0.0  0.0   \n",
       "1  0.0  0.0  1.0  0.0  0.0  0.0  1.0  1.0  1.0  1.0  0.0  0.0  0.0  0.0  0.0   \n",
       "2  1.0  0.0  0.0  0.0  0.0  0.0  1.0  1.0  1.0  0.0  0.0  0.0  0.0  0.0  0.0   \n",
       "3  0.0  0.0  1.0  0.0  1.0  0.0  1.0  0.0  1.0  0.0  1.0  0.0  0.0  0.0  0.0   \n",
       "4  0.0  0.0  0.0  0.0  1.0  0.0  1.0  0.0  1.0  1.0  0.0  0.0  0.0  0.0  0.0   \n",
       "\n",
       "   x25    t        yf       ycf       ite  \n",
       "0  1.0  1.0  4.771232 -0.298509  4.657928  \n",
       "1  0.0  0.0  2.956273  5.783770  3.428604  \n",
       "2  1.0  0.0  4.164164  7.055789  3.658195  \n",
       "3  0.0  1.0  6.172307  1.379697  4.585505  \n",
       "4  0.0  1.0  7.834469  2.747986  4.265591  "
      ]
     },
     "execution_count": 4,
     "metadata": {},
     "output_type": "execute_result"
    }
   ],
   "source": [
    "df.head()"
   ]
  },
  {
   "cell_type": "code",
   "execution_count": 5,
   "id": "b4e90fd7",
   "metadata": {},
   "outputs": [
    {
     "name": "stdout",
     "output_type": "stream",
     "text": [
      "<class 'pandas.core.frame.DataFrame'>\n",
      "RangeIndex: 747 entries, 0 to 746\n",
      "Data columns (total 29 columns):\n",
      " #   Column  Non-Null Count  Dtype  \n",
      "---  ------  --------------  -----  \n",
      " 0   x1      747 non-null    float64\n",
      " 1   x2      747 non-null    float64\n",
      " 2   x3      747 non-null    float64\n",
      " 3   x4      747 non-null    float64\n",
      " 4   x5      747 non-null    float64\n",
      " 5   x6      747 non-null    float64\n",
      " 6   x7      747 non-null    float64\n",
      " 7   x8      747 non-null    float64\n",
      " 8   x9      747 non-null    float64\n",
      " 9   x10     747 non-null    float64\n",
      " 10  x11     747 non-null    float64\n",
      " 11  x12     747 non-null    float64\n",
      " 12  x13     747 non-null    float64\n",
      " 13  x14     747 non-null    float64\n",
      " 14  x15     747 non-null    float64\n",
      " 15  x16     747 non-null    float64\n",
      " 16  x17     747 non-null    float64\n",
      " 17  x18     747 non-null    float64\n",
      " 18  x19     747 non-null    float64\n",
      " 19  x20     747 non-null    float64\n",
      " 20  x21     747 non-null    float64\n",
      " 21  x22     747 non-null    float64\n",
      " 22  x23     747 non-null    float64\n",
      " 23  x24     747 non-null    float64\n",
      " 24  x25     747 non-null    float64\n",
      " 25  t       747 non-null    float64\n",
      " 26  yf      747 non-null    float64\n",
      " 27  ycf     747 non-null    float64\n",
      " 28  ite     747 non-null    float64\n",
      "dtypes: float64(29)\n",
      "memory usage: 169.4 KB\n"
     ]
    }
   ],
   "source": [
    "df.info()"
   ]
  },
  {
   "cell_type": "code",
   "execution_count": 6,
   "id": "e3a1fd54",
   "metadata": {},
   "outputs": [
    {
     "data": {
      "text/html": [
       "<div>\n",
       "<style scoped>\n",
       "    .dataframe tbody tr th:only-of-type {\n",
       "        vertical-align: middle;\n",
       "    }\n",
       "\n",
       "    .dataframe tbody tr th {\n",
       "        vertical-align: top;\n",
       "    }\n",
       "\n",
       "    .dataframe thead th {\n",
       "        text-align: right;\n",
       "    }\n",
       "</style>\n",
       "<table border=\"1\" class=\"dataframe\">\n",
       "  <thead>\n",
       "    <tr style=\"text-align: right;\">\n",
       "      <th></th>\n",
       "      <th>x1</th>\n",
       "      <th>x2</th>\n",
       "      <th>x3</th>\n",
       "      <th>x4</th>\n",
       "      <th>x5</th>\n",
       "      <th>x6</th>\n",
       "      <th>x7</th>\n",
       "      <th>x8</th>\n",
       "      <th>x9</th>\n",
       "      <th>x10</th>\n",
       "      <th>x11</th>\n",
       "      <th>x12</th>\n",
       "      <th>x13</th>\n",
       "      <th>x14</th>\n",
       "      <th>x15</th>\n",
       "      <th>x16</th>\n",
       "      <th>x17</th>\n",
       "      <th>x18</th>\n",
       "      <th>x19</th>\n",
       "      <th>x20</th>\n",
       "      <th>x21</th>\n",
       "      <th>x22</th>\n",
       "      <th>x23</th>\n",
       "      <th>x24</th>\n",
       "      <th>x25</th>\n",
       "      <th>t</th>\n",
       "      <th>yf</th>\n",
       "      <th>ycf</th>\n",
       "      <th>ite</th>\n",
       "    </tr>\n",
       "  </thead>\n",
       "  <tbody>\n",
       "    <tr>\n",
       "      <th>count</th>\n",
       "      <td>7.470000e+02</td>\n",
       "      <td>7.470000e+02</td>\n",
       "      <td>7.470000e+02</td>\n",
       "      <td>7.470000e+02</td>\n",
       "      <td>7.470000e+02</td>\n",
       "      <td>7.470000e+02</td>\n",
       "      <td>747.000000</td>\n",
       "      <td>747.000000</td>\n",
       "      <td>747.000000</td>\n",
       "      <td>747.000000</td>\n",
       "      <td>747.000000</td>\n",
       "      <td>747.000000</td>\n",
       "      <td>747.000000</td>\n",
       "      <td>747.000000</td>\n",
       "      <td>747.000000</td>\n",
       "      <td>747.000000</td>\n",
       "      <td>747.000000</td>\n",
       "      <td>747.000000</td>\n",
       "      <td>747.000000</td>\n",
       "      <td>747.000000</td>\n",
       "      <td>747.000000</td>\n",
       "      <td>747.000000</td>\n",
       "      <td>747.000000</td>\n",
       "      <td>747.000000</td>\n",
       "      <td>747.000000</td>\n",
       "      <td>747.000000</td>\n",
       "      <td>747.000000</td>\n",
       "      <td>747.000000</td>\n",
       "      <td>747.000000</td>\n",
       "    </tr>\n",
       "    <tr>\n",
       "      <th>mean</th>\n",
       "      <td>3.626431e-17</td>\n",
       "      <td>2.348263e-17</td>\n",
       "      <td>-4.666801e-17</td>\n",
       "      <td>-9.012574e-16</td>\n",
       "      <td>4.518177e-17</td>\n",
       "      <td>-7.251376e-16</td>\n",
       "      <td>0.514056</td>\n",
       "      <td>0.093708</td>\n",
       "      <td>0.520750</td>\n",
       "      <td>0.364123</td>\n",
       "      <td>0.269076</td>\n",
       "      <td>0.219545</td>\n",
       "      <td>0.358768</td>\n",
       "      <td>0.463186</td>\n",
       "      <td>0.140562</td>\n",
       "      <td>0.959839</td>\n",
       "      <td>0.594378</td>\n",
       "      <td>0.963855</td>\n",
       "      <td>0.135207</td>\n",
       "      <td>0.135207</td>\n",
       "      <td>0.156627</td>\n",
       "      <td>0.081660</td>\n",
       "      <td>0.073628</td>\n",
       "      <td>0.128514</td>\n",
       "      <td>0.157965</td>\n",
       "      <td>0.186078</td>\n",
       "      <td>3.159538</td>\n",
       "      <td>5.696107</td>\n",
       "      <td>4.016067</td>\n",
       "    </tr>\n",
       "    <tr>\n",
       "      <th>std</th>\n",
       "      <td>1.000000e+00</td>\n",
       "      <td>1.000000e+00</td>\n",
       "      <td>1.000000e+00</td>\n",
       "      <td>1.000000e+00</td>\n",
       "      <td>1.000000e+00</td>\n",
       "      <td>1.000000e+00</td>\n",
       "      <td>0.500137</td>\n",
       "      <td>0.291618</td>\n",
       "      <td>0.499904</td>\n",
       "      <td>0.481506</td>\n",
       "      <td>0.443777</td>\n",
       "      <td>0.414216</td>\n",
       "      <td>0.479960</td>\n",
       "      <td>0.498977</td>\n",
       "      <td>0.347802</td>\n",
       "      <td>0.196467</td>\n",
       "      <td>0.491341</td>\n",
       "      <td>0.186775</td>\n",
       "      <td>0.342174</td>\n",
       "      <td>0.342174</td>\n",
       "      <td>0.363692</td>\n",
       "      <td>0.274029</td>\n",
       "      <td>0.261339</td>\n",
       "      <td>0.334886</td>\n",
       "      <td>0.364953</td>\n",
       "      <td>0.389430</td>\n",
       "      <td>2.179956</td>\n",
       "      <td>1.980121</td>\n",
       "      <td>0.859736</td>\n",
       "    </tr>\n",
       "    <tr>\n",
       "      <th>min</th>\n",
       "      <td>-2.731287e+00</td>\n",
       "      <td>-3.800823e+00</td>\n",
       "      <td>-1.850350e+00</td>\n",
       "      <td>-8.796060e-01</td>\n",
       "      <td>-5.130428e+00</td>\n",
       "      <td>-1.851480e+00</td>\n",
       "      <td>0.000000</td>\n",
       "      <td>0.000000</td>\n",
       "      <td>0.000000</td>\n",
       "      <td>0.000000</td>\n",
       "      <td>0.000000</td>\n",
       "      <td>0.000000</td>\n",
       "      <td>0.000000</td>\n",
       "      <td>0.000000</td>\n",
       "      <td>0.000000</td>\n",
       "      <td>0.000000</td>\n",
       "      <td>0.000000</td>\n",
       "      <td>0.000000</td>\n",
       "      <td>0.000000</td>\n",
       "      <td>0.000000</td>\n",
       "      <td>0.000000</td>\n",
       "      <td>0.000000</td>\n",
       "      <td>0.000000</td>\n",
       "      <td>0.000000</td>\n",
       "      <td>0.000000</td>\n",
       "      <td>0.000000</td>\n",
       "      <td>-1.543902</td>\n",
       "      <td>-1.037628</td>\n",
       "      <td>-1.866989</td>\n",
       "    </tr>\n",
       "    <tr>\n",
       "      <th>25%</th>\n",
       "      <td>-6.669461e-01</td>\n",
       "      <td>-6.027100e-01</td>\n",
       "      <td>-7.332610e-01</td>\n",
       "      <td>-8.796060e-01</td>\n",
       "      <td>-5.666720e-01</td>\n",
       "      <td>-8.577868e-01</td>\n",
       "      <td>0.000000</td>\n",
       "      <td>0.000000</td>\n",
       "      <td>0.000000</td>\n",
       "      <td>0.000000</td>\n",
       "      <td>0.000000</td>\n",
       "      <td>0.000000</td>\n",
       "      <td>0.000000</td>\n",
       "      <td>0.000000</td>\n",
       "      <td>0.000000</td>\n",
       "      <td>1.000000</td>\n",
       "      <td>0.000000</td>\n",
       "      <td>1.000000</td>\n",
       "      <td>0.000000</td>\n",
       "      <td>0.000000</td>\n",
       "      <td>0.000000</td>\n",
       "      <td>0.000000</td>\n",
       "      <td>0.000000</td>\n",
       "      <td>0.000000</td>\n",
       "      <td>0.000000</td>\n",
       "      <td>0.000000</td>\n",
       "      <td>1.626779</td>\n",
       "      <td>5.053598</td>\n",
       "      <td>3.775936</td>\n",
       "    </tr>\n",
       "    <tr>\n",
       "      <th>50%</th>\n",
       "      <td>1.652752e-01</td>\n",
       "      <td>1.968181e-01</td>\n",
       "      <td>-3.608980e-01</td>\n",
       "      <td>1.617025e-01</td>\n",
       "      <td>1.210172e-01</td>\n",
       "      <td>-2.970882e-02</td>\n",
       "      <td>1.000000</td>\n",
       "      <td>0.000000</td>\n",
       "      <td>1.000000</td>\n",
       "      <td>0.000000</td>\n",
       "      <td>0.000000</td>\n",
       "      <td>0.000000</td>\n",
       "      <td>0.000000</td>\n",
       "      <td>0.000000</td>\n",
       "      <td>0.000000</td>\n",
       "      <td>1.000000</td>\n",
       "      <td>1.000000</td>\n",
       "      <td>1.000000</td>\n",
       "      <td>0.000000</td>\n",
       "      <td>0.000000</td>\n",
       "      <td>0.000000</td>\n",
       "      <td>0.000000</td>\n",
       "      <td>0.000000</td>\n",
       "      <td>0.000000</td>\n",
       "      <td>0.000000</td>\n",
       "      <td>0.000000</td>\n",
       "      <td>2.577294</td>\n",
       "      <td>6.209686</td>\n",
       "      <td>4.304433</td>\n",
       "    </tr>\n",
       "    <tr>\n",
       "      <th>75%</th>\n",
       "      <td>8.137593e-01</td>\n",
       "      <td>5.965822e-01</td>\n",
       "      <td>7.561910e-01</td>\n",
       "      <td>1.617025e-01</td>\n",
       "      <td>6.836721e-01</td>\n",
       "      <td>6.327536e-01</td>\n",
       "      <td>1.000000</td>\n",
       "      <td>0.000000</td>\n",
       "      <td>1.000000</td>\n",
       "      <td>1.000000</td>\n",
       "      <td>1.000000</td>\n",
       "      <td>0.000000</td>\n",
       "      <td>1.000000</td>\n",
       "      <td>1.000000</td>\n",
       "      <td>0.000000</td>\n",
       "      <td>1.000000</td>\n",
       "      <td>1.000000</td>\n",
       "      <td>1.000000</td>\n",
       "      <td>0.000000</td>\n",
       "      <td>0.000000</td>\n",
       "      <td>0.000000</td>\n",
       "      <td>0.000000</td>\n",
       "      <td>0.000000</td>\n",
       "      <td>0.000000</td>\n",
       "      <td>0.000000</td>\n",
       "      <td>0.000000</td>\n",
       "      <td>4.494637</td>\n",
       "      <td>6.948922</td>\n",
       "      <td>4.569454</td>\n",
       "    </tr>\n",
       "    <tr>\n",
       "      <th>max</th>\n",
       "      <td>1.505476e+00</td>\n",
       "      <td>2.595403e+00</td>\n",
       "      <td>2.990369e+00</td>\n",
       "      <td>2.244320e+00</td>\n",
       "      <td>2.371637e+00</td>\n",
       "      <td>2.951372e+00</td>\n",
       "      <td>1.000000</td>\n",
       "      <td>1.000000</td>\n",
       "      <td>1.000000</td>\n",
       "      <td>1.000000</td>\n",
       "      <td>1.000000</td>\n",
       "      <td>1.000000</td>\n",
       "      <td>1.000000</td>\n",
       "      <td>1.000000</td>\n",
       "      <td>1.000000</td>\n",
       "      <td>1.000000</td>\n",
       "      <td>1.000000</td>\n",
       "      <td>1.000000</td>\n",
       "      <td>1.000000</td>\n",
       "      <td>1.000000</td>\n",
       "      <td>1.000000</td>\n",
       "      <td>1.000000</td>\n",
       "      <td>1.000000</td>\n",
       "      <td>1.000000</td>\n",
       "      <td>1.000000</td>\n",
       "      <td>1.000000</td>\n",
       "      <td>11.268228</td>\n",
       "      <td>10.171004</td>\n",
       "      <td>4.670125</td>\n",
       "    </tr>\n",
       "  </tbody>\n",
       "</table>\n",
       "</div>"
      ],
      "text/plain": [
       "                 x1            x2            x3            x4            x5  \\\n",
       "count  7.470000e+02  7.470000e+02  7.470000e+02  7.470000e+02  7.470000e+02   \n",
       "mean   3.626431e-17  2.348263e-17 -4.666801e-17 -9.012574e-16  4.518177e-17   \n",
       "std    1.000000e+00  1.000000e+00  1.000000e+00  1.000000e+00  1.000000e+00   \n",
       "min   -2.731287e+00 -3.800823e+00 -1.850350e+00 -8.796060e-01 -5.130428e+00   \n",
       "25%   -6.669461e-01 -6.027100e-01 -7.332610e-01 -8.796060e-01 -5.666720e-01   \n",
       "50%    1.652752e-01  1.968181e-01 -3.608980e-01  1.617025e-01  1.210172e-01   \n",
       "75%    8.137593e-01  5.965822e-01  7.561910e-01  1.617025e-01  6.836721e-01   \n",
       "max    1.505476e+00  2.595403e+00  2.990369e+00  2.244320e+00  2.371637e+00   \n",
       "\n",
       "                 x6          x7          x8          x9         x10  \\\n",
       "count  7.470000e+02  747.000000  747.000000  747.000000  747.000000   \n",
       "mean  -7.251376e-16    0.514056    0.093708    0.520750    0.364123   \n",
       "std    1.000000e+00    0.500137    0.291618    0.499904    0.481506   \n",
       "min   -1.851480e+00    0.000000    0.000000    0.000000    0.000000   \n",
       "25%   -8.577868e-01    0.000000    0.000000    0.000000    0.000000   \n",
       "50%   -2.970882e-02    1.000000    0.000000    1.000000    0.000000   \n",
       "75%    6.327536e-01    1.000000    0.000000    1.000000    1.000000   \n",
       "max    2.951372e+00    1.000000    1.000000    1.000000    1.000000   \n",
       "\n",
       "              x11         x12         x13         x14         x15         x16  \\\n",
       "count  747.000000  747.000000  747.000000  747.000000  747.000000  747.000000   \n",
       "mean     0.269076    0.219545    0.358768    0.463186    0.140562    0.959839   \n",
       "std      0.443777    0.414216    0.479960    0.498977    0.347802    0.196467   \n",
       "min      0.000000    0.000000    0.000000    0.000000    0.000000    0.000000   \n",
       "25%      0.000000    0.000000    0.000000    0.000000    0.000000    1.000000   \n",
       "50%      0.000000    0.000000    0.000000    0.000000    0.000000    1.000000   \n",
       "75%      1.000000    0.000000    1.000000    1.000000    0.000000    1.000000   \n",
       "max      1.000000    1.000000    1.000000    1.000000    1.000000    1.000000   \n",
       "\n",
       "              x17         x18         x19         x20         x21         x22  \\\n",
       "count  747.000000  747.000000  747.000000  747.000000  747.000000  747.000000   \n",
       "mean     0.594378    0.963855    0.135207    0.135207    0.156627    0.081660   \n",
       "std      0.491341    0.186775    0.342174    0.342174    0.363692    0.274029   \n",
       "min      0.000000    0.000000    0.000000    0.000000    0.000000    0.000000   \n",
       "25%      0.000000    1.000000    0.000000    0.000000    0.000000    0.000000   \n",
       "50%      1.000000    1.000000    0.000000    0.000000    0.000000    0.000000   \n",
       "75%      1.000000    1.000000    0.000000    0.000000    0.000000    0.000000   \n",
       "max      1.000000    1.000000    1.000000    1.000000    1.000000    1.000000   \n",
       "\n",
       "              x23         x24         x25           t          yf         ycf  \\\n",
       "count  747.000000  747.000000  747.000000  747.000000  747.000000  747.000000   \n",
       "mean     0.073628    0.128514    0.157965    0.186078    3.159538    5.696107   \n",
       "std      0.261339    0.334886    0.364953    0.389430    2.179956    1.980121   \n",
       "min      0.000000    0.000000    0.000000    0.000000   -1.543902   -1.037628   \n",
       "25%      0.000000    0.000000    0.000000    0.000000    1.626779    5.053598   \n",
       "50%      0.000000    0.000000    0.000000    0.000000    2.577294    6.209686   \n",
       "75%      0.000000    0.000000    0.000000    0.000000    4.494637    6.948922   \n",
       "max      1.000000    1.000000    1.000000    1.000000   11.268228   10.171004   \n",
       "\n",
       "              ite  \n",
       "count  747.000000  \n",
       "mean     4.016067  \n",
       "std      0.859736  \n",
       "min     -1.866989  \n",
       "25%      3.775936  \n",
       "50%      4.304433  \n",
       "75%      4.569454  \n",
       "max      4.670125  "
      ]
     },
     "execution_count": 6,
     "metadata": {},
     "output_type": "execute_result"
    }
   ],
   "source": [
    "df.describe()"
   ]
  },
  {
   "cell_type": "code",
   "execution_count": 7,
   "id": "6c8181c5",
   "metadata": {},
   "outputs": [
    {
     "data": {
      "text/plain": [
       "0"
      ]
     },
     "execution_count": 7,
     "metadata": {},
     "output_type": "execute_result"
    }
   ],
   "source": [
    "df.isnull().sum().sum()"
   ]
  },
  {
   "cell_type": "code",
   "execution_count": 8,
   "id": "3c42af1a",
   "metadata": {},
   "outputs": [
    {
     "data": {
      "text/plain": [
       "Index(['x1', 'x2', 'x3', 'x4', 'x5', 'x6', 'x7', 'x8', 'x9', 'x10', 'x11',\n",
       "       'x12', 'x13', 'x14', 'x15', 'x16', 'x17', 'x18', 'x19', 'x20', 'x21',\n",
       "       'x22', 'x23', 'x24', 'x25', 't', 'yf', 'ycf', 'ite'],\n",
       "      dtype='object')"
      ]
     },
     "execution_count": 8,
     "metadata": {},
     "output_type": "execute_result"
    }
   ],
   "source": [
    "df.columns"
   ]
  },
  {
   "cell_type": "code",
   "execution_count": 9,
   "id": "ca78f963",
   "metadata": {},
   "outputs": [],
   "source": [
    "from econml.metalearners import XLearner\n",
    "from sklearn.ensemble import RandomForestRegressor, RandomForestClassifier\n",
    "from sklearn.model_selection import train_test_split\n",
    "from sklearn.preprocessing import StandardScaler\n",
    "import numpy as np\n",
    "import pandas as pd\n",
    "import scipy.stats as st\n",
    "import matplotlib.pyplot as plt"
   ]
  },
  {
   "cell_type": "code",
   "execution_count": 10,
   "id": "280beecb",
   "metadata": {},
   "outputs": [],
   "source": [
    "X = df.iloc[:,:-4]"
   ]
  },
  {
   "cell_type": "code",
   "execution_count": 11,
   "id": "552523ad",
   "metadata": {},
   "outputs": [
    {
     "data": {
      "text/html": [
       "<div>\n",
       "<style scoped>\n",
       "    .dataframe tbody tr th:only-of-type {\n",
       "        vertical-align: middle;\n",
       "    }\n",
       "\n",
       "    .dataframe tbody tr th {\n",
       "        vertical-align: top;\n",
       "    }\n",
       "\n",
       "    .dataframe thead th {\n",
       "        text-align: right;\n",
       "    }\n",
       "</style>\n",
       "<table border=\"1\" class=\"dataframe\">\n",
       "  <thead>\n",
       "    <tr style=\"text-align: right;\">\n",
       "      <th></th>\n",
       "      <th>x1</th>\n",
       "      <th>x2</th>\n",
       "      <th>x3</th>\n",
       "      <th>x4</th>\n",
       "      <th>x5</th>\n",
       "      <th>x6</th>\n",
       "      <th>x7</th>\n",
       "      <th>x8</th>\n",
       "      <th>x9</th>\n",
       "      <th>x10</th>\n",
       "      <th>x11</th>\n",
       "      <th>x12</th>\n",
       "      <th>x13</th>\n",
       "      <th>x14</th>\n",
       "      <th>x15</th>\n",
       "      <th>x16</th>\n",
       "      <th>x17</th>\n",
       "      <th>x18</th>\n",
       "      <th>x19</th>\n",
       "      <th>x20</th>\n",
       "      <th>x21</th>\n",
       "      <th>x22</th>\n",
       "      <th>x23</th>\n",
       "      <th>x24</th>\n",
       "      <th>x25</th>\n",
       "    </tr>\n",
       "  </thead>\n",
       "  <tbody>\n",
       "    <tr>\n",
       "      <th>0</th>\n",
       "      <td>1.397395</td>\n",
       "      <td>0.996346</td>\n",
       "      <td>-1.105624</td>\n",
       "      <td>-0.879606</td>\n",
       "      <td>0.308569</td>\n",
       "      <td>-1.023402</td>\n",
       "      <td>1.0</td>\n",
       "      <td>0.0</td>\n",
       "      <td>0.0</td>\n",
       "      <td>0.0</td>\n",
       "      <td>1.0</td>\n",
       "      <td>0.0</td>\n",
       "      <td>1.0</td>\n",
       "      <td>1.0</td>\n",
       "      <td>0.0</td>\n",
       "      <td>0.0</td>\n",
       "      <td>1.0</td>\n",
       "      <td>1.0</td>\n",
       "      <td>0.0</td>\n",
       "      <td>0.0</td>\n",
       "      <td>0.0</td>\n",
       "      <td>0.0</td>\n",
       "      <td>0.0</td>\n",
       "      <td>0.0</td>\n",
       "      <td>1.0</td>\n",
       "    </tr>\n",
       "    <tr>\n",
       "      <th>1</th>\n",
       "      <td>0.269033</td>\n",
       "      <td>0.196818</td>\n",
       "      <td>0.383828</td>\n",
       "      <td>0.161703</td>\n",
       "      <td>-0.629189</td>\n",
       "      <td>1.460832</td>\n",
       "      <td>1.0</td>\n",
       "      <td>0.0</td>\n",
       "      <td>1.0</td>\n",
       "      <td>0.0</td>\n",
       "      <td>0.0</td>\n",
       "      <td>1.0</td>\n",
       "      <td>0.0</td>\n",
       "      <td>0.0</td>\n",
       "      <td>0.0</td>\n",
       "      <td>1.0</td>\n",
       "      <td>1.0</td>\n",
       "      <td>1.0</td>\n",
       "      <td>1.0</td>\n",
       "      <td>0.0</td>\n",
       "      <td>0.0</td>\n",
       "      <td>0.0</td>\n",
       "      <td>0.0</td>\n",
       "      <td>0.0</td>\n",
       "      <td>0.0</td>\n",
       "    </tr>\n",
       "    <tr>\n",
       "      <th>2</th>\n",
       "      <td>1.051537</td>\n",
       "      <td>1.795874</td>\n",
       "      <td>-1.105624</td>\n",
       "      <td>0.161703</td>\n",
       "      <td>-0.629189</td>\n",
       "      <td>0.963985</td>\n",
       "      <td>1.0</td>\n",
       "      <td>0.0</td>\n",
       "      <td>1.0</td>\n",
       "      <td>1.0</td>\n",
       "      <td>0.0</td>\n",
       "      <td>0.0</td>\n",
       "      <td>0.0</td>\n",
       "      <td>0.0</td>\n",
       "      <td>0.0</td>\n",
       "      <td>1.0</td>\n",
       "      <td>1.0</td>\n",
       "      <td>1.0</td>\n",
       "      <td>0.0</td>\n",
       "      <td>0.0</td>\n",
       "      <td>0.0</td>\n",
       "      <td>0.0</td>\n",
       "      <td>0.0</td>\n",
       "      <td>0.0</td>\n",
       "      <td>1.0</td>\n",
       "    </tr>\n",
       "    <tr>\n",
       "      <th>3</th>\n",
       "      <td>0.662446</td>\n",
       "      <td>0.196818</td>\n",
       "      <td>-0.733261</td>\n",
       "      <td>-0.879606</td>\n",
       "      <td>0.371086</td>\n",
       "      <td>-0.692171</td>\n",
       "      <td>1.0</td>\n",
       "      <td>0.0</td>\n",
       "      <td>0.0</td>\n",
       "      <td>0.0</td>\n",
       "      <td>0.0</td>\n",
       "      <td>1.0</td>\n",
       "      <td>0.0</td>\n",
       "      <td>1.0</td>\n",
       "      <td>0.0</td>\n",
       "      <td>1.0</td>\n",
       "      <td>0.0</td>\n",
       "      <td>1.0</td>\n",
       "      <td>0.0</td>\n",
       "      <td>1.0</td>\n",
       "      <td>0.0</td>\n",
       "      <td>0.0</td>\n",
       "      <td>0.0</td>\n",
       "      <td>0.0</td>\n",
       "      <td>0.0</td>\n",
       "    </tr>\n",
       "    <tr>\n",
       "      <th>4</th>\n",
       "      <td>0.856992</td>\n",
       "      <td>1.795874</td>\n",
       "      <td>0.011465</td>\n",
       "      <td>-0.879606</td>\n",
       "      <td>0.558638</td>\n",
       "      <td>0.301522</td>\n",
       "      <td>0.0</td>\n",
       "      <td>1.0</td>\n",
       "      <td>1.0</td>\n",
       "      <td>0.0</td>\n",
       "      <td>0.0</td>\n",
       "      <td>0.0</td>\n",
       "      <td>0.0</td>\n",
       "      <td>1.0</td>\n",
       "      <td>0.0</td>\n",
       "      <td>1.0</td>\n",
       "      <td>0.0</td>\n",
       "      <td>1.0</td>\n",
       "      <td>1.0</td>\n",
       "      <td>0.0</td>\n",
       "      <td>0.0</td>\n",
       "      <td>0.0</td>\n",
       "      <td>0.0</td>\n",
       "      <td>0.0</td>\n",
       "      <td>0.0</td>\n",
       "    </tr>\n",
       "  </tbody>\n",
       "</table>\n",
       "</div>"
      ],
      "text/plain": [
       "         x1        x2        x3        x4        x5        x6   x7   x8   x9  \\\n",
       "0  1.397395  0.996346 -1.105624 -0.879606  0.308569 -1.023402  1.0  0.0  0.0   \n",
       "1  0.269033  0.196818  0.383828  0.161703 -0.629189  1.460832  1.0  0.0  1.0   \n",
       "2  1.051537  1.795874 -1.105624  0.161703 -0.629189  0.963985  1.0  0.0  1.0   \n",
       "3  0.662446  0.196818 -0.733261 -0.879606  0.371086 -0.692171  1.0  0.0  0.0   \n",
       "4  0.856992  1.795874  0.011465 -0.879606  0.558638  0.301522  0.0  1.0  1.0   \n",
       "\n",
       "   x10  x11  x12  x13  x14  x15  x16  x17  x18  x19  x20  x21  x22  x23  x24  \\\n",
       "0  0.0  1.0  0.0  1.0  1.0  0.0  0.0  1.0  1.0  0.0  0.0  0.0  0.0  0.0  0.0   \n",
       "1  0.0  0.0  1.0  0.0  0.0  0.0  1.0  1.0  1.0  1.0  0.0  0.0  0.0  0.0  0.0   \n",
       "2  1.0  0.0  0.0  0.0  0.0  0.0  1.0  1.0  1.0  0.0  0.0  0.0  0.0  0.0  0.0   \n",
       "3  0.0  0.0  1.0  0.0  1.0  0.0  1.0  0.0  1.0  0.0  1.0  0.0  0.0  0.0  0.0   \n",
       "4  0.0  0.0  0.0  0.0  1.0  0.0  1.0  0.0  1.0  1.0  0.0  0.0  0.0  0.0  0.0   \n",
       "\n",
       "   x25  \n",
       "0  1.0  \n",
       "1  0.0  \n",
       "2  1.0  \n",
       "3  0.0  \n",
       "4  0.0  "
      ]
     },
     "execution_count": 11,
     "metadata": {},
     "output_type": "execute_result"
    }
   ],
   "source": [
    "X.head()"
   ]
  },
  {
   "cell_type": "code",
   "execution_count": 12,
   "id": "5ec99f90",
   "metadata": {},
   "outputs": [
    {
     "data": {
      "text/plain": [
       "array([1., 0., 0., 1., 1., 0., 0., 1., 0., 0., 0., 0., 0., 0., 0., 0., 0.,\n",
       "       1., 1., 0., 0., 0., 0., 0., 0., 0., 0., 0., 0., 0., 1., 0., 1., 0.,\n",
       "       1., 0., 0., 0., 0., 1., 0., 0., 0., 1., 0., 0., 0., 1., 1., 0., 0.,\n",
       "       0., 0., 1., 0., 0., 0., 0., 0., 0., 0., 0., 1., 0., 1., 0., 0., 0.,\n",
       "       0., 0., 0., 1., 0., 0., 0., 0., 0., 1., 0., 0., 0., 0., 1., 0., 0.,\n",
       "       0., 0., 0., 0., 0., 0., 0., 0., 0., 1., 1., 0., 1., 0., 0., 0., 0.,\n",
       "       1., 0., 0., 0., 0., 0., 1., 0., 0., 0., 0., 0., 1., 0., 0., 0., 0.,\n",
       "       1., 0., 0., 0., 0., 0., 0., 0., 0., 0., 0., 0., 0., 0., 1., 1., 0.,\n",
       "       0., 0., 1., 1., 0., 0., 1., 0., 0., 0., 0., 0., 0., 0., 1., 0., 0.,\n",
       "       1., 0., 0., 0., 0., 0., 0., 0., 0., 1., 0., 0., 0., 0., 0., 0., 0.,\n",
       "       1., 0., 0., 0., 0., 0., 1., 0., 0., 0., 0., 0., 0., 0., 0., 0., 0.,\n",
       "       1., 0., 0., 0., 1., 0., 0., 0., 0., 0., 0., 0., 0., 0., 0., 0., 0.,\n",
       "       0., 0., 0., 0., 0., 0., 0., 1., 0., 1., 0., 0., 0., 0., 0., 1., 0.,\n",
       "       0., 0., 0., 0., 0., 1., 0., 1., 0., 0., 0., 0., 0., 1., 0., 0., 0.,\n",
       "       0., 1., 0., 0., 0., 0., 0., 0., 0., 0., 0., 0., 0., 0., 0., 0., 0.,\n",
       "       0., 0., 0., 0., 1., 0., 1., 0., 1., 0., 1., 0., 0., 0., 1., 0., 0.,\n",
       "       1., 0., 0., 0., 0., 0., 0., 0., 1., 0., 0., 0., 0., 0., 1., 0., 0.,\n",
       "       0., 0., 1., 0., 1., 0., 0., 0., 0., 0., 0., 0., 0., 0., 0., 0., 0.,\n",
       "       0., 1., 0., 0., 0., 0., 0., 0., 0., 1., 0., 0., 0., 0., 0., 0., 1.,\n",
       "       0., 0., 1., 1., 0., 0., 0., 1., 0., 0., 0., 0., 0., 0., 1., 0., 0.,\n",
       "       1., 0., 0., 0., 1., 0., 0., 0., 1., 0., 1., 0., 0., 0., 0., 0., 0.,\n",
       "       0., 0., 1., 0., 0., 0., 0., 0., 0., 0., 0., 0., 0., 1., 1., 0., 1.,\n",
       "       1., 0., 0., 0., 0., 0., 0., 0., 0., 0., 0., 0., 0., 0., 0., 0., 0.,\n",
       "       0., 1., 1., 0., 0., 0., 0., 0., 1., 0., 0., 0., 0., 0., 0., 1., 0.,\n",
       "       0., 0., 0., 1., 1., 1., 0., 1., 0., 1., 0., 1., 0., 0., 0., 0., 1.,\n",
       "       0., 0., 0., 1., 0., 0., 0., 0., 0., 0., 0., 0., 0., 0., 0., 0., 0.,\n",
       "       0., 0., 0., 0., 0., 0., 0., 0., 0., 0., 0., 0., 0., 0., 0., 0., 0.,\n",
       "       0., 1., 0., 0., 1., 0., 0., 0., 1., 0., 0., 0., 0., 1., 0., 0., 0.,\n",
       "       0., 0., 0., 0., 0., 0., 0., 0., 0., 0., 1., 0., 0., 0., 0., 0., 0.,\n",
       "       0., 0., 0., 0., 0., 1., 0., 1., 0., 0., 1., 0., 0., 0., 0., 1., 0.,\n",
       "       1., 0., 0., 0., 0., 0., 0., 1., 0., 1., 0., 0., 0., 1., 0., 1., 0.,\n",
       "       0., 1., 0., 0., 0., 0., 0., 0., 0., 1., 0., 0., 0., 0., 1., 0., 0.,\n",
       "       0., 0., 0., 0., 0., 1., 0., 0., 1., 0., 1., 0., 0., 0., 0., 0., 0.,\n",
       "       1., 0., 1., 0., 0., 1., 0., 0., 0., 1., 1., 0., 0., 1., 0., 0., 0.,\n",
       "       0., 0., 0., 0., 1., 0., 1., 1., 0., 0., 0., 0., 0., 0., 0., 0., 1.,\n",
       "       0., 1., 0., 0., 1., 0., 0., 0., 0., 1., 0., 0., 0., 1., 0., 0., 0.,\n",
       "       0., 1., 0., 0., 0., 0., 0., 0., 0., 1., 0., 0., 0., 0., 0., 1., 0.,\n",
       "       0., 0., 0., 1., 0., 0., 0., 0., 0., 0., 0., 0., 0., 0., 0., 0., 0.,\n",
       "       0., 0., 0., 0., 0., 0., 0., 0., 0., 1., 0., 0., 0., 0., 1., 0., 0.,\n",
       "       1., 0., 0., 1., 0., 0., 0., 0., 0., 0., 1., 1., 0., 0., 0., 0., 0.,\n",
       "       1., 0., 0., 0., 0., 0., 0., 0., 0., 0., 1., 0., 0., 0., 0., 0., 0.,\n",
       "       0., 0., 0., 0., 0., 1., 0., 0., 0., 0., 0., 1., 1., 0., 0., 0., 0.,\n",
       "       0., 0., 0., 0., 0., 1., 1., 0., 1., 0., 0., 0., 1., 0., 0., 0., 1.,\n",
       "       0., 0., 0., 1., 0., 0., 1., 0., 0., 0., 0., 0., 0., 0., 0., 0.])"
      ]
     },
     "execution_count": 12,
     "metadata": {},
     "output_type": "execute_result"
    }
   ],
   "source": [
    "T = df.iloc[:,-4].values\n",
    "T"
   ]
  },
  {
   "cell_type": "code",
   "execution_count": 13,
   "id": "d0eab9fe",
   "metadata": {},
   "outputs": [],
   "source": [
    "T = np.reshape(T,(-1, 1))"
   ]
  },
  {
   "cell_type": "code",
   "execution_count": 14,
   "id": "a1220872",
   "metadata": {},
   "outputs": [
    {
     "name": "stderr",
     "output_type": "stream",
     "text": [
      "\n",
      "The to_png function was deprecated in Matplotlib 3.4 and will be removed two minor releases later. Use mathtext.math_to_image instead.\n",
      "\n",
      "The to_rgba function was deprecated in Matplotlib 3.4 and will be removed two minor releases later. Use mathtext.math_to_image instead.\n",
      "\n",
      "The to_mask function was deprecated in Matplotlib 3.4 and will be removed two minor releases later. Use mathtext.math_to_image instead.\n",
      "\n",
      "The MathtextBackendBitmap class was deprecated in Matplotlib 3.4 and will be removed two minor releases later. Use mathtext.math_to_image instead.\n"
     ]
    },
    {
     "data": {
      "image/png": "[encoded data removed]",
      "text/latex": [
       "$\\displaystyle \\left( 747, \\  1\\right)$"
      ],
      "text/plain": [
       "(747, 1)"
      ]
     },
     "execution_count": 14,
     "metadata": {},
     "output_type": "execute_result"
    }
   ],
   "source": [
    "T.shape"
   ]
  },
  {
   "cell_type": "code",
   "execution_count": 15,
   "id": "ddac3cf2",
   "metadata": {},
   "outputs": [],
   "source": [
    "Y = df.iloc[:,-3]"
   ]
  },
  {
   "cell_type": "code",
   "execution_count": 16,
   "id": "81cedf3e",
   "metadata": {},
   "outputs": [],
   "source": [
    "ITE = df.iloc[:,-1]"
   ]
  },
  {
   "cell_type": "code",
   "execution_count": null,
   "id": "fa7dceac",
   "metadata": {},
   "outputs": [],
   "source": []
  },
  {
   "cell_type": "code",
   "execution_count": 17,
   "id": "187a1b7f",
   "metadata": {},
   "outputs": [
    {
     "data": {
      "image/png": "[encoded data removed]",
      "text/plain": [
       "<Figure size 1152x288 with 4 Axes>"
      ]
     },
     "metadata": {
      "needs_background": "light"
     },
     "output_type": "display_data"
    }
   ],
   "source": [
    "bins=20\n",
    "fig, axs = plt.subplots(1, 4, figsize=(16, 4))\n",
    "axs[0].hist(X, bins=bins)\n",
    "axs[1].hist(T, bins=bins)\n",
    "axs[2].hist(Y, bins=bins)\n",
    "axs[3].hist(ITE, bins=bins)\n",
    "plt.show()"
   ]
  },
  {
   "cell_type": "code",
   "execution_count": 18,
   "id": "594085a2",
   "metadata": {},
   "outputs": [
    {
     "data": {
      "image/png": "[encoded data removed]",
      "text/latex": [
       "$\\displaystyle 4.01606689611834$"
      ],
      "text/plain": [
       "4.016066896118339"
      ]
     },
     "execution_count": 18,
     "metadata": {},
     "output_type": "execute_result"
    }
   ],
   "source": [
    "np.mean(ITE)"
   ]
  },
  {
   "cell_type": "code",
   "execution_count": 19,
   "id": "69260e2f",
   "metadata": {},
   "outputs": [],
   "source": [
    "# limit = 100\n",
    "# plt.scatter(X[T == 1][:limit], Y[T == 1][:limit], c = \"r\", label = \"Treated\")\n",
    "# plt.scatter(X[T == 0][:limit], Y[T == 0][:limit], c = \"g\", label = \"Control\")\n",
    "# plt.legend(ncol=2)"
   ]
  },
  {
   "cell_type": "code",
   "execution_count": 20,
   "id": "e736594a",
   "metadata": {},
   "outputs": [
    {
     "data": {
      "image/png": "[encoded data removed]",
      "text/latex": [
       "$\\displaystyle \\left( 747, \\  25\\right)$"
      ],
      "text/plain": [
       "(747, 25)"
      ]
     },
     "execution_count": 20,
     "metadata": {},
     "output_type": "execute_result"
    }
   ],
   "source": [
    "X.shape"
   ]
  },
  {
   "cell_type": "code",
   "execution_count": 21,
   "id": "af250751",
   "metadata": {},
   "outputs": [
    {
     "data": {
      "image/png": "[encoded data removed]",
      "text/latex": [
       "$\\displaystyle \\left( 747,\\right)$"
      ],
      "text/plain": [
       "(747,)"
      ]
     },
     "execution_count": 21,
     "metadata": {},
     "output_type": "execute_result"
    }
   ],
   "source": [
    "Y.shape"
   ]
  },
  {
   "cell_type": "code",
   "execution_count": 22,
   "id": "dff2088a",
   "metadata": {},
   "outputs": [
    {
     "data": {
      "image/png": "[encoded data removed]",
      "text/latex": [
       "$\\displaystyle \\left( 747, \\  1\\right)$"
      ],
      "text/plain": [
       "(747, 1)"
      ]
     },
     "execution_count": 22,
     "metadata": {},
     "output_type": "execute_result"
    }
   ],
   "source": [
    "T.shape"
   ]
  },
  {
   "cell_type": "code",
   "execution_count": 23,
   "id": "329a18dd",
   "metadata": {},
   "outputs": [],
   "source": [
    "x_train, x_test, t_train, t_test, y_train, y_test, ite_train, ite_test = train_test_split(X,T,Y,ITE, test_size=0.2, random_state=50)"
   ]
  },
  {
   "cell_type": "code",
   "execution_count": 24,
   "id": "4fde5542",
   "metadata": {},
   "outputs": [
    {
     "data": {
      "image/png": "[encoded data removed]",
      "text/latex": [
       "$\\displaystyle \\left( 597, \\  1\\right)$"
      ],
      "text/plain": [
       "(597, 1)"
      ]
     },
     "execution_count": 24,
     "metadata": {},
     "output_type": "execute_result"
    }
   ],
   "source": [
    "t_train.shape"
   ]
  },
  {
   "cell_type": "code",
   "execution_count": 25,
   "id": "b98c151b",
   "metadata": {},
   "outputs": [
    {
     "data": {
      "image/png": "[encoded data removed]",
      "text/latex": [
       "$\\displaystyle \\left( 597, \\  25\\right)$"
      ],
      "text/plain": [
       "(597, 25)"
      ]
     },
     "execution_count": 25,
     "metadata": {},
     "output_type": "execute_result"
    }
   ],
   "source": [
    "x_train.shape"
   ]
  },
  {
   "cell_type": "code",
   "execution_count": null,
   "id": "e215a207",
   "metadata": {},
   "outputs": [],
   "source": []
  },
  {
   "cell_type": "code",
   "execution_count": null,
   "id": "79b4d034",
   "metadata": {},
   "outputs": [],
   "source": []
  },
  {
   "cell_type": "markdown",
   "id": "77d93c06",
   "metadata": {},
   "source": [
    "# Random Forest"
   ]
  },
  {
   "cell_type": "code",
   "execution_count": 26,
   "id": "00e54052",
   "metadata": {},
   "outputs": [],
   "source": [
    "clf = RandomForestRegressor(100)"
   ]
  },
  {
   "cell_type": "code",
   "execution_count": 27,
   "id": "c22d41f3",
   "metadata": {},
   "outputs": [],
   "source": [
    "# the x and the treatment concatenated\n",
    "xt_train= np.concatenate([x_train,t_train], axis=1)"
   ]
  },
  {
   "cell_type": "code",
   "execution_count": 28,
   "id": "60e445b9",
   "metadata": {},
   "outputs": [
    {
     "data": {
      "image/png": "[encoded data removed]",
      "text/latex": [
       "$\\displaystyle \\left( 597, \\  25\\right)$"
      ],
      "text/plain": [
       "(597, 25)"
      ]
     },
     "execution_count": 28,
     "metadata": {},
     "output_type": "execute_result"
    }
   ],
   "source": [
    "x_train.shape"
   ]
  },
  {
   "cell_type": "code",
   "execution_count": 29,
   "id": "3c134d73",
   "metadata": {},
   "outputs": [
    {
     "data": {
      "image/png": "[encoded data removed]",
      "text/latex": [
       "$\\displaystyle \\left( 597, \\  26\\right)$"
      ],
      "text/plain": [
       "(597, 26)"
      ]
     },
     "execution_count": 29,
     "metadata": {},
     "output_type": "execute_result"
    }
   ],
   "source": [
    "xt_train.shape"
   ]
  },
  {
   "cell_type": "code",
   "execution_count": 30,
   "id": "9bd05e02",
   "metadata": {},
   "outputs": [
    {
     "data": {
      "text/plain": [
       "RandomForestRegressor()"
      ]
     },
     "execution_count": 30,
     "metadata": {},
     "output_type": "execute_result"
    }
   ],
   "source": [
    "clf.fit(xt_train,y_train)"
   ]
  },
  {
   "cell_type": "code",
   "execution_count": 31,
   "id": "35887056",
   "metadata": {},
   "outputs": [],
   "source": [
    "# concatenating confounders with an array of tratment equals to zero\n",
    "xt0_test = np.concatenate([x_test, np.zeros_like(t_test)], axis=1)"
   ]
  },
  {
   "cell_type": "code",
   "execution_count": 32,
   "id": "d39d5995",
   "metadata": {},
   "outputs": [],
   "source": [
    "rf_y0_test = clf.predict(xt0_test)"
   ]
  },
  {
   "cell_type": "code",
   "execution_count": 33,
   "id": "ae06dad5",
   "metadata": {},
   "outputs": [
    {
     "data": {
      "text/plain": [
       "array([[-0.48320893,  0.19681812, -0.36089799, ...,  0.        ,\n",
       "         0.        ,  0.        ],\n",
       "       [ 0.87860773,  1.39611031, -0.36089799, ...,  0.        ,\n",
       "         0.        ,  0.        ],\n",
       "       [ 1.31093048,  1.39611031, -1.47798693, ...,  0.        ,\n",
       "         0.        ,  0.        ],\n",
       "       ...,\n",
       "       [-0.22381528,  0.19681812, -0.36089799, ...,  0.        ,\n",
       "         0.        ,  0.        ],\n",
       "       [-0.28866369,  0.19681812, -0.73326097, ...,  0.        ,\n",
       "         1.        ,  0.        ],\n",
       "       [ 0.31658816,  0.19681812, -0.73326097, ...,  0.        ,\n",
       "         1.        ,  0.        ]])"
      ]
     },
     "execution_count": 33,
     "metadata": {},
     "output_type": "execute_result"
    }
   ],
   "source": [
    "xt0_test"
   ]
  },
  {
   "cell_type": "code",
   "execution_count": 35,
   "id": "2f3942c8",
   "metadata": {},
   "outputs": [],
   "source": [
    "# concatenating confounders with an array of tratment equals to one\n",
    "xt1_test = np.concatenate([x_test, np.ones_like(t_test)], axis=1)"
   ]
  },
  {
   "cell_type": "code",
   "execution_count": 36,
   "id": "ba48d261",
   "metadata": {},
   "outputs": [],
   "source": [
    "rf_y1_test = clf.predict(xt1_test)"
   ]
  },
  {
   "cell_type": "code",
   "execution_count": 37,
   "id": "c69629bf",
   "metadata": {},
   "outputs": [],
   "source": [
    "# computing predicted ite"
   ]
  },
  {
   "cell_type": "code",
   "execution_count": 38,
   "id": "14c44659",
   "metadata": {},
   "outputs": [],
   "source": [
    "rf_ite_test = rf_y1_test - rf_y0_test"
   ]
  },
  {
   "cell_type": "code",
   "execution_count": 39,
   "id": "bcde2b8b",
   "metadata": {},
   "outputs": [
    {
     "name": "stderr",
     "output_type": "stream",
     "text": [
      "\n",
      "The to_png function was deprecated in Matplotlib 3.4 and will be removed two minor releases later. Use mathtext.math_to_image instead.\n",
      "\n",
      "The to_rgba function was deprecated in Matplotlib 3.4 and will be removed two minor releases later. Use mathtext.math_to_image instead.\n",
      "\n",
      "The to_mask function was deprecated in Matplotlib 3.4 and will be removed two minor releases later. Use mathtext.math_to_image instead.\n",
      "\n",
      "The MathtextBackendBitmap class was deprecated in Matplotlib 3.4 and will be removed two minor releases later. Use mathtext.math_to_image instead.\n"
     ]
    },
    {
     "data": {
      "image/png": "[encoded data removed]",
      "text/latex": [
       "$\\displaystyle \\left( 150,\\right)$"
      ],
      "text/plain": [
       "(150,)"
      ]
     },
     "execution_count": 39,
     "metadata": {},
     "output_type": "execute_result"
    }
   ],
   "source": [
    "rf_ite_test.shape"
   ]
  },
  {
   "cell_type": "code",
   "execution_count": 176,
   "id": "58a59b32",
   "metadata": {},
   "outputs": [
    {
     "data": {
      "image/png": "[encoded data removed]",
      "text/plain": [
       "<Figure size 432x288 with 1 Axes>"
      ]
     },
     "metadata": {
      "needs_background": "light"
     },
     "output_type": "display_data"
    }
   ],
   "source": [
    "# plotting points as a scatter plot\n",
    "plt.scatter(rf_ite_test, ite_test, label= \"stars\", color= \"green\",\n",
    "            marker= \"*\", s=30)\n",
    " \n",
    "# x-axis label\n",
    "plt.xlabel('actual ITE - axis')\n",
    "# frequency label\n",
    "plt.ylabel('predicted ITE - axis')\n",
    "# plot title\n",
    "plt.title('My scatter plot!')\n",
    "# showing legend\n",
    "plt.legend()\n",
    " \n",
    "# function to show the plot\n",
    "plt.show()"
   ]
  },
  {
   "cell_type": "code",
   "execution_count": 40,
   "id": "6a0bcf67",
   "metadata": {},
   "outputs": [
    {
     "data": {
      "text/html": [
       "<div>\n",
       "<style scoped>\n",
       "    .dataframe tbody tr th:only-of-type {\n",
       "        vertical-align: middle;\n",
       "    }\n",
       "\n",
       "    .dataframe tbody tr th {\n",
       "        vertical-align: top;\n",
       "    }\n",
       "\n",
       "    .dataframe thead th {\n",
       "        text-align: right;\n",
       "    }\n",
       "</style>\n",
       "<table border=\"1\" class=\"dataframe\">\n",
       "  <thead>\n",
       "    <tr style=\"text-align: right;\">\n",
       "      <th></th>\n",
       "      <th>Actual</th>\n",
       "      <th>Predicted</th>\n",
       "    </tr>\n",
       "  </thead>\n",
       "  <tbody>\n",
       "    <tr>\n",
       "      <th>536</th>\n",
       "      <td>4.670125</td>\n",
       "      <td>4.640111</td>\n",
       "    </tr>\n",
       "    <tr>\n",
       "      <th>387</th>\n",
       "      <td>4.335205</td>\n",
       "      <td>4.672645</td>\n",
       "    </tr>\n",
       "    <tr>\n",
       "      <th>625</th>\n",
       "      <td>4.163558</td>\n",
       "      <td>4.716057</td>\n",
       "    </tr>\n",
       "    <tr>\n",
       "      <th>549</th>\n",
       "      <td>4.304433</td>\n",
       "      <td>4.680277</td>\n",
       "    </tr>\n",
       "    <tr>\n",
       "      <th>407</th>\n",
       "      <td>4.635409</td>\n",
       "      <td>3.562631</td>\n",
       "    </tr>\n",
       "    <tr>\n",
       "      <th>...</th>\n",
       "      <td>...</td>\n",
       "      <td>...</td>\n",
       "    </tr>\n",
       "    <tr>\n",
       "      <th>323</th>\n",
       "      <td>4.644078</td>\n",
       "      <td>4.798505</td>\n",
       "    </tr>\n",
       "    <tr>\n",
       "      <th>23</th>\n",
       "      <td>4.457784</td>\n",
       "      <td>4.560970</td>\n",
       "    </tr>\n",
       "    <tr>\n",
       "      <th>315</th>\n",
       "      <td>4.670125</td>\n",
       "      <td>4.996991</td>\n",
       "    </tr>\n",
       "    <tr>\n",
       "      <th>188</th>\n",
       "      <td>4.336900</td>\n",
       "      <td>3.863069</td>\n",
       "    </tr>\n",
       "    <tr>\n",
       "      <th>316</th>\n",
       "      <td>2.590934</td>\n",
       "      <td>1.332744</td>\n",
       "    </tr>\n",
       "  </tbody>\n",
       "</table>\n",
       "<p>150 rows × 2 columns</p>\n",
       "</div>"
      ],
      "text/plain": [
       "       Actual  Predicted\n",
       "536  4.670125   4.640111\n",
       "387  4.335205   4.672645\n",
       "625  4.163558   4.716057\n",
       "549  4.304433   4.680277\n",
       "407  4.635409   3.562631\n",
       "..        ...        ...\n",
       "323  4.644078   4.798505\n",
       "23   4.457784   4.560970\n",
       "315  4.670125   4.996991\n",
       "188  4.336900   3.863069\n",
       "316  2.590934   1.332744\n",
       "\n",
       "[150 rows x 2 columns]"
      ]
     },
     "execution_count": 40,
     "metadata": {},
     "output_type": "execute_result"
    }
   ],
   "source": [
    "# showing the actual and the predicted ITE\n",
    "cf = pd.DataFrame({'Actual':ite_test , 'Predicted': rf_ite_test})\n",
    "cf"
   ]
  },
  {
   "cell_type": "code",
   "execution_count": 41,
   "id": "7ce48291",
   "metadata": {},
   "outputs": [
    {
     "data": {
      "text/plain": [
       "array([[ 4.64011118,  4.67012464],\n",
       "       [ 4.33520458,  4.67264534],\n",
       "       [ 4.16355777,  4.71605736],\n",
       "       [ 4.3044335 ,  4.68027682],\n",
       "       [ 3.56263121,  4.63540929],\n",
       "       [ 4.18203264,  4.96890442],\n",
       "       [ 4.42252223,  4.55108091],\n",
       "       [ 4.39930885,  4.66719402],\n",
       "       [ 4.61143145,  4.85016421],\n",
       "       [ 4.14395312,  4.59824598],\n",
       "       [ 3.71830237,  4.65855383],\n",
       "       [ 4.32052845,  4.42505131],\n",
       "       [ 4.0617548 ,  4.12376336],\n",
       "       [ 3.70706728,  4.00783615],\n",
       "       [ 4.56945397,  5.15185322],\n",
       "       [ 3.05560645,  3.06259932],\n",
       "       [ 4.6005372 ,  4.63552263],\n",
       "       [ 4.22584704,  4.30904417],\n",
       "       [ 4.24917575,  4.82409114],\n",
       "       [ 4.56945397,  5.20891564],\n",
       "       [ 4.26555377,  4.67012464],\n",
       "       [ 4.56945397,  4.89302443],\n",
       "       [ 4.58180187,  4.61347703],\n",
       "       [ 0.57948845,  1.96601287],\n",
       "       [ 2.85955913,  3.19465374],\n",
       "       [ 4.53091834,  4.71800423],\n",
       "       [ 4.17648947,  4.46022546],\n",
       "       [ 3.95862427,  4.33253539],\n",
       "       [-0.76420993,  1.83204734],\n",
       "       [ 4.06753864,  4.76032495],\n",
       "       [ 4.5174527 ,  4.61143145],\n",
       "       [ 3.91829602,  4.33458174],\n",
       "       [ 4.02783994,  4.37373623],\n",
       "       [ 3.92780623,  4.47492098],\n",
       "       [ 4.3456173 ,  4.6577192 ],\n",
       "       [ 2.73296379,  3.24386176],\n",
       "       [ 4.34629151,  4.62358293],\n",
       "       [ 4.66624008,  5.03562377],\n",
       "       [ 4.11597749,  5.54751161],\n",
       "       [ 0.30958829,  1.97706591],\n",
       "       [ 4.22953944,  4.65168933],\n",
       "       [ 3.92267753,  4.48285222],\n",
       "       [ 4.59824598,  4.72698524],\n",
       "       [ 3.79474502,  4.53465815],\n",
       "       [ 4.6577192 ,  4.8001544 ],\n",
       "       [ 4.16919351,  4.44115964],\n",
       "       [ 4.25915748,  4.28031889],\n",
       "       [ 4.12279223,  4.66267948],\n",
       "       [ 4.43435033,  4.88827079],\n",
       "       [ 4.61347703,  4.88839085],\n",
       "       [ 2.66748863,  2.85132228],\n",
       "       [ 4.4045165 ,  5.03345958],\n",
       "       [ 4.58355195,  5.17317187],\n",
       "       [ 2.49148132,  2.82107959],\n",
       "       [ 3.74523725,  4.18203264],\n",
       "       [ 4.48683273,  4.91501179],\n",
       "       [ 4.6687188 ,  5.36908895],\n",
       "       [ 3.34247478,  3.85557686],\n",
       "       [ 3.65819485,  4.2037086 ],\n",
       "       [ 3.80282028,  4.42973925],\n",
       "       [ 3.05268996,  3.66981629],\n",
       "       [ 4.11487158,  4.17648947],\n",
       "       [ 3.91829602,  4.6650411 ],\n",
       "       [ 3.3877658 ,  3.86693745],\n",
       "       [ 3.39728627,  3.52054189],\n",
       "       [ 2.12510442,  2.82832153],\n",
       "       [ 1.16902326,  2.75682759],\n",
       "       [ 4.29653422,  4.42863885],\n",
       "       [ 4.11800751,  4.55108091],\n",
       "       [ 2.67952674,  3.42860435],\n",
       "       [ 4.37562645,  4.6687188 ],\n",
       "       [ 3.84055907,  4.39955027],\n",
       "       [ 4.03823606,  4.2116006 ],\n",
       "       [ 2.95536336,  3.05738028],\n",
       "       [ 3.967578  ,  4.02968109],\n",
       "       [ 4.61978046,  4.6687188 ],\n",
       "       [ 3.92780623,  4.00521194],\n",
       "       [ 3.96413542,  4.12968006],\n",
       "       [ 3.32833801,  3.75546979],\n",
       "       [ 3.66387497,  3.72944805],\n",
       "       [ 4.03452132,  4.13197241],\n",
       "       [ 4.6687188 ,  4.85723631],\n",
       "       [ 4.3395473 ,  5.10406103],\n",
       "       [ 4.06926862,  4.6687188 ],\n",
       "       [ 3.52503563,  4.48285222],\n",
       "       [ 3.77705659,  3.97651885],\n",
       "       [ 4.20680895,  5.15731235],\n",
       "       [ 4.41970248,  4.66267948],\n",
       "       [ 4.53170466,  5.11501454],\n",
       "       [-0.17884029,  0.39662092],\n",
       "       [ 4.45778361,  5.09569594],\n",
       "       [ 4.26066812,  4.69353821],\n",
       "       [ 4.33520458,  4.38859654],\n",
       "       [ 4.2937224 ,  4.82263963],\n",
       "       [ 3.49789301,  3.76367231],\n",
       "       [ 3.83901241,  4.97043624],\n",
       "       [ 4.62358293,  4.95548178],\n",
       "       [ 4.2269045 ,  4.37373623],\n",
       "       [ 4.43435033,  4.46048553],\n",
       "       [ 4.53170466,  5.67211414],\n",
       "       [ 4.3044335 ,  4.30619329],\n",
       "       [ 4.56663652,  4.7173451 ],\n",
       "       [ 4.24743421,  4.52832494],\n",
       "       [ 4.34191105,  4.54798163],\n",
       "       [ 4.45007897,  5.00511218],\n",
       "       [ 4.49052672,  4.50694597],\n",
       "       [ 4.48899211,  4.63540929],\n",
       "       [ 4.6005372 ,  4.61607948],\n",
       "       [ 2.70637937,  3.3174366 ],\n",
       "       [ 4.40071693,  5.42521239],\n",
       "       [ 4.4045165 ,  4.94359507],\n",
       "       [-0.42612823,  2.12170649],\n",
       "       [ 3.851003  ,  4.58355195],\n",
       "       [-0.76148989,  0.77879401],\n",
       "       [ 4.66465512,  4.6687188 ],\n",
       "       [ 3.5077552 ,  3.55022807],\n",
       "       [ 4.26719466,  4.42863885],\n",
       "       [ 4.50694597,  4.66627371],\n",
       "       [ 4.56945397,  4.81177607],\n",
       "       [ 4.48683273,  4.79821894],\n",
       "       [ 2.26021486,  2.71443472],\n",
       "       [ 4.42972789,  5.15395451],\n",
       "       [ 4.37373623,  4.65597453],\n",
       "       [ 3.85205025,  4.66267948],\n",
       "       [ 4.08200826,  4.38745995],\n",
       "       [ 3.33165421,  3.33225101],\n",
       "       [ 2.8554441 ,  3.11847314],\n",
       "       [ 4.12968006,  4.27224959],\n",
       "       [ 4.09338895,  4.65792818],\n",
       "       [ 4.36592469,  4.97098864],\n",
       "       [ 2.6148297 ,  2.72065017],\n",
       "       [ 4.02968109,  4.4147078 ],\n",
       "       [ 4.06999838,  4.28185643],\n",
       "       [ 3.05946563,  3.80035998],\n",
       "       [ 3.3174366 ,  3.49246232],\n",
       "       [ 4.20680895,  4.276108  ],\n",
       "       [ 4.33520458,  4.60320562],\n",
       "       [ 4.44226122,  4.50976145],\n",
       "       [ 3.85926731,  3.88800414],\n",
       "       [ 4.59344033,  4.65168933],\n",
       "       [ 4.25265983,  5.00982935],\n",
       "       [ 4.17648947,  5.33856434],\n",
       "       [ 4.22266268,  4.66466698],\n",
       "       [ 3.71830237,  4.11513662],\n",
       "       [ 4.12710865,  4.16919351],\n",
       "       [ 4.64407754,  4.79850541],\n",
       "       [ 4.45778361,  4.56097046],\n",
       "       [ 4.67012464,  4.99699133],\n",
       "       [ 3.86306937,  4.33689951],\n",
       "       [ 1.33274394,  2.59093387]])"
      ]
     },
     "execution_count": 41,
     "metadata": {},
     "output_type": "execute_result"
    }
   ],
   "source": [
    "np.sort(cf)"
   ]
  },
  {
   "cell_type": "markdown",
   "id": "71659a34",
   "metadata": {},
   "source": [
    "# T-learner"
   ]
  },
  {
   "cell_type": "code",
   "execution_count": 42,
   "id": "0a181c01",
   "metadata": {},
   "outputs": [],
   "source": [
    "#T-Learner\n",
    "from sklearn.linear_model import LinearRegression\n",
    "regressor = LinearRegression()\n",
    "m0 = LinearRegression()\n",
    "m1 = LinearRegression()\n",
    "t0_idx = (t_train == 0).flatten()\n",
    "t1_idx = (t_train == 1).flatten()\n",
    "# train on control units\n",
    "m0.fit(x_train[t0_idx], y_train[t0_idx])\n",
    "# train on treated units\n",
    "m1.fit(x_train[t1_idx], y_train[t1_idx])\n",
    "y0_pred = m0.predict(x_test)\n",
    "y1_pred = m1.predict(x_test)\n",
    "effect_pred = y1_pred - y0_pred\n"
   ]
  },
  {
   "cell_type": "code",
   "execution_count": 43,
   "id": "707672b4",
   "metadata": {},
   "outputs": [
    {
     "data": {
      "text/plain": [
       "array([[4.67012464, 5.47795968],\n",
       "       [4.20430057, 4.33520458],\n",
       "       [3.79783962, 4.16355777],\n",
       "       [4.3044335 , 4.42628572],\n",
       "       [4.40918726, 4.63540929],\n",
       "       [3.404913  , 4.18203264],\n",
       "       [4.50934797, 4.55108091],\n",
       "       [4.66719402, 5.39219946],\n",
       "       [4.61143145, 5.8966982 ],\n",
       "       [3.9930378 , 4.59824598],\n",
       "       [3.71830237, 4.19845571],\n",
       "       [3.33774354, 4.42505131],\n",
       "       [3.60254551, 4.12376336],\n",
       "       [3.62803051, 3.70706728],\n",
       "       [4.28712172, 4.56945397],\n",
       "       [2.18434715, 3.06259932],\n",
       "       [4.6005372 , 5.17363866],\n",
       "       [4.22584704, 4.56443351],\n",
       "       [4.13601811, 4.24917575],\n",
       "       [4.56945397, 4.8868925 ],\n",
       "       [4.67012464, 5.42952122],\n",
       "       [4.56945397, 5.1361618 ],\n",
       "       [4.61347703, 4.6893907 ],\n",
       "       [1.45557286, 1.96601287],\n",
       "       [2.78328113, 2.85955913],\n",
       "       [3.77079814, 4.53091834],\n",
       "       [4.17648947, 4.2234597 ],\n",
       "       [3.43188194, 4.33253539],\n",
       "       [1.83204734, 2.5263108 ],\n",
       "       [3.93102349, 4.06753864],\n",
       "       [4.23844987, 4.61143145],\n",
       "       [3.91829602, 4.12788743],\n",
       "       [4.37373623, 4.53421545],\n",
       "       [3.92780623, 4.07594161],\n",
       "       [4.6577192 , 4.78827774],\n",
       "       [2.44184704, 2.73296379],\n",
       "       [4.26807038, 4.62358293],\n",
       "       [4.66624008, 5.11334479],\n",
       "       [4.11597749, 4.34493899],\n",
       "       [1.97706591, 2.46976388],\n",
       "       [4.65168933, 5.15970185],\n",
       "       [3.10818257, 4.48285222],\n",
       "       [4.59824598, 4.82196181],\n",
       "       [3.79474502, 4.20092653],\n",
       "       [4.4207396 , 4.6577192 ],\n",
       "       [3.28869105, 4.16919351],\n",
       "       [3.46872596, 4.25915748],\n",
       "       [4.46493187, 4.66267948],\n",
       "       [4.43435033, 4.95479159],\n",
       "       [4.61347703, 4.76030127],\n",
       "       [2.3752659 , 2.85132228],\n",
       "       [4.25209892, 4.4045165 ],\n",
       "       [4.58355195, 5.27214996],\n",
       "       [2.49148132, 3.52672204],\n",
       "       [3.32049502, 4.18203264],\n",
       "       [4.48683273, 5.06074783],\n",
       "       [4.6687188 , 5.23910619],\n",
       "       [3.34247478, 4.54643895],\n",
       "       [3.42279013, 3.65819485],\n",
       "       [3.31646112, 3.80282028],\n",
       "       [3.10005016, 3.66981629],\n",
       "       [3.43040767, 4.17648947],\n",
       "       [3.91829602, 4.32851314],\n",
       "       [3.18205409, 3.86693745],\n",
       "       [2.56194862, 3.52054189],\n",
       "       [2.74790574, 2.82832153],\n",
       "       [2.71711167, 2.75682759],\n",
       "       [4.42863885, 5.47357734],\n",
       "       [4.15167988, 4.55108091],\n",
       "       [3.08221859, 3.42860435],\n",
       "       [4.6687188 , 5.10097476],\n",
       "       [4.00549413, 4.39955027],\n",
       "       [2.88801865, 4.03823606],\n",
       "       [2.95536336, 3.14124851],\n",
       "       [3.87213896, 4.02968109],\n",
       "       [3.92854838, 4.6687188 ],\n",
       "       [3.25497387, 3.92780623],\n",
       "       [3.88538006, 4.12968006],\n",
       "       [2.59813845, 3.32833801],\n",
       "       [2.78019612, 3.72944805],\n",
       "       [3.47227566, 4.13197241],\n",
       "       [4.6687188 , 5.36014448],\n",
       "       [3.36347224, 4.3395473 ],\n",
       "       [4.6687188 , 4.70915876],\n",
       "       [3.88234909, 4.48285222],\n",
       "       [3.25328494, 3.97651885],\n",
       "       [4.20680895, 4.7742013 ],\n",
       "       [4.66267948, 5.21228101],\n",
       "       [4.34928074, 4.53170466],\n",
       "       [0.39662092, 1.75028743],\n",
       "       [4.06969659, 4.45778361],\n",
       "       [4.26066812, 4.8399868 ],\n",
       "       [4.09457073, 4.33520458],\n",
       "       [3.24496391, 4.2937224 ],\n",
       "       [3.20925242, 3.49789301],\n",
       "       [3.65308201, 3.83901241],\n",
       "       [4.62358293, 5.02371028],\n",
       "       [4.37373623, 4.60986223],\n",
       "       [4.43435033, 4.5708173 ],\n",
       "       [3.97270355, 4.53170466],\n",
       "       [4.24328144, 4.3044335 ],\n",
       "       [4.26041469, 4.56663652],\n",
       "       [4.52832494, 4.72965243],\n",
       "       [4.11966379, 4.54798163],\n",
       "       [4.23095352, 4.45007897],\n",
       "       [4.50694597, 4.55662886],\n",
       "       [4.63540929, 4.79239071],\n",
       "       [4.6005372 , 4.95855115],\n",
       "       [1.65674661, 3.3174366 ],\n",
       "       [3.980595  , 4.40071693],\n",
       "       [4.4045165 , 4.44975972],\n",
       "       [2.12170649, 2.51364222],\n",
       "       [4.25228462, 4.58355195],\n",
       "       [0.77879401, 1.9055062 ],\n",
       "       [4.58824128, 4.6687188 ],\n",
       "       [2.9970938 , 3.5077552 ],\n",
       "       [4.42863885, 4.81107657],\n",
       "       [4.50694597, 4.97577105],\n",
       "       [4.56945397, 5.0229383 ],\n",
       "       [4.11869519, 4.48683273],\n",
       "       [1.96755472, 2.71443472],\n",
       "       [4.42972789, 4.93621185],\n",
       "       [4.31510611, 4.37373623],\n",
       "       [4.66267948, 4.88249342],\n",
       "       [4.08200826, 4.1568577 ],\n",
       "       [2.76986964, 3.33165421],\n",
       "       [2.52232802, 2.8554441 ],\n",
       "       [4.12266002, 4.12968006],\n",
       "       [4.65792818, 5.56639579],\n",
       "       [3.13561287, 4.36592469],\n",
       "       [2.60416977, 2.6148297 ],\n",
       "       [3.55945578, 4.02968109],\n",
       "       [4.00422242, 4.06999838],\n",
       "       [3.4410913 , 3.80035998],\n",
       "       [3.3174366 , 3.44474891],\n",
       "       [3.28168933, 4.20680895],\n",
       "       [4.07806718, 4.33520458],\n",
       "       [4.33646829, 4.50976145],\n",
       "       [3.84451629, 3.85926731],\n",
       "       [4.65168933, 4.9874042 ],\n",
       "       [4.25265983, 4.66064864],\n",
       "       [4.17648947, 4.90961596],\n",
       "       [4.22266268, 4.45911177],\n",
       "       [3.43902471, 3.71830237],\n",
       "       [3.24696103, 4.16919351],\n",
       "       [4.57760349, 4.64407754],\n",
       "       [4.45778361, 4.48694267],\n",
       "       [4.67012464, 5.50137071],\n",
       "       [4.17095891, 4.33689951],\n",
       "       [1.8745559 , 2.59093387]])"
      ]
     },
     "execution_count": 43,
     "metadata": {},
     "output_type": "execute_result"
    }
   ],
   "source": [
    "# showing the actual and the predicted ITE\n",
    "pd.set_option('display.max_columns', None)\n",
    "tf = pd.DataFrame({'Actual':ite_test , 'Predicted': effect_pred})\n",
    "np.sort(tf)"
   ]
  },
  {
   "cell_type": "markdown",
   "id": "6689ccf4",
   "metadata": {},
   "source": [
    "## X-Learner"
   ]
  },
  {
   "cell_type": "code",
   "execution_count": 44,
   "id": "c40dc8d1",
   "metadata": {},
   "outputs": [],
   "source": [
    "# X-Learner\n",
    "xl = XLearner(models=RandomForestRegressor(), propensity_model=RandomForestClassifier())\n",
    "xl.fit(y_train, t_train.flatten(), X=x_train)\n",
    "\n",
    "xl_ite_test = xl.effect(x_test)"
   ]
  },
  {
   "cell_type": "code",
   "execution_count": 45,
   "id": "f67648b3",
   "metadata": {},
   "outputs": [
    {
     "data": {
      "text/plain": [
       "array([[4.67012464, 5.10817766],\n",
       "       [4.33520458, 4.35046183],\n",
       "       [4.14152586, 4.16355777],\n",
       "       [4.3044335 , 4.41250418],\n",
       "       [4.24093318, 4.63540929],\n",
       "       [4.18203264, 4.50536283],\n",
       "       [4.09773505, 4.55108091],\n",
       "       [4.66719402, 4.91841479],\n",
       "       [4.61143145, 4.77232191],\n",
       "       [4.02560435, 4.59824598],\n",
       "       [3.71830237, 4.44592402],\n",
       "       [3.95454938, 4.42505131],\n",
       "       [4.07339678, 4.12376336],\n",
       "       [3.70706728, 4.16736019],\n",
       "       [4.56945397, 4.62348829],\n",
       "       [3.06259932, 3.23622525],\n",
       "       [4.6005372 , 4.7537714 ],\n",
       "       [4.11374684, 4.22584704],\n",
       "       [4.24917575, 4.4200814 ],\n",
       "       [4.56945397, 4.57365734],\n",
       "       [4.67012464, 4.79575184],\n",
       "       [4.56945397, 4.8306826 ],\n",
       "       [4.54869845, 4.61347703],\n",
       "       [1.96601287, 2.00634241],\n",
       "       [2.84668352, 2.85955913],\n",
       "       [4.25186106, 4.53091834],\n",
       "       [4.00217373, 4.17648947],\n",
       "       [4.33253539, 4.48026423],\n",
       "       [1.83204734, 2.13860703],\n",
       "       [4.06753864, 4.1889983 ],\n",
       "       [4.18991424, 4.61143145],\n",
       "       [3.91829602, 4.05239916],\n",
       "       [4.01650179, 4.37373623],\n",
       "       [3.69726234, 3.92780623],\n",
       "       [4.6577192 , 4.7125336 ],\n",
       "       [2.55531516, 2.73296379],\n",
       "       [4.29117648, 4.62358293],\n",
       "       [4.66624008, 4.85427055],\n",
       "       [4.11597749, 4.71800108],\n",
       "       [1.97706591, 2.26225729],\n",
       "       [4.57126727, 4.65168933],\n",
       "       [4.45115522, 4.48285222],\n",
       "       [4.59824598, 4.67977718],\n",
       "       [3.64891938, 3.79474502],\n",
       "       [4.6577192 , 4.93743298],\n",
       "       [4.16919351, 4.57209407],\n",
       "       [4.25915748, 4.7518694 ],\n",
       "       [4.40773946, 4.66267948],\n",
       "       [4.43435033, 5.02795949],\n",
       "       [4.49819386, 4.61347703],\n",
       "       [2.85132228, 3.30499355],\n",
       "       [4.4045165 , 4.79113665],\n",
       "       [4.58355195, 4.75748313],\n",
       "       [2.49148132, 2.91298451],\n",
       "       [3.87462115, 4.18203264],\n",
       "       [4.48683273, 4.97472472],\n",
       "       [4.6687188 , 5.09664149],\n",
       "       [3.26871354, 3.34247478],\n",
       "       [3.65819485, 3.73345966],\n",
       "       [3.53110844, 3.80282028],\n",
       "       [3.19369772, 3.66981629],\n",
       "       [3.90940276, 4.17648947],\n",
       "       [3.91829602, 4.0816396 ],\n",
       "       [3.3937767 , 3.86693745],\n",
       "       [3.21921241, 3.52054189],\n",
       "       [2.59927227, 2.82832153],\n",
       "       [2.16570047, 2.75682759],\n",
       "       [3.85483421, 4.42863885],\n",
       "       [3.68312392, 4.55108091],\n",
       "       [2.62007978, 3.42860435],\n",
       "       [4.63561944, 4.6687188 ],\n",
       "       [3.93648688, 4.39955027],\n",
       "       [3.77126202, 4.03823606],\n",
       "       [2.95536336, 3.88453953],\n",
       "       [4.02968109, 4.07258426],\n",
       "       [4.55635133, 4.6687188 ],\n",
       "       [3.92780623, 4.02700997],\n",
       "       [4.12968006, 4.55200499],\n",
       "       [3.32833801, 3.76171834],\n",
       "       [3.62672723, 3.72944805],\n",
       "       [3.88735718, 4.13197241],\n",
       "       [4.6687188 , 5.01366808],\n",
       "       [4.3395473 , 4.63561078],\n",
       "       [4.34811533, 4.6687188 ],\n",
       "       [4.38907604, 4.48285222],\n",
       "       [3.85053966, 3.97651885],\n",
       "       [4.20680895, 4.54745574],\n",
       "       [4.45313846, 4.66267948],\n",
       "       [4.53170466, 5.00816748],\n",
       "       [0.39662092, 1.50604661],\n",
       "       [4.45778361, 4.56111702],\n",
       "       [4.24122086, 4.26066812],\n",
       "       [4.0780755 , 4.33520458],\n",
       "       [4.2937224 , 4.64783264],\n",
       "       [3.49789301, 3.59636785],\n",
       "       [3.83901241, 4.67071162],\n",
       "       [4.62358293, 4.63296557],\n",
       "       [4.37373623, 4.45913291],\n",
       "       [4.08287622, 4.43435033],\n",
       "       [4.53170466, 4.90360939],\n",
       "       [4.01437892, 4.3044335 ],\n",
       "       [4.33205103, 4.56663652],\n",
       "       [4.06655265, 4.52832494],\n",
       "       [4.22920706, 4.54798163],\n",
       "       [4.45007897, 4.81486563],\n",
       "       [3.92896323, 4.50694597],\n",
       "       [4.58862839, 4.63540929],\n",
       "       [4.33797561, 4.6005372 ],\n",
       "       [3.08412365, 3.3174366 ],\n",
       "       [4.40071693, 5.03869194],\n",
       "       [4.35148894, 4.4045165 ],\n",
       "       [0.32830866, 2.12170649],\n",
       "       [3.6392175 , 4.58355195],\n",
       "       [0.77879401, 1.63747958],\n",
       "       [4.6687188 , 5.02504077],\n",
       "       [3.27756741, 3.5077552 ],\n",
       "       [4.42863885, 4.57494479],\n",
       "       [3.92164117, 4.50694597],\n",
       "       [4.21933511, 4.56945397],\n",
       "       [3.99481426, 4.48683273],\n",
       "       [2.50416962, 2.71443472],\n",
       "       [4.42972789, 4.86976156],\n",
       "       [4.37373623, 4.49302784],\n",
       "       [4.47669339, 4.66267948],\n",
       "       [3.8825895 , 4.08200826],\n",
       "       [3.31766281, 3.33165421],\n",
       "       [2.8554441 , 3.02219305],\n",
       "       [4.12968006, 4.56984759],\n",
       "       [4.3135002 , 4.65792818],\n",
       "       [4.36592469, 4.74546673],\n",
       "       [2.6148297 , 3.32124748],\n",
       "       [4.02968109, 4.03583222],\n",
       "       [4.06999838, 4.12116049],\n",
       "       [3.73906155, 3.80035998],\n",
       "       [3.28762066, 3.3174366 ],\n",
       "       [4.20680895, 4.370766  ],\n",
       "       [4.33520458, 4.4626123 ],\n",
       "       [4.11891978, 4.50976145],\n",
       "       [3.56281501, 3.85926731],\n",
       "       [4.65168933, 4.67049066],\n",
       "       [4.25265983, 4.35597823],\n",
       "       [4.17648947, 4.36860184],\n",
       "       [4.22266268, 4.73922344],\n",
       "       [3.71830237, 3.89095907],\n",
       "       [3.92593253, 4.16919351],\n",
       "       [4.64407754, 4.88386878],\n",
       "       [4.24169999, 4.45778361],\n",
       "       [4.67012464, 5.25919624],\n",
       "       [4.33689951, 4.40416887],\n",
       "       [2.59093387, 2.87646522]])"
      ]
     },
     "execution_count": 45,
     "metadata": {},
     "output_type": "execute_result"
    }
   ],
   "source": [
    "# showing the actual and the predicted ITE\n",
    "pd.set_option('display.max_columns', None)\n",
    "xf = pd.DataFrame({'Actual':ite_test , 'Predicted': xl_ite_test})\n",
    "np.sort(xf)"
   ]
  },
  {
   "cell_type": "markdown",
   "id": "2b243bf9",
   "metadata": {},
   "source": [
    "# Metrics"
   ]
  },
  {
   "cell_type": "code",
   "execution_count": 46,
   "id": "05f1936a",
   "metadata": {},
   "outputs": [],
   "source": [
    "def abs_ate(effect_true, effect_pred):\n",
    "    \"\"\"\n",
    "    Absolute error for the Average Treatment Effect (ATE)\n",
    "    :param effect_true: true treatment effect value\n",
    "    :param effect_pred: predicted treatment effect value\n",
    "    :return: absolute error on ATE\n",
    "    \"\"\"\n",
    "    return np.abs(np.mean(effect_true)-np.mean(effect_pred))\n",
    "  \n",
    "\n",
    "def pehe(effect_true, effect_pred):\n",
    "    \"\"\"\n",
    "    Precision in Estimating the Heterogeneous Treatment Effect (PEHE)\n",
    "    :param effect_true: true treatment effect value\n",
    "    :param effect_pred: predicted treatment effect value\n",
    "    :return: PEHE\n",
    "    \"\"\"\n",
    "    return np.sqrt(np.mean((effect_true-effect_pred)**2))\n",
    "  \n",
    "\n",
    "    "
   ]
  },
  {
   "cell_type": "markdown",
   "id": "5f90041b",
   "metadata": {},
   "source": [
    "## Absolute error on ATE"
   ]
  },
  {
   "cell_type": "code",
   "execution_count": 47,
   "id": "9e4daa1b",
   "metadata": {},
   "outputs": [
    {
     "name": "stderr",
     "output_type": "stream",
     "text": [
      "\n",
      "The to_png function was deprecated in Matplotlib 3.4 and will be removed two minor releases later. Use mathtext.math_to_image instead.\n",
      "\n",
      "The to_rgba function was deprecated in Matplotlib 3.4 and will be removed two minor releases later. Use mathtext.math_to_image instead.\n",
      "\n",
      "The to_mask function was deprecated in Matplotlib 3.4 and will be removed two minor releases later. Use mathtext.math_to_image instead.\n",
      "\n",
      "The MathtextBackendBitmap class was deprecated in Matplotlib 3.4 and will be removed two minor releases later. Use mathtext.math_to_image instead.\n"
     ]
    },
    {
     "data": {
      "image/png": "[encoded data removed]",
      "text/latex": [
       "$\\displaystyle 0.0271809766705111$"
      ],
      "text/plain": [
       "0.027180976670511114"
      ]
     },
     "execution_count": 47,
     "metadata": {},
     "output_type": "execute_result"
    }
   ],
   "source": [
    "## Absolute error on ATE for Random Forrest\n",
    "rf_ate_test = abs_ate(ite_test,rf_ite_test )\n",
    "rf_ate_test"
   ]
  },
  {
   "cell_type": "code",
   "execution_count": 48,
   "id": "e6aa0e34",
   "metadata": {},
   "outputs": [
    {
     "data": {
      "image/png": "[encoded data removed]",
      "text/latex": [
       "$\\displaystyle 0.0105697201384629$"
      ],
      "text/plain": [
       "0.010569720138462912"
      ]
     },
     "execution_count": 48,
     "metadata": {},
     "output_type": "execute_result"
    }
   ],
   "source": [
    "## Absolute error on ATE for X-Learner\n",
    "xl_ate_test = abs_ate(ite_test, xl_ite_test)\n",
    "xl_ate_test"
   ]
  },
  {
   "cell_type": "markdown",
   "id": "4b2a1494",
   "metadata": {},
   "source": [
    "## Absolute error on PEHE"
   ]
  },
  {
   "cell_type": "code",
   "execution_count": 49,
   "id": "2841248d",
   "metadata": {},
   "outputs": [
    {
     "data": {
      "image/png": "[encoded data removed]",
      "text/latex": [
       "$\\displaystyle 0.616837358315894$"
      ],
      "text/plain": [
       "0.6168373583158939"
      ]
     },
     "execution_count": 49,
     "metadata": {},
     "output_type": "execute_result"
    }
   ],
   "source": [
    "## Absolute error on PEHE for Random Forrest\n",
    "rf_pehe_test = pehe(ite_test,rf_ite_test)\n",
    "rf_pehe_test"
   ]
  },
  {
   "cell_type": "code",
   "execution_count": 50,
   "id": "a3ef23f7",
   "metadata": {
    "scrolled": true
   },
   "outputs": [
    {
     "data": {
      "image/png": "[encoded data removed]",
      "text/latex": [
       "$\\displaystyle 0.390377982429978$"
      ],
      "text/plain": [
       "0.3903779824299782"
      ]
     },
     "execution_count": 50,
     "metadata": {},
     "output_type": "execute_result"
    }
   ],
   "source": [
    "## Absolute error on PEHE for X-LEARNER\n",
    "xl_pehe_test = pehe(ite_test,xl_ite_test)\n",
    "xl_pehe_test"
   ]
  },
  {
   "cell_type": "markdown",
   "id": "1a5d391d",
   "metadata": {},
   "source": [
    "## Hyperparameter optimisation"
   ]
  },
  {
   "cell_type": "code",
   "execution_count": 51,
   "id": "559e4b9c",
   "metadata": {},
   "outputs": [],
   "source": [
    "from sklearn.model_selection import cross_validate\n",
    "from sklearn.metrics import make_scorer\n",
    "from sklearn.metrics import accuracy_score as acc\n",
    "from sklearn.metrics import precision_score as precision\n",
    "from sklearn.metrics import recall_score as recall\n",
    "from sklearn.metrics import f1_score as f1\n",
    "from sklearn.model_selection import  GridSearchCV\n",
    "from sklearn.model_selection import  cross_val_score"
   ]
  },
  {
   "cell_type": "code",
   "execution_count": 52,
   "id": "ba582654",
   "metadata": {},
   "outputs": [],
   "source": [
    "clf = RandomForestRegressor()"
   ]
  },
  {
   "cell_type": "code",
   "execution_count": 53,
   "id": "f922a12c",
   "metadata": {},
   "outputs": [],
   "source": [
    "scoring_list = ['neg_mean_squared_error', 'r2']"
   ]
  },
  {
   "cell_type": "code",
   "execution_count": 55,
   "id": "2a54e003",
   "metadata": {},
   "outputs": [],
   "source": [
    "#function to get the best parameter\n",
    "def get_best_params(scoring):\n",
    "    clf = RandomForestRegressor()\n",
    "    param_grid = { \n",
    "    'n_estimators': [100, 500, 1000],\n",
    "    'max_depth' : [2,8,10]\n",
    "    }\n",
    "    clf = GridSearchCV(clf, param_grid, n_jobs = -1, cv = 10, scoring = scoring)\n",
    "    clf.fit(xt_train, y_train)\n",
    "    return clf.best_params_"
   ]
  },
  {
   "cell_type": "code",
   "execution_count": 56,
   "id": "cd9ed01e",
   "metadata": {},
   "outputs": [
    {
     "name": "stdout",
     "output_type": "stream",
     "text": [
      "{'max_depth': 8, 'n_estimators': 100}\n"
     ]
    }
   ],
   "source": [
    "print(get_best_params('neg_mean_squared_error'))"
   ]
  },
  {
   "cell_type": "code",
   "execution_count": 57,
   "id": "0db587eb",
   "metadata": {},
   "outputs": [
    {
     "name": "stdout",
     "output_type": "stream",
     "text": [
      "{'max_depth': 8, 'n_estimators': 500}\n"
     ]
    }
   ],
   "source": [
    "print(get_best_params('r2'))"
   ]
  },
  {
   "cell_type": "code",
   "execution_count": 58,
   "id": "7580d461",
   "metadata": {},
   "outputs": [],
   "source": [
    "clf = RandomForestRegressor(n_estimators=500, max_depth=8)"
   ]
  },
  {
   "cell_type": "code",
   "execution_count": 59,
   "id": "396b9014",
   "metadata": {},
   "outputs": [],
   "source": [
    "scoring_list = ['neg_mean_squared_error', 'r2']"
   ]
  },
  {
   "cell_type": "code",
   "execution_count": 60,
   "id": "fbf2242f",
   "metadata": {},
   "outputs": [],
   "source": [
    "scores = cross_validate(clf, x_train, y_train, cv=10, scoring = scoring_list)"
   ]
  },
  {
   "cell_type": "code",
   "execution_count": null,
   "id": "22b288c3",
   "metadata": {},
   "outputs": [],
   "source": []
  },
  {
   "cell_type": "code",
   "execution_count": 61,
   "id": "ca77017d",
   "metadata": {},
   "outputs": [
    {
     "name": "stdout",
     "output_type": "stream",
     "text": [
      "MSE: -3.49937854 +/- 0.86219180\n",
      "R2: 0.23584040 +/- 0.09863525\n"
     ]
    }
   ],
   "source": [
    "print(\"MSE: %.8f +/- %.8f\" % (scores['test_neg_mean_squared_error'].mean(), scores['test_neg_mean_squared_error'].std()))\n",
    "print(\"R2: %.8f +/- %.8f\" % (scores['test_r2'].mean(), scores['test_r2'].std()))"
   ]
  },
  {
   "cell_type": "code",
   "execution_count": 62,
   "id": "27749f6c",
   "metadata": {},
   "outputs": [
    {
     "data": {
      "text/html": [
       "<div>\n",
       "<style scoped>\n",
       "    .dataframe tbody tr th:only-of-type {\n",
       "        vertical-align: middle;\n",
       "    }\n",
       "\n",
       "    .dataframe tbody tr th {\n",
       "        vertical-align: top;\n",
       "    }\n",
       "\n",
       "    .dataframe thead th {\n",
       "        text-align: right;\n",
       "    }\n",
       "</style>\n",
       "<table border=\"1\" class=\"dataframe\">\n",
       "  <thead>\n",
       "    <tr style=\"text-align: right;\">\n",
       "      <th></th>\n",
       "      <th>fit_time</th>\n",
       "      <th>score_time</th>\n",
       "      <th>test_neg_mean_squared_error</th>\n",
       "      <th>test_r2</th>\n",
       "    </tr>\n",
       "  </thead>\n",
       "  <tbody>\n",
       "    <tr>\n",
       "      <th>0</th>\n",
       "      <td>1.838543</td>\n",
       "      <td>0.030895</td>\n",
       "      <td>-3.314413</td>\n",
       "      <td>0.230809</td>\n",
       "    </tr>\n",
       "    <tr>\n",
       "      <th>1</th>\n",
       "      <td>1.402060</td>\n",
       "      <td>0.072094</td>\n",
       "      <td>-2.182180</td>\n",
       "      <td>0.321901</td>\n",
       "    </tr>\n",
       "    <tr>\n",
       "      <th>2</th>\n",
       "      <td>1.616194</td>\n",
       "      <td>0.028663</td>\n",
       "      <td>-4.618690</td>\n",
       "      <td>0.169373</td>\n",
       "    </tr>\n",
       "    <tr>\n",
       "      <th>3</th>\n",
       "      <td>1.849955</td>\n",
       "      <td>0.057399</td>\n",
       "      <td>-3.032252</td>\n",
       "      <td>0.369673</td>\n",
       "    </tr>\n",
       "    <tr>\n",
       "      <th>4</th>\n",
       "      <td>1.810279</td>\n",
       "      <td>0.067638</td>\n",
       "      <td>-3.270296</td>\n",
       "      <td>0.392533</td>\n",
       "    </tr>\n",
       "    <tr>\n",
       "      <th>5</th>\n",
       "      <td>1.940043</td>\n",
       "      <td>0.032030</td>\n",
       "      <td>-4.127612</td>\n",
       "      <td>0.178127</td>\n",
       "    </tr>\n",
       "    <tr>\n",
       "      <th>6</th>\n",
       "      <td>2.040207</td>\n",
       "      <td>0.074211</td>\n",
       "      <td>-2.465282</td>\n",
       "      <td>0.123945</td>\n",
       "    </tr>\n",
       "    <tr>\n",
       "      <th>7</th>\n",
       "      <td>1.862987</td>\n",
       "      <td>0.050820</td>\n",
       "      <td>-4.517772</td>\n",
       "      <td>0.275004</td>\n",
       "    </tr>\n",
       "    <tr>\n",
       "      <th>8</th>\n",
       "      <td>1.744140</td>\n",
       "      <td>0.064485</td>\n",
       "      <td>-4.607571</td>\n",
       "      <td>0.076616</td>\n",
       "    </tr>\n",
       "    <tr>\n",
       "      <th>9</th>\n",
       "      <td>1.713385</td>\n",
       "      <td>0.069041</td>\n",
       "      <td>-2.857717</td>\n",
       "      <td>0.220423</td>\n",
       "    </tr>\n",
       "  </tbody>\n",
       "</table>\n",
       "</div>"
      ],
      "text/plain": [
       "   fit_time  score_time  test_neg_mean_squared_error   test_r2\n",
       "0  1.838543    0.030895                    -3.314413  0.230809\n",
       "1  1.402060    0.072094                    -2.182180  0.321901\n",
       "2  1.616194    0.028663                    -4.618690  0.169373\n",
       "3  1.849955    0.057399                    -3.032252  0.369673\n",
       "4  1.810279    0.067638                    -3.270296  0.392533\n",
       "5  1.940043    0.032030                    -4.127612  0.178127\n",
       "6  2.040207    0.074211                    -2.465282  0.123945\n",
       "7  1.862987    0.050820                    -4.517772  0.275004\n",
       "8  1.744140    0.064485                    -4.607571  0.076616\n",
       "9  1.713385    0.069041                    -2.857717  0.220423"
      ]
     },
     "execution_count": 62,
     "metadata": {},
     "output_type": "execute_result"
    }
   ],
   "source": [
    "#showing the scres\n",
    "ff = pd.DataFrame(scores)\n",
    "ff"
   ]
  },
  {
   "cell_type": "code",
   "execution_count": 90,
   "id": "c62da279",
   "metadata": {},
   "outputs": [
    {
     "data": {
      "text/html": [
       "<div>\n",
       "<style scoped>\n",
       "    .dataframe tbody tr th:only-of-type {\n",
       "        vertical-align: middle;\n",
       "    }\n",
       "\n",
       "    .dataframe tbody tr th {\n",
       "        vertical-align: top;\n",
       "    }\n",
       "\n",
       "    .dataframe thead th {\n",
       "        text-align: right;\n",
       "    }\n",
       "</style>\n",
       "<table border=\"1\" class=\"dataframe\">\n",
       "  <thead>\n",
       "    <tr style=\"text-align: right;\">\n",
       "      <th></th>\n",
       "      <th>Method</th>\n",
       "      <th>ATE test</th>\n",
       "      <th>PEHE test</th>\n",
       "    </tr>\n",
       "  </thead>\n",
       "  <tbody>\n",
       "    <tr>\n",
       "      <th>0</th>\n",
       "      <td>RF</td>\n",
       "      <td>0.027181</td>\n",
       "      <td>0.616837</td>\n",
       "    </tr>\n",
       "    <tr>\n",
       "      <th>1</th>\n",
       "      <td>XL</td>\n",
       "      <td>0.010570</td>\n",
       "      <td>0.390378</td>\n",
       "    </tr>\n",
       "  </tbody>\n",
       "</table>\n",
       "</div>"
      ],
      "text/plain": [
       "  Method  ATE test  PEHE test\n",
       "0     RF  0.027181   0.616837\n",
       "1     XL  0.010570   0.390378"
      ]
     },
     "execution_count": 90,
     "metadata": {},
     "output_type": "execute_result"
    }
   ],
   "source": [
    "results = []\n",
    "results.append(['RF', rf_ate_test, rf_pehe_test])\n",
    "results.append(['XL', xl_ate_test, xl_pehe_test])\n",
    "\n",
    "cols = ['Method', 'ATE test', 'PEHE test']\n",
    "\n",
    "df = pd.DataFrame(results, columns=cols)\n",
    "df"
   ]
  },
  {
   "cell_type": "code",
   "execution_count": 67,
   "id": "0702a51b",
   "metadata": {},
   "outputs": [
    {
     "data": {
      "image/png": "[encoded data removed]",
      "text/plain": [
       "<Figure size 432x288 with 1 Axes>"
      ]
     },
     "metadata": {
      "needs_background": "light"
     },
     "output_type": "display_data"
    }
   ],
   "source": [
    "plt.figure()\n",
    "plt.boxplot([rf_ite_test, xl_ite_test.flatten()], labels=['RF', 'X-learner'])\n",
    "plt.ylabel('Treatment Effect')\n",
    "\n",
    "plt.show()"
   ]
  },
  {
   "cell_type": "code",
   "execution_count": 68,
   "id": "524cf3ab",
   "metadata": {},
   "outputs": [],
   "source": [
    "# Fit the model\n",
    "clf.fit(xt_train, y_train)\n",
    "\n",
    "# Let's see the feature importances for our classifier\n",
    "importances = clf.feature_importances_\n",
    "std = np.std([tree.feature_importances_ for tree in clf.estimators_],\n",
    "             axis=0)\n",
    "indices = np.argsort(importances)[::-1]"
   ]
  },
  {
   "cell_type": "code",
   "execution_count": 69,
   "id": "dd0b51e5",
   "metadata": {},
   "outputs": [
    {
     "name": "stdout",
     "output_type": "stream",
     "text": [
      "[25  5  0 14  4  3  2  1 11  6 12 10 23 13  7 24  8 16 20 19 18  9 15 17\n",
      " 21 22]\n"
     ]
    }
   ],
   "source": [
    "print(indices)"
   ]
  },
  {
   "cell_type": "markdown",
   "id": "05b380bb",
   "metadata": {},
   "source": [
    "# Propensity score re-weighting"
   ]
  },
  {
   "cell_type": "code",
   "execution_count": 70,
   "id": "1d8f8b7f",
   "metadata": {},
   "outputs": [],
   "source": [
    "# calculating for the weight\n",
    "def get_ps_weights(clf, x, t):\n",
    "    \n",
    "    ti = np.squeeze(t)\n",
    "    clf.fit(x, ti)\n",
    "    ptx = clf.predict_proba(x).T[1].T + 0.0002 # add a small value to avoid dividing by 0  \n",
    "    wi = (ti/ptx)+((1-ti)/(1-ptx))\n",
    "    return wi"
   ]
  },
  {
   "cell_type": "code",
   "execution_count": null,
   "id": "81ad8546",
   "metadata": {},
   "outputs": [],
   "source": []
  },
  {
   "cell_type": "code",
   "execution_count": 71,
   "id": "20e3b8b8",
   "metadata": {},
   "outputs": [],
   "source": [
    "# Get the sample weights\n",
    "prop_clf = RandomForestClassifier()\n",
    "weights = get_ps_weights(prop_clf, x_train, t_train)\n",
    "\n",
    "# Train the regressor\n",
    "rf_ipsw = RandomForestRegressor()\n",
    "\n",
    "rf_ipsw.fit(xt_train, y_train, sample_weight=weights)\n",
    "\n",
    "# Make predictions\n",
    "rf_ipsw_y0_test = rf_ipsw.predict(xt0_test)\n",
    "\n",
    "rf_ipsw_y1_test = rf_ipsw.predict(xt1_test)\n",
    "\n",
    "\n",
    "# Compute ITEs\n",
    "rf_ipsw_te_test = rf_ipsw_y1_test - rf_ipsw_y0_test"
   ]
  },
  {
   "cell_type": "code",
   "execution_count": 87,
   "id": "b6ae1b7a",
   "metadata": {},
   "outputs": [
    {
     "name": "stderr",
     "output_type": "stream",
     "text": [
      "\n",
      "The to_png function was deprecated in Matplotlib 3.4 and will be removed two minor releases later. Use mathtext.math_to_image instead.\n",
      "\n",
      "The to_rgba function was deprecated in Matplotlib 3.4 and will be removed two minor releases later. Use mathtext.math_to_image instead.\n",
      "\n",
      "The to_mask function was deprecated in Matplotlib 3.4 and will be removed two minor releases later. Use mathtext.math_to_image instead.\n",
      "\n",
      "The MathtextBackendBitmap class was deprecated in Matplotlib 3.4 and will be removed two minor releases later. Use mathtext.math_to_image instead.\n"
     ]
    },
    {
     "data": {
      "image/png": "[encoded data removed]",
      "text/latex": [
       "$\\displaystyle 0.0199522779255856$"
      ],
      "text/plain": [
       "0.019952277925585626"
      ]
     },
     "execution_count": 87,
     "metadata": {},
     "output_type": "execute_result"
    }
   ],
   "source": [
    "## Absolute error on ATE for IPSW\n",
    "rf_ipsw_ate_test = abs_ate(ite_test,rf_ipsw_te_test )\n",
    "rf_ipsw_ate_test"
   ]
  },
  {
   "cell_type": "code",
   "execution_count": 88,
   "id": "56301390",
   "metadata": {},
   "outputs": [
    {
     "data": {
      "image/png": "[encoded data removed]",
      "text/latex": [
       "$\\displaystyle 0.620399025038726$"
      ],
      "text/plain": [
       "0.6203990250387259"
      ]
     },
     "execution_count": 88,
     "metadata": {},
     "output_type": "execute_result"
    }
   ],
   "source": [
    "## Absolute error on PEHE for IPSW\n",
    "rf_ipsw_pehe_test = pehe(ite_test,rf_ipsw_te_test)\n",
    "rf_ipsw_pehe_test"
   ]
  },
  {
   "cell_type": "code",
   "execution_count": 72,
   "id": "62a864d8",
   "metadata": {},
   "outputs": [],
   "source": [
    "clf = RandomForestRegressor()"
   ]
  },
  {
   "cell_type": "code",
   "execution_count": 73,
   "id": "ddd65d7e",
   "metadata": {},
   "outputs": [],
   "source": [
    "scoring_list = ['neg_mean_squared_error', 'r2']"
   ]
  },
  {
   "cell_type": "code",
   "execution_count": 74,
   "id": "b1c65bb8",
   "metadata": {},
   "outputs": [],
   "source": [
    "# Getting the best parameter\n",
    "def get_best_parameter(scoring):\n",
    "    clf = RandomForestRegressor()\n",
    "    param_grid = { \n",
    "    'n_estimators': [100, 500, 1000],\n",
    "    'max_depth' : [2,8,10]\n",
    "    }\n",
    "    clf = GridSearchCV(clf, param_grid, n_jobs = -1, cv = 10, scoring = scoring)\n",
    "    clf.fit(xt_train, y_train, sample_weight=weights)\n",
    "    return clf.best_params_"
   ]
  },
  {
   "cell_type": "code",
   "execution_count": 81,
   "id": "79cfd988",
   "metadata": {},
   "outputs": [
    {
     "name": "stdout",
     "output_type": "stream",
     "text": [
      "{'max_depth': 8, 'n_estimators': 100}\n"
     ]
    }
   ],
   "source": [
    "print(get_best_parameter('neg_mean_squared_error'))"
   ]
  },
  {
   "cell_type": "code",
   "execution_count": 76,
   "id": "76c23d42",
   "metadata": {},
   "outputs": [
    {
     "name": "stdout",
     "output_type": "stream",
     "text": [
      "{'max_depth': 8, 'n_estimators': 500}\n"
     ]
    }
   ],
   "source": [
    "print(get_best_parameter('r2'))"
   ]
  },
  {
   "cell_type": "code",
   "execution_count": 118,
   "id": "2af0958f",
   "metadata": {},
   "outputs": [],
   "source": [
    "clf = RandomForestRegressor(n_estimators=500, max_depth=8)"
   ]
  },
  {
   "cell_type": "code",
   "execution_count": 119,
   "id": "b74b435e",
   "metadata": {},
   "outputs": [],
   "source": [
    "scoring_list = ['neg_mean_squared_error', 'r2']"
   ]
  },
  {
   "cell_type": "code",
   "execution_count": 120,
   "id": "443ad330",
   "metadata": {},
   "outputs": [],
   "source": [
    "scores = cross_validate(clf, x_train, y_train, cv=10, scoring = scoring_list)"
   ]
  },
  {
   "cell_type": "code",
   "execution_count": 121,
   "id": "da1a4441",
   "metadata": {},
   "outputs": [
    {
     "name": "stdout",
     "output_type": "stream",
     "text": [
      "MSE: -3.49624786 +/- 0.83856548\n",
      "R2: 0.23467629 +/- 0.10027857\n"
     ]
    }
   ],
   "source": [
    "print(\"MSE: %.8f +/- %.8f\" % (scores['test_neg_mean_squared_error'].mean(), scores['test_neg_mean_squared_error'].std()))\n",
    "print(\"R2: %.8f +/- %.8f\" % (scores['test_r2'].mean(), scores['test_r2'].std()))"
   ]
  },
  {
   "cell_type": "code",
   "execution_count": 158,
   "id": "b4bc8b01",
   "metadata": {},
   "outputs": [
    {
     "data": {
      "text/html": [
       "<div>\n",
       "<style scoped>\n",
       "    .dataframe tbody tr th:only-of-type {\n",
       "        vertical-align: middle;\n",
       "    }\n",
       "\n",
       "    .dataframe tbody tr th {\n",
       "        vertical-align: top;\n",
       "    }\n",
       "\n",
       "    .dataframe thead th {\n",
       "        text-align: right;\n",
       "    }\n",
       "</style>\n",
       "<table border=\"1\" class=\"dataframe\">\n",
       "  <thead>\n",
       "    <tr style=\"text-align: right;\">\n",
       "      <th></th>\n",
       "      <th>fit_time</th>\n",
       "      <th>score_time</th>\n",
       "      <th>test_neg_mean_squared_error</th>\n",
       "      <th>test_r2</th>\n",
       "    </tr>\n",
       "  </thead>\n",
       "  <tbody>\n",
       "    <tr>\n",
       "      <th>0</th>\n",
       "      <td>2.446213</td>\n",
       "      <td>0.052572</td>\n",
       "      <td>-3.368445</td>\n",
       "      <td>0.218270</td>\n",
       "    </tr>\n",
       "    <tr>\n",
       "      <th>1</th>\n",
       "      <td>2.469194</td>\n",
       "      <td>0.078532</td>\n",
       "      <td>-2.265770</td>\n",
       "      <td>0.295926</td>\n",
       "    </tr>\n",
       "    <tr>\n",
       "      <th>2</th>\n",
       "      <td>2.374730</td>\n",
       "      <td>0.080131</td>\n",
       "      <td>-4.623723</td>\n",
       "      <td>0.168467</td>\n",
       "    </tr>\n",
       "    <tr>\n",
       "      <th>3</th>\n",
       "      <td>1.844838</td>\n",
       "      <td>0.038523</td>\n",
       "      <td>-3.045946</td>\n",
       "      <td>0.366827</td>\n",
       "    </tr>\n",
       "    <tr>\n",
       "      <th>4</th>\n",
       "      <td>1.576983</td>\n",
       "      <td>0.052582</td>\n",
       "      <td>-3.191798</td>\n",
       "      <td>0.407114</td>\n",
       "    </tr>\n",
       "    <tr>\n",
       "      <th>5</th>\n",
       "      <td>1.906571</td>\n",
       "      <td>0.071754</td>\n",
       "      <td>-4.082069</td>\n",
       "      <td>0.187195</td>\n",
       "    </tr>\n",
       "    <tr>\n",
       "      <th>6</th>\n",
       "      <td>1.996073</td>\n",
       "      <td>0.082900</td>\n",
       "      <td>-2.517418</td>\n",
       "      <td>0.105418</td>\n",
       "    </tr>\n",
       "    <tr>\n",
       "      <th>7</th>\n",
       "      <td>2.220693</td>\n",
       "      <td>0.067543</td>\n",
       "      <td>-4.476072</td>\n",
       "      <td>0.281696</td>\n",
       "    </tr>\n",
       "    <tr>\n",
       "      <th>8</th>\n",
       "      <td>2.063588</td>\n",
       "      <td>0.067744</td>\n",
       "      <td>-4.588368</td>\n",
       "      <td>0.080464</td>\n",
       "    </tr>\n",
       "    <tr>\n",
       "      <th>9</th>\n",
       "      <td>2.005139</td>\n",
       "      <td>0.062648</td>\n",
       "      <td>-2.802870</td>\n",
       "      <td>0.235385</td>\n",
       "    </tr>\n",
       "  </tbody>\n",
       "</table>\n",
       "</div>"
      ],
      "text/plain": [
       "   fit_time  score_time  test_neg_mean_squared_error   test_r2\n",
       "0  2.446213    0.052572                    -3.368445  0.218270\n",
       "1  2.469194    0.078532                    -2.265770  0.295926\n",
       "2  2.374730    0.080131                    -4.623723  0.168467\n",
       "3  1.844838    0.038523                    -3.045946  0.366827\n",
       "4  1.576983    0.052582                    -3.191798  0.407114\n",
       "5  1.906571    0.071754                    -4.082069  0.187195\n",
       "6  1.996073    0.082900                    -2.517418  0.105418\n",
       "7  2.220693    0.067543                    -4.476072  0.281696\n",
       "8  2.063588    0.067744                    -4.588368  0.080464\n",
       "9  2.005139    0.062648                    -2.802870  0.235385"
      ]
     },
     "execution_count": 158,
     "metadata": {},
     "output_type": "execute_result"
    }
   ],
   "source": [
    "# getting the score\n",
    "sc = pd.DataFrame(scores)\n",
    "sc"
   ]
  },
  {
   "cell_type": "code",
   "execution_count": 122,
   "id": "71ec1005",
   "metadata": {},
   "outputs": [
    {
     "data": {
      "text/html": [
       "<div>\n",
       "<style scoped>\n",
       "    .dataframe tbody tr th:only-of-type {\n",
       "        vertical-align: middle;\n",
       "    }\n",
       "\n",
       "    .dataframe tbody tr th {\n",
       "        vertical-align: top;\n",
       "    }\n",
       "\n",
       "    .dataframe thead th {\n",
       "        text-align: right;\n",
       "    }\n",
       "</style>\n",
       "<table border=\"1\" class=\"dataframe\">\n",
       "  <thead>\n",
       "    <tr style=\"text-align: right;\">\n",
       "      <th></th>\n",
       "      <th>Method</th>\n",
       "      <th>ATE test</th>\n",
       "      <th>PEHE test</th>\n",
       "    </tr>\n",
       "  </thead>\n",
       "  <tbody>\n",
       "    <tr>\n",
       "      <th>0</th>\n",
       "      <td>RF</td>\n",
       "      <td>0.027181</td>\n",
       "      <td>0.616837</td>\n",
       "    </tr>\n",
       "    <tr>\n",
       "      <th>1</th>\n",
       "      <td>RF (IPW)</td>\n",
       "      <td>0.019952</td>\n",
       "      <td>0.620399</td>\n",
       "    </tr>\n",
       "    <tr>\n",
       "      <th>2</th>\n",
       "      <td>XL</td>\n",
       "      <td>0.010570</td>\n",
       "      <td>0.390378</td>\n",
       "    </tr>\n",
       "  </tbody>\n",
       "</table>\n",
       "</div>"
      ],
      "text/plain": [
       "     Method  ATE test  PEHE test\n",
       "0        RF  0.027181   0.616837\n",
       "1  RF (IPW)  0.019952   0.620399\n",
       "2        XL  0.010570   0.390378"
      ]
     },
     "execution_count": 122,
     "metadata": {},
     "output_type": "execute_result"
    }
   ],
   "source": [
    "results = []\n",
    "results.append(['RF', rf_ate_test, rf_pehe_test])\n",
    "results.append(['RF (IPW)', rf_ipsw_ate_test, rf_ipsw_pehe_test])\n",
    "results.append(['XL', xl_ate_test, xl_pehe_test])\n",
    "\n",
    "cols = ['Method', 'ATE test', 'PEHE test']\n",
    "\n",
    "df = pd.DataFrame(results, columns=cols)\n",
    "df"
   ]
  },
  {
   "cell_type": "code",
   "execution_count": 124,
   "id": "ee66b5aa",
   "metadata": {},
   "outputs": [
    {
     "data": {
      "text/html": [
       "<div>\n",
       "<style scoped>\n",
       "    .dataframe tbody tr th:only-of-type {\n",
       "        vertical-align: middle;\n",
       "    }\n",
       "\n",
       "    .dataframe tbody tr th {\n",
       "        vertical-align: top;\n",
       "    }\n",
       "\n",
       "    .dataframe thead th {\n",
       "        text-align: right;\n",
       "    }\n",
       "</style>\n",
       "<table border=\"1\" class=\"dataframe\">\n",
       "  <thead>\n",
       "    <tr style=\"text-align: right;\">\n",
       "      <th></th>\n",
       "      <th>x1</th>\n",
       "      <th>x2</th>\n",
       "      <th>x3</th>\n",
       "      <th>x4</th>\n",
       "      <th>x5</th>\n",
       "      <th>x6</th>\n",
       "      <th>x7</th>\n",
       "      <th>x8</th>\n",
       "      <th>x9</th>\n",
       "      <th>x10</th>\n",
       "      <th>x11</th>\n",
       "      <th>x12</th>\n",
       "      <th>x13</th>\n",
       "      <th>x14</th>\n",
       "      <th>x15</th>\n",
       "      <th>x16</th>\n",
       "      <th>x17</th>\n",
       "      <th>x18</th>\n",
       "      <th>x19</th>\n",
       "      <th>x20</th>\n",
       "      <th>x21</th>\n",
       "      <th>x22</th>\n",
       "      <th>x23</th>\n",
       "      <th>x24</th>\n",
       "      <th>x25</th>\n",
       "    </tr>\n",
       "  </thead>\n",
       "  <tbody>\n",
       "    <tr>\n",
       "      <th>0</th>\n",
       "      <td>1.397395</td>\n",
       "      <td>0.996346</td>\n",
       "      <td>-1.105624</td>\n",
       "      <td>-0.879606</td>\n",
       "      <td>0.308569</td>\n",
       "      <td>-1.023402</td>\n",
       "      <td>1.0</td>\n",
       "      <td>0.0</td>\n",
       "      <td>0.0</td>\n",
       "      <td>0.0</td>\n",
       "      <td>1.0</td>\n",
       "      <td>0.0</td>\n",
       "      <td>1.0</td>\n",
       "      <td>1.0</td>\n",
       "      <td>0.0</td>\n",
       "      <td>0.0</td>\n",
       "      <td>1.0</td>\n",
       "      <td>1.0</td>\n",
       "      <td>0.0</td>\n",
       "      <td>0.0</td>\n",
       "      <td>0.0</td>\n",
       "      <td>0.0</td>\n",
       "      <td>0.0</td>\n",
       "      <td>0.0</td>\n",
       "      <td>1.0</td>\n",
       "    </tr>\n",
       "    <tr>\n",
       "      <th>1</th>\n",
       "      <td>0.269033</td>\n",
       "      <td>0.196818</td>\n",
       "      <td>0.383828</td>\n",
       "      <td>0.161703</td>\n",
       "      <td>-0.629189</td>\n",
       "      <td>1.460832</td>\n",
       "      <td>1.0</td>\n",
       "      <td>0.0</td>\n",
       "      <td>1.0</td>\n",
       "      <td>0.0</td>\n",
       "      <td>0.0</td>\n",
       "      <td>1.0</td>\n",
       "      <td>0.0</td>\n",
       "      <td>0.0</td>\n",
       "      <td>0.0</td>\n",
       "      <td>1.0</td>\n",
       "      <td>1.0</td>\n",
       "      <td>1.0</td>\n",
       "      <td>1.0</td>\n",
       "      <td>0.0</td>\n",
       "      <td>0.0</td>\n",
       "      <td>0.0</td>\n",
       "      <td>0.0</td>\n",
       "      <td>0.0</td>\n",
       "      <td>0.0</td>\n",
       "    </tr>\n",
       "    <tr>\n",
       "      <th>2</th>\n",
       "      <td>1.051537</td>\n",
       "      <td>1.795874</td>\n",
       "      <td>-1.105624</td>\n",
       "      <td>0.161703</td>\n",
       "      <td>-0.629189</td>\n",
       "      <td>0.963985</td>\n",
       "      <td>1.0</td>\n",
       "      <td>0.0</td>\n",
       "      <td>1.0</td>\n",
       "      <td>1.0</td>\n",
       "      <td>0.0</td>\n",
       "      <td>0.0</td>\n",
       "      <td>0.0</td>\n",
       "      <td>0.0</td>\n",
       "      <td>0.0</td>\n",
       "      <td>1.0</td>\n",
       "      <td>1.0</td>\n",
       "      <td>1.0</td>\n",
       "      <td>0.0</td>\n",
       "      <td>0.0</td>\n",
       "      <td>0.0</td>\n",
       "      <td>0.0</td>\n",
       "      <td>0.0</td>\n",
       "      <td>0.0</td>\n",
       "      <td>1.0</td>\n",
       "    </tr>\n",
       "    <tr>\n",
       "      <th>3</th>\n",
       "      <td>0.662446</td>\n",
       "      <td>0.196818</td>\n",
       "      <td>-0.733261</td>\n",
       "      <td>-0.879606</td>\n",
       "      <td>0.371086</td>\n",
       "      <td>-0.692171</td>\n",
       "      <td>1.0</td>\n",
       "      <td>0.0</td>\n",
       "      <td>0.0</td>\n",
       "      <td>0.0</td>\n",
       "      <td>0.0</td>\n",
       "      <td>1.0</td>\n",
       "      <td>0.0</td>\n",
       "      <td>1.0</td>\n",
       "      <td>0.0</td>\n",
       "      <td>1.0</td>\n",
       "      <td>0.0</td>\n",
       "      <td>1.0</td>\n",
       "      <td>0.0</td>\n",
       "      <td>1.0</td>\n",
       "      <td>0.0</td>\n",
       "      <td>0.0</td>\n",
       "      <td>0.0</td>\n",
       "      <td>0.0</td>\n",
       "      <td>0.0</td>\n",
       "    </tr>\n",
       "    <tr>\n",
       "      <th>4</th>\n",
       "      <td>0.856992</td>\n",
       "      <td>1.795874</td>\n",
       "      <td>0.011465</td>\n",
       "      <td>-0.879606</td>\n",
       "      <td>0.558638</td>\n",
       "      <td>0.301522</td>\n",
       "      <td>0.0</td>\n",
       "      <td>1.0</td>\n",
       "      <td>1.0</td>\n",
       "      <td>0.0</td>\n",
       "      <td>0.0</td>\n",
       "      <td>0.0</td>\n",
       "      <td>0.0</td>\n",
       "      <td>1.0</td>\n",
       "      <td>0.0</td>\n",
       "      <td>1.0</td>\n",
       "      <td>0.0</td>\n",
       "      <td>1.0</td>\n",
       "      <td>1.0</td>\n",
       "      <td>0.0</td>\n",
       "      <td>0.0</td>\n",
       "      <td>0.0</td>\n",
       "      <td>0.0</td>\n",
       "      <td>0.0</td>\n",
       "      <td>0.0</td>\n",
       "    </tr>\n",
       "    <tr>\n",
       "      <th>...</th>\n",
       "      <td>...</td>\n",
       "      <td>...</td>\n",
       "      <td>...</td>\n",
       "      <td>...</td>\n",
       "      <td>...</td>\n",
       "      <td>...</td>\n",
       "      <td>...</td>\n",
       "      <td>...</td>\n",
       "      <td>...</td>\n",
       "      <td>...</td>\n",
       "      <td>...</td>\n",
       "      <td>...</td>\n",
       "      <td>...</td>\n",
       "      <td>...</td>\n",
       "      <td>...</td>\n",
       "      <td>...</td>\n",
       "      <td>...</td>\n",
       "      <td>...</td>\n",
       "      <td>...</td>\n",
       "      <td>...</td>\n",
       "      <td>...</td>\n",
       "      <td>...</td>\n",
       "      <td>...</td>\n",
       "      <td>...</td>\n",
       "      <td>...</td>\n",
       "    </tr>\n",
       "    <tr>\n",
       "      <th>742</th>\n",
       "      <td>-1.853672</td>\n",
       "      <td>-2.201766</td>\n",
       "      <td>1.500917</td>\n",
       "      <td>0.161703</td>\n",
       "      <td>-0.129052</td>\n",
       "      <td>-1.023402</td>\n",
       "      <td>1.0</td>\n",
       "      <td>0.0</td>\n",
       "      <td>0.0</td>\n",
       "      <td>1.0</td>\n",
       "      <td>0.0</td>\n",
       "      <td>0.0</td>\n",
       "      <td>0.0</td>\n",
       "      <td>0.0</td>\n",
       "      <td>0.0</td>\n",
       "      <td>1.0</td>\n",
       "      <td>0.0</td>\n",
       "      <td>1.0</td>\n",
       "      <td>0.0</td>\n",
       "      <td>0.0</td>\n",
       "      <td>0.0</td>\n",
       "      <td>0.0</td>\n",
       "      <td>1.0</td>\n",
       "      <td>0.0</td>\n",
       "      <td>0.0</td>\n",
       "    </tr>\n",
       "    <tr>\n",
       "      <th>743</th>\n",
       "      <td>-1.066845</td>\n",
       "      <td>-1.402238</td>\n",
       "      <td>1.128554</td>\n",
       "      <td>2.244320</td>\n",
       "      <td>0.371086</td>\n",
       "      <td>2.288910</td>\n",
       "      <td>0.0</td>\n",
       "      <td>0.0</td>\n",
       "      <td>1.0</td>\n",
       "      <td>0.0</td>\n",
       "      <td>1.0</td>\n",
       "      <td>0.0</td>\n",
       "      <td>1.0</td>\n",
       "      <td>0.0</td>\n",
       "      <td>0.0</td>\n",
       "      <td>1.0</td>\n",
       "      <td>0.0</td>\n",
       "      <td>1.0</td>\n",
       "      <td>0.0</td>\n",
       "      <td>1.0</td>\n",
       "      <td>0.0</td>\n",
       "      <td>0.0</td>\n",
       "      <td>0.0</td>\n",
       "      <td>0.0</td>\n",
       "      <td>0.0</td>\n",
       "    </tr>\n",
       "    <tr>\n",
       "      <th>744</th>\n",
       "      <td>-1.045229</td>\n",
       "      <td>-1.337276</td>\n",
       "      <td>1.128554</td>\n",
       "      <td>-0.879606</td>\n",
       "      <td>0.683672</td>\n",
       "      <td>0.301522</td>\n",
       "      <td>1.0</td>\n",
       "      <td>0.0</td>\n",
       "      <td>1.0</td>\n",
       "      <td>0.0</td>\n",
       "      <td>0.0</td>\n",
       "      <td>0.0</td>\n",
       "      <td>0.0</td>\n",
       "      <td>1.0</td>\n",
       "      <td>0.0</td>\n",
       "      <td>1.0</td>\n",
       "      <td>1.0</td>\n",
       "      <td>1.0</td>\n",
       "      <td>1.0</td>\n",
       "      <td>0.0</td>\n",
       "      <td>0.0</td>\n",
       "      <td>0.0</td>\n",
       "      <td>0.0</td>\n",
       "      <td>0.0</td>\n",
       "      <td>0.0</td>\n",
       "    </tr>\n",
       "    <tr>\n",
       "      <th>745</th>\n",
       "      <td>-0.115735</td>\n",
       "      <td>-0.602710</td>\n",
       "      <td>-1.105624</td>\n",
       "      <td>2.244320</td>\n",
       "      <td>0.558638</td>\n",
       "      <td>2.785756</td>\n",
       "      <td>1.0</td>\n",
       "      <td>0.0</td>\n",
       "      <td>1.0</td>\n",
       "      <td>0.0</td>\n",
       "      <td>0.0</td>\n",
       "      <td>1.0</td>\n",
       "      <td>0.0</td>\n",
       "      <td>0.0</td>\n",
       "      <td>0.0</td>\n",
       "      <td>1.0</td>\n",
       "      <td>1.0</td>\n",
       "      <td>1.0</td>\n",
       "      <td>0.0</td>\n",
       "      <td>0.0</td>\n",
       "      <td>0.0</td>\n",
       "      <td>0.0</td>\n",
       "      <td>1.0</td>\n",
       "      <td>0.0</td>\n",
       "      <td>0.0</td>\n",
       "    </tr>\n",
       "    <tr>\n",
       "      <th>746</th>\n",
       "      <td>1.419011</td>\n",
       "      <td>1.396110</td>\n",
       "      <td>-0.733261</td>\n",
       "      <td>2.244320</td>\n",
       "      <td>-0.441638</td>\n",
       "      <td>-0.195324</td>\n",
       "      <td>0.0</td>\n",
       "      <td>1.0</td>\n",
       "      <td>1.0</td>\n",
       "      <td>0.0</td>\n",
       "      <td>1.0</td>\n",
       "      <td>0.0</td>\n",
       "      <td>0.0</td>\n",
       "      <td>0.0</td>\n",
       "      <td>0.0</td>\n",
       "      <td>1.0</td>\n",
       "      <td>0.0</td>\n",
       "      <td>1.0</td>\n",
       "      <td>0.0</td>\n",
       "      <td>0.0</td>\n",
       "      <td>0.0</td>\n",
       "      <td>0.0</td>\n",
       "      <td>0.0</td>\n",
       "      <td>0.0</td>\n",
       "      <td>1.0</td>\n",
       "    </tr>\n",
       "  </tbody>\n",
       "</table>\n",
       "<p>747 rows × 25 columns</p>\n",
       "</div>"
      ],
      "text/plain": [
       "           x1        x2        x3        x4        x5        x6   x7   x8  \\\n",
       "0    1.397395  0.996346 -1.105624 -0.879606  0.308569 -1.023402  1.0  0.0   \n",
       "1    0.269033  0.196818  0.383828  0.161703 -0.629189  1.460832  1.0  0.0   \n",
       "2    1.051537  1.795874 -1.105624  0.161703 -0.629189  0.963985  1.0  0.0   \n",
       "3    0.662446  0.196818 -0.733261 -0.879606  0.371086 -0.692171  1.0  0.0   \n",
       "4    0.856992  1.795874  0.011465 -0.879606  0.558638  0.301522  0.0  1.0   \n",
       "..        ...       ...       ...       ...       ...       ...  ...  ...   \n",
       "742 -1.853672 -2.201766  1.500917  0.161703 -0.129052 -1.023402  1.0  0.0   \n",
       "743 -1.066845 -1.402238  1.128554  2.244320  0.371086  2.288910  0.0  0.0   \n",
       "744 -1.045229 -1.337276  1.128554 -0.879606  0.683672  0.301522  1.0  0.0   \n",
       "745 -0.115735 -0.602710 -1.105624  2.244320  0.558638  2.785756  1.0  0.0   \n",
       "746  1.419011  1.396110 -0.733261  2.244320 -0.441638 -0.195324  0.0  1.0   \n",
       "\n",
       "      x9  x10  x11  x12  x13  x14  x15  x16  x17  x18  x19  x20  x21  x22  \\\n",
       "0    0.0  0.0  1.0  0.0  1.0  1.0  0.0  0.0  1.0  1.0  0.0  0.0  0.0  0.0   \n",
       "1    1.0  0.0  0.0  1.0  0.0  0.0  0.0  1.0  1.0  1.0  1.0  0.0  0.0  0.0   \n",
       "2    1.0  1.0  0.0  0.0  0.0  0.0  0.0  1.0  1.0  1.0  0.0  0.0  0.0  0.0   \n",
       "3    0.0  0.0  0.0  1.0  0.0  1.0  0.0  1.0  0.0  1.0  0.0  1.0  0.0  0.0   \n",
       "4    1.0  0.0  0.0  0.0  0.0  1.0  0.0  1.0  0.0  1.0  1.0  0.0  0.0  0.0   \n",
       "..   ...  ...  ...  ...  ...  ...  ...  ...  ...  ...  ...  ...  ...  ...   \n",
       "742  0.0  1.0  0.0  0.0  0.0  0.0  0.0  1.0  0.0  1.0  0.0  0.0  0.0  0.0   \n",
       "743  1.0  0.0  1.0  0.0  1.0  0.0  0.0  1.0  0.0  1.0  0.0  1.0  0.0  0.0   \n",
       "744  1.0  0.0  0.0  0.0  0.0  1.0  0.0  1.0  1.0  1.0  1.0  0.0  0.0  0.0   \n",
       "745  1.0  0.0  0.0  1.0  0.0  0.0  0.0  1.0  1.0  1.0  0.0  0.0  0.0  0.0   \n",
       "746  1.0  0.0  1.0  0.0  0.0  0.0  0.0  1.0  0.0  1.0  0.0  0.0  0.0  0.0   \n",
       "\n",
       "     x23  x24  x25  \n",
       "0    0.0  0.0  1.0  \n",
       "1    0.0  0.0  0.0  \n",
       "2    0.0  0.0  1.0  \n",
       "3    0.0  0.0  0.0  \n",
       "4    0.0  0.0  0.0  \n",
       "..   ...  ...  ...  \n",
       "742  1.0  0.0  0.0  \n",
       "743  0.0  0.0  0.0  \n",
       "744  0.0  0.0  0.0  \n",
       "745  1.0  0.0  0.0  \n",
       "746  0.0  0.0  1.0  \n",
       "\n",
       "[747 rows x 25 columns]"
      ]
     },
     "execution_count": 124,
     "metadata": {},
     "output_type": "execute_result"
    }
   ],
   "source": []
  },
  {
   "cell_type": "markdown",
   "id": "a499ecbe",
   "metadata": {},
   "source": [
    "# feature important"
   ]
  },
  {
   "cell_type": "code",
   "execution_count": 141,
   "id": "044c290f",
   "metadata": {},
   "outputs": [],
   "source": [
    "from sklearn.inspection import permutation_importance\n",
    "from matplotlib import pyplot as plt"
   ]
  },
  {
   "cell_type": "code",
   "execution_count": 142,
   "id": "193fe424",
   "metadata": {},
   "outputs": [],
   "source": [
    "rf = RandomForestRegressor(n_estimators=500, max_depth=8)"
   ]
  },
  {
   "cell_type": "code",
   "execution_count": 143,
   "id": "feebadb9",
   "metadata": {},
   "outputs": [
    {
     "data": {
      "text/plain": [
       "RandomForestRegressor(max_depth=8, n_estimators=500)"
      ]
     },
     "execution_count": 143,
     "metadata": {},
     "output_type": "execute_result"
    }
   ],
   "source": [
    "rf.fit(xt_train,y_train)"
   ]
  },
  {
   "cell_type": "code",
   "execution_count": 144,
   "id": "25633535",
   "metadata": {},
   "outputs": [],
   "source": [
    "sort = rf.feature_importances_.argsort()"
   ]
  },
  {
   "cell_type": "code",
   "execution_count": 145,
   "id": "8ca6df2f",
   "metadata": {},
   "outputs": [],
   "source": [
    "importances = rf.feature_importances_\n",
    "std = np.std([tree.feature_importances_ for tree in rf.estimators_],\n",
    "             axis=0)\n",
    "indices = np.argsort(importances)[::-1]"
   ]
  },
  {
   "cell_type": "code",
   "execution_count": 146,
   "id": "98a1b847",
   "metadata": {},
   "outputs": [
    {
     "name": "stdout",
     "output_type": "stream",
     "text": [
      "[25  5 14  0  4  3  1  2 11  6 12 10 24 23  8  7 13 16 20 19 15  9 18 17\n",
      " 21 22]\n"
     ]
    }
   ],
   "source": [
    "print (indices)"
   ]
  },
  {
   "cell_type": "code",
   "execution_count": 147,
   "id": "31ebddd0",
   "metadata": {},
   "outputs": [
    {
     "data": {
      "text/plain": [
       "Text(0.5, 0, 'FEATURE IMPORTANCES')"
      ]
     },
     "execution_count": 147,
     "metadata": {},
     "output_type": "execute_result"
    },
    {
     "data": {
      "image/png": "[encoded data removed]",
      "text/plain": [
       "<Figure size 432x288 with 1 Axes>"
      ]
     },
     "metadata": {
      "needs_background": "light"
     },
     "output_type": "display_data"
    }
   ],
   "source": [
    "plt.bar(indices[sort], rf.feature_importances_[sort])\n",
    "plt.xlabel(\"FEATURE IMPORTANCES\")"
   ]
  },
  {
   "cell_type": "markdown",
   "id": "d37da77e",
   "metadata": {},
   "source": [
    "# CATE"
   ]
  },
  {
   "cell_type": "code",
   "execution_count": 179,
   "id": "a9c19ba1",
   "metadata": {},
   "outputs": [],
   "source": [
    "from causalinference import CausalModel\n",
    "from econml.dml import CausalForestDML "
   ]
  },
  {
   "cell_type": "code",
   "execution_count": 180,
   "id": "f310640c",
   "metadata": {},
   "outputs": [],
   "source": [
    "est_nonparam = CausalForestDML(model_y=GradientBoostingRegressor(), model_t=GradientBoostingRegressor())"
   ]
  },
  {
   "cell_type": "code",
   "execution_count": 211,
   "id": "500d2f7d",
   "metadata": {},
   "outputs": [
    {
     "data": {
      "image/png": "[encoded data removed]",
      "text/latex": [
       "$\\displaystyle \\left( 747, \\  1\\right)$"
      ],
      "text/plain": [
       "(747, 1)"
      ]
     },
     "execution_count": 211,
     "metadata": {},
     "output_type": "execute_result"
    }
   ],
   "source": [
    "Y = np.reshape(Y,(-1, 1))\n",
    "Y.shape"
   ]
  },
  {
   "cell_type": "code",
   "execution_count": 212,
   "id": "7ba4cabb",
   "metadata": {},
   "outputs": [],
   "source": [
    "Y=Y.ravel()"
   ]
  },
  {
   "cell_type": "code",
   "execution_count": 213,
   "id": "a5b055ac",
   "metadata": {},
   "outputs": [
    {
     "name": "stderr",
     "output_type": "stream",
     "text": [
      "A column-vector y was passed when a 1d array was expected. Please change the shape of y to (n_samples, ), for example using ravel().\n",
      "A column-vector y was passed when a 1d array was expected. Please change the shape of y to (n_samples, ), for example using ravel().\n"
     ]
    }
   ],
   "source": [
    "est_nonparam_dw = est_nonparam.dowhy.fit(Y, T, X=X )"
   ]
  },
  {
   "cell_type": "code",
   "execution_count": null,
   "id": "4699e2dc",
   "metadata": {},
   "outputs": [],
   "source": []
  }
 ],
 "metadata": {
  "kernelspec": {
   "display_name": "Python 3 (ipykernel)",
   "language": "python",
   "name": "python3"
  },
  "language_info": {
   "codemirror_mode": {
    "name": "ipython",
    "version": 3
   },
   "file_extension": ".py",
   "mimetype": "text/x-python",
   "name": "python",
   "nbconvert_exporter": "python",
   "pygments_lexer": "ipython3",
   "version": "3.9.7"
  }
 },
 "nbformat": 4,
 "nbformat_minor": 5
}
